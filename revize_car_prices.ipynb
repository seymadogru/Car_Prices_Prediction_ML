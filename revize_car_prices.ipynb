{
 "cells": [
  {
   "cell_type": "code",
   "execution_count": 1,
   "id": "8cca3008",
   "metadata": {},
   "outputs": [],
   "source": [
    "import numpy as np\n",
    "import pandas as pd\n",
    "import matplotlib.pyplot as plt\n",
    "import scipy\n",
    "import seaborn as sns\n",
    "from sklearn import linear_model\n",
    "%matplotlib inline\n",
    "\n",
    "import warnings\n",
    "warnings.filterwarnings('ignore')"
   ]
  },
  {
   "cell_type": "code",
   "execution_count": 2,
   "id": "64245bdd",
   "metadata": {},
   "outputs": [
    {
     "data": {
      "text/html": [
       "<div>\n",
       "<style scoped>\n",
       "    .dataframe tbody tr th:only-of-type {\n",
       "        vertical-align: middle;\n",
       "    }\n",
       "\n",
       "    .dataframe tbody tr th {\n",
       "        vertical-align: top;\n",
       "    }\n",
       "\n",
       "    .dataframe thead th {\n",
       "        text-align: right;\n",
       "    }\n",
       "</style>\n",
       "<table border=\"1\" class=\"dataframe\">\n",
       "  <thead>\n",
       "    <tr style=\"text-align: right;\">\n",
       "      <th></th>\n",
       "      <th>symboling</th>\n",
       "      <th>CarName</th>\n",
       "      <th>fueltype</th>\n",
       "      <th>aspiration</th>\n",
       "      <th>doornumber</th>\n",
       "      <th>carbody</th>\n",
       "      <th>drivewheel</th>\n",
       "      <th>enginelocation</th>\n",
       "      <th>wheelbase</th>\n",
       "      <th>carlength</th>\n",
       "      <th>...</th>\n",
       "      <th>enginesize</th>\n",
       "      <th>fuelsystem</th>\n",
       "      <th>boreratio</th>\n",
       "      <th>stroke</th>\n",
       "      <th>compressionratio</th>\n",
       "      <th>horsepower</th>\n",
       "      <th>peakrpm</th>\n",
       "      <th>citympg</th>\n",
       "      <th>highwaympg</th>\n",
       "      <th>price</th>\n",
       "    </tr>\n",
       "  </thead>\n",
       "  <tbody>\n",
       "    <tr>\n",
       "      <th>0</th>\n",
       "      <td>3</td>\n",
       "      <td>alfa-romero giulia</td>\n",
       "      <td>gas</td>\n",
       "      <td>std</td>\n",
       "      <td>two</td>\n",
       "      <td>convertible</td>\n",
       "      <td>rwd</td>\n",
       "      <td>front</td>\n",
       "      <td>88.6</td>\n",
       "      <td>168.8</td>\n",
       "      <td>...</td>\n",
       "      <td>130</td>\n",
       "      <td>mpfi</td>\n",
       "      <td>3.47</td>\n",
       "      <td>2.68</td>\n",
       "      <td>9.0</td>\n",
       "      <td>111</td>\n",
       "      <td>5000</td>\n",
       "      <td>21</td>\n",
       "      <td>27</td>\n",
       "      <td>13495.0</td>\n",
       "    </tr>\n",
       "    <tr>\n",
       "      <th>1</th>\n",
       "      <td>3</td>\n",
       "      <td>alfa-romero stelvio</td>\n",
       "      <td>gas</td>\n",
       "      <td>std</td>\n",
       "      <td>two</td>\n",
       "      <td>convertible</td>\n",
       "      <td>rwd</td>\n",
       "      <td>front</td>\n",
       "      <td>88.6</td>\n",
       "      <td>168.8</td>\n",
       "      <td>...</td>\n",
       "      <td>130</td>\n",
       "      <td>mpfi</td>\n",
       "      <td>3.47</td>\n",
       "      <td>2.68</td>\n",
       "      <td>9.0</td>\n",
       "      <td>111</td>\n",
       "      <td>5000</td>\n",
       "      <td>21</td>\n",
       "      <td>27</td>\n",
       "      <td>16500.0</td>\n",
       "    </tr>\n",
       "    <tr>\n",
       "      <th>2</th>\n",
       "      <td>1</td>\n",
       "      <td>alfa-romero Quadrifoglio</td>\n",
       "      <td>gas</td>\n",
       "      <td>std</td>\n",
       "      <td>two</td>\n",
       "      <td>hatchback</td>\n",
       "      <td>rwd</td>\n",
       "      <td>front</td>\n",
       "      <td>94.5</td>\n",
       "      <td>171.2</td>\n",
       "      <td>...</td>\n",
       "      <td>152</td>\n",
       "      <td>mpfi</td>\n",
       "      <td>2.68</td>\n",
       "      <td>3.47</td>\n",
       "      <td>9.0</td>\n",
       "      <td>154</td>\n",
       "      <td>5000</td>\n",
       "      <td>19</td>\n",
       "      <td>26</td>\n",
       "      <td>16500.0</td>\n",
       "    </tr>\n",
       "    <tr>\n",
       "      <th>3</th>\n",
       "      <td>2</td>\n",
       "      <td>audi 100 ls</td>\n",
       "      <td>gas</td>\n",
       "      <td>std</td>\n",
       "      <td>four</td>\n",
       "      <td>sedan</td>\n",
       "      <td>fwd</td>\n",
       "      <td>front</td>\n",
       "      <td>99.8</td>\n",
       "      <td>176.6</td>\n",
       "      <td>...</td>\n",
       "      <td>109</td>\n",
       "      <td>mpfi</td>\n",
       "      <td>3.19</td>\n",
       "      <td>3.40</td>\n",
       "      <td>10.0</td>\n",
       "      <td>102</td>\n",
       "      <td>5500</td>\n",
       "      <td>24</td>\n",
       "      <td>30</td>\n",
       "      <td>13950.0</td>\n",
       "    </tr>\n",
       "    <tr>\n",
       "      <th>4</th>\n",
       "      <td>2</td>\n",
       "      <td>audi 100ls</td>\n",
       "      <td>gas</td>\n",
       "      <td>std</td>\n",
       "      <td>four</td>\n",
       "      <td>sedan</td>\n",
       "      <td>4wd</td>\n",
       "      <td>front</td>\n",
       "      <td>99.4</td>\n",
       "      <td>176.6</td>\n",
       "      <td>...</td>\n",
       "      <td>136</td>\n",
       "      <td>mpfi</td>\n",
       "      <td>3.19</td>\n",
       "      <td>3.40</td>\n",
       "      <td>8.0</td>\n",
       "      <td>115</td>\n",
       "      <td>5500</td>\n",
       "      <td>18</td>\n",
       "      <td>22</td>\n",
       "      <td>17450.0</td>\n",
       "    </tr>\n",
       "  </tbody>\n",
       "</table>\n",
       "<p>5 rows × 25 columns</p>\n",
       "</div>"
      ],
      "text/plain": [
       "   symboling                   CarName fueltype aspiration doornumber  \\\n",
       "0          3        alfa-romero giulia      gas        std        two   \n",
       "1          3       alfa-romero stelvio      gas        std        two   \n",
       "2          1  alfa-romero Quadrifoglio      gas        std        two   \n",
       "3          2               audi 100 ls      gas        std       four   \n",
       "4          2                audi 100ls      gas        std       four   \n",
       "\n",
       "       carbody drivewheel enginelocation  wheelbase  carlength  ...  \\\n",
       "0  convertible        rwd          front       88.6      168.8  ...   \n",
       "1  convertible        rwd          front       88.6      168.8  ...   \n",
       "2    hatchback        rwd          front       94.5      171.2  ...   \n",
       "3        sedan        fwd          front       99.8      176.6  ...   \n",
       "4        sedan        4wd          front       99.4      176.6  ...   \n",
       "\n",
       "   enginesize  fuelsystem  boreratio stroke compressionratio  horsepower  \\\n",
       "0         130        mpfi       3.47   2.68              9.0         111   \n",
       "1         130        mpfi       3.47   2.68              9.0         111   \n",
       "2         152        mpfi       2.68   3.47              9.0         154   \n",
       "3         109        mpfi       3.19   3.40             10.0         102   \n",
       "4         136        mpfi       3.19   3.40              8.0         115   \n",
       "\n",
       "  peakrpm  citympg  highwaympg    price  \n",
       "0    5000       21          27  13495.0  \n",
       "1    5000       21          27  16500.0  \n",
       "2    5000       19          26  16500.0  \n",
       "3    5500       24          30  13950.0  \n",
       "4    5500       18          22  17450.0  \n",
       "\n",
       "[5 rows x 25 columns]"
      ]
     },
     "execution_count": 2,
     "metadata": {},
     "output_type": "execute_result"
    }
   ],
   "source": [
    "car_prices = pd.read_csv('CarPrice_Assignment.csv')\n",
    "car_prices.drop('car_ID', axis=1,inplace=True)\n",
    "car_prices.head()"
   ]
  },
  {
   "cell_type": "code",
   "execution_count": 3,
   "id": "c95d079b",
   "metadata": {},
   "outputs": [
    {
     "name": "stdout",
     "output_type": "stream",
     "text": [
      "<class 'pandas.core.frame.DataFrame'>\n",
      "RangeIndex: 205 entries, 0 to 204\n",
      "Data columns (total 25 columns):\n",
      " #   Column            Non-Null Count  Dtype  \n",
      "---  ------            --------------  -----  \n",
      " 0   symboling         205 non-null    int64  \n",
      " 1   CarName           205 non-null    object \n",
      " 2   fueltype          205 non-null    object \n",
      " 3   aspiration        205 non-null    object \n",
      " 4   doornumber        205 non-null    object \n",
      " 5   carbody           205 non-null    object \n",
      " 6   drivewheel        205 non-null    object \n",
      " 7   enginelocation    205 non-null    object \n",
      " 8   wheelbase         205 non-null    float64\n",
      " 9   carlength         205 non-null    float64\n",
      " 10  carwidth          205 non-null    float64\n",
      " 11  carheight         205 non-null    float64\n",
      " 12  curbweight        205 non-null    int64  \n",
      " 13  enginetype        205 non-null    object \n",
      " 14  cylindernumber    205 non-null    object \n",
      " 15  enginesize        205 non-null    int64  \n",
      " 16  fuelsystem        205 non-null    object \n",
      " 17  boreratio         205 non-null    float64\n",
      " 18  stroke            205 non-null    float64\n",
      " 19  compressionratio  205 non-null    float64\n",
      " 20  horsepower        205 non-null    int64  \n",
      " 21  peakrpm           205 non-null    int64  \n",
      " 22  citympg           205 non-null    int64  \n",
      " 23  highwaympg        205 non-null    int64  \n",
      " 24  price             205 non-null    float64\n",
      "dtypes: float64(8), int64(7), object(10)\n",
      "memory usage: 40.2+ KB\n"
     ]
    }
   ],
   "source": [
    "car_prices.info()"
   ]
  },
  {
   "cell_type": "markdown",
   "id": "7b58e2a3",
   "metadata": {},
   "source": [
    "**There is no null data!**"
   ]
  },
  {
   "cell_type": "code",
   "execution_count": 4,
   "id": "3c25ddbf",
   "metadata": {},
   "outputs": [
    {
     "data": {
      "text/plain": [
       "Index(['symboling', 'CarName', 'fueltype', 'aspiration', 'doornumber',\n",
       "       'carbody', 'drivewheel', 'enginelocation', 'wheelbase', 'carlength',\n",
       "       'carwidth', 'carheight', 'curbweight', 'enginetype', 'cylindernumber',\n",
       "       'enginesize', 'fuelsystem', 'boreratio', 'stroke', 'compressionratio',\n",
       "       'horsepower', 'peakrpm', 'citympg', 'highwaympg', 'price'],\n",
       "      dtype='object')"
      ]
     },
     "execution_count": 4,
     "metadata": {},
     "output_type": "execute_result"
    }
   ],
   "source": [
    "car_prices.columns"
   ]
  },
  {
   "cell_type": "code",
   "execution_count": 5,
   "id": "85bd06da",
   "metadata": {},
   "outputs": [
    {
     "data": {
      "text/html": [
       "<div>\n",
       "<style scoped>\n",
       "    .dataframe tbody tr th:only-of-type {\n",
       "        vertical-align: middle;\n",
       "    }\n",
       "\n",
       "    .dataframe tbody tr th {\n",
       "        vertical-align: top;\n",
       "    }\n",
       "\n",
       "    .dataframe thead th {\n",
       "        text-align: right;\n",
       "    }\n",
       "</style>\n",
       "<table border=\"1\" class=\"dataframe\">\n",
       "  <thead>\n",
       "    <tr style=\"text-align: right;\">\n",
       "      <th></th>\n",
       "      <th>symboling</th>\n",
       "      <th>wheelbase</th>\n",
       "      <th>carlength</th>\n",
       "      <th>carwidth</th>\n",
       "      <th>carheight</th>\n",
       "      <th>curbweight</th>\n",
       "      <th>enginesize</th>\n",
       "      <th>boreratio</th>\n",
       "      <th>stroke</th>\n",
       "      <th>compressionratio</th>\n",
       "      <th>horsepower</th>\n",
       "      <th>peakrpm</th>\n",
       "      <th>citympg</th>\n",
       "      <th>highwaympg</th>\n",
       "      <th>price</th>\n",
       "    </tr>\n",
       "  </thead>\n",
       "  <tbody>\n",
       "    <tr>\n",
       "      <th>count</th>\n",
       "      <td>205.000000</td>\n",
       "      <td>205.000000</td>\n",
       "      <td>205.000000</td>\n",
       "      <td>205.000000</td>\n",
       "      <td>205.000000</td>\n",
       "      <td>205.000000</td>\n",
       "      <td>205.000000</td>\n",
       "      <td>205.000000</td>\n",
       "      <td>205.000000</td>\n",
       "      <td>205.000000</td>\n",
       "      <td>205.000000</td>\n",
       "      <td>205.000000</td>\n",
       "      <td>205.000000</td>\n",
       "      <td>205.000000</td>\n",
       "      <td>205.000000</td>\n",
       "    </tr>\n",
       "    <tr>\n",
       "      <th>mean</th>\n",
       "      <td>0.834146</td>\n",
       "      <td>98.756585</td>\n",
       "      <td>174.049268</td>\n",
       "      <td>65.907805</td>\n",
       "      <td>53.724878</td>\n",
       "      <td>2555.565854</td>\n",
       "      <td>126.907317</td>\n",
       "      <td>3.329756</td>\n",
       "      <td>3.255415</td>\n",
       "      <td>10.142537</td>\n",
       "      <td>104.117073</td>\n",
       "      <td>5125.121951</td>\n",
       "      <td>25.219512</td>\n",
       "      <td>30.751220</td>\n",
       "      <td>13276.710571</td>\n",
       "    </tr>\n",
       "    <tr>\n",
       "      <th>std</th>\n",
       "      <td>1.245307</td>\n",
       "      <td>6.021776</td>\n",
       "      <td>12.337289</td>\n",
       "      <td>2.145204</td>\n",
       "      <td>2.443522</td>\n",
       "      <td>520.680204</td>\n",
       "      <td>41.642693</td>\n",
       "      <td>0.270844</td>\n",
       "      <td>0.313597</td>\n",
       "      <td>3.972040</td>\n",
       "      <td>39.544167</td>\n",
       "      <td>476.985643</td>\n",
       "      <td>6.542142</td>\n",
       "      <td>6.886443</td>\n",
       "      <td>7988.852332</td>\n",
       "    </tr>\n",
       "    <tr>\n",
       "      <th>min</th>\n",
       "      <td>-2.000000</td>\n",
       "      <td>86.600000</td>\n",
       "      <td>141.100000</td>\n",
       "      <td>60.300000</td>\n",
       "      <td>47.800000</td>\n",
       "      <td>1488.000000</td>\n",
       "      <td>61.000000</td>\n",
       "      <td>2.540000</td>\n",
       "      <td>2.070000</td>\n",
       "      <td>7.000000</td>\n",
       "      <td>48.000000</td>\n",
       "      <td>4150.000000</td>\n",
       "      <td>13.000000</td>\n",
       "      <td>16.000000</td>\n",
       "      <td>5118.000000</td>\n",
       "    </tr>\n",
       "    <tr>\n",
       "      <th>25%</th>\n",
       "      <td>0.000000</td>\n",
       "      <td>94.500000</td>\n",
       "      <td>166.300000</td>\n",
       "      <td>64.100000</td>\n",
       "      <td>52.000000</td>\n",
       "      <td>2145.000000</td>\n",
       "      <td>97.000000</td>\n",
       "      <td>3.150000</td>\n",
       "      <td>3.110000</td>\n",
       "      <td>8.600000</td>\n",
       "      <td>70.000000</td>\n",
       "      <td>4800.000000</td>\n",
       "      <td>19.000000</td>\n",
       "      <td>25.000000</td>\n",
       "      <td>7788.000000</td>\n",
       "    </tr>\n",
       "    <tr>\n",
       "      <th>50%</th>\n",
       "      <td>1.000000</td>\n",
       "      <td>97.000000</td>\n",
       "      <td>173.200000</td>\n",
       "      <td>65.500000</td>\n",
       "      <td>54.100000</td>\n",
       "      <td>2414.000000</td>\n",
       "      <td>120.000000</td>\n",
       "      <td>3.310000</td>\n",
       "      <td>3.290000</td>\n",
       "      <td>9.000000</td>\n",
       "      <td>95.000000</td>\n",
       "      <td>5200.000000</td>\n",
       "      <td>24.000000</td>\n",
       "      <td>30.000000</td>\n",
       "      <td>10295.000000</td>\n",
       "    </tr>\n",
       "    <tr>\n",
       "      <th>75%</th>\n",
       "      <td>2.000000</td>\n",
       "      <td>102.400000</td>\n",
       "      <td>183.100000</td>\n",
       "      <td>66.900000</td>\n",
       "      <td>55.500000</td>\n",
       "      <td>2935.000000</td>\n",
       "      <td>141.000000</td>\n",
       "      <td>3.580000</td>\n",
       "      <td>3.410000</td>\n",
       "      <td>9.400000</td>\n",
       "      <td>116.000000</td>\n",
       "      <td>5500.000000</td>\n",
       "      <td>30.000000</td>\n",
       "      <td>34.000000</td>\n",
       "      <td>16503.000000</td>\n",
       "    </tr>\n",
       "    <tr>\n",
       "      <th>max</th>\n",
       "      <td>3.000000</td>\n",
       "      <td>120.900000</td>\n",
       "      <td>208.100000</td>\n",
       "      <td>72.300000</td>\n",
       "      <td>59.800000</td>\n",
       "      <td>4066.000000</td>\n",
       "      <td>326.000000</td>\n",
       "      <td>3.940000</td>\n",
       "      <td>4.170000</td>\n",
       "      <td>23.000000</td>\n",
       "      <td>288.000000</td>\n",
       "      <td>6600.000000</td>\n",
       "      <td>49.000000</td>\n",
       "      <td>54.000000</td>\n",
       "      <td>45400.000000</td>\n",
       "    </tr>\n",
       "  </tbody>\n",
       "</table>\n",
       "</div>"
      ],
      "text/plain": [
       "        symboling   wheelbase   carlength    carwidth   carheight  \\\n",
       "count  205.000000  205.000000  205.000000  205.000000  205.000000   \n",
       "mean     0.834146   98.756585  174.049268   65.907805   53.724878   \n",
       "std      1.245307    6.021776   12.337289    2.145204    2.443522   \n",
       "min     -2.000000   86.600000  141.100000   60.300000   47.800000   \n",
       "25%      0.000000   94.500000  166.300000   64.100000   52.000000   \n",
       "50%      1.000000   97.000000  173.200000   65.500000   54.100000   \n",
       "75%      2.000000  102.400000  183.100000   66.900000   55.500000   \n",
       "max      3.000000  120.900000  208.100000   72.300000   59.800000   \n",
       "\n",
       "        curbweight  enginesize   boreratio      stroke  compressionratio  \\\n",
       "count   205.000000  205.000000  205.000000  205.000000        205.000000   \n",
       "mean   2555.565854  126.907317    3.329756    3.255415         10.142537   \n",
       "std     520.680204   41.642693    0.270844    0.313597          3.972040   \n",
       "min    1488.000000   61.000000    2.540000    2.070000          7.000000   \n",
       "25%    2145.000000   97.000000    3.150000    3.110000          8.600000   \n",
       "50%    2414.000000  120.000000    3.310000    3.290000          9.000000   \n",
       "75%    2935.000000  141.000000    3.580000    3.410000          9.400000   \n",
       "max    4066.000000  326.000000    3.940000    4.170000         23.000000   \n",
       "\n",
       "       horsepower      peakrpm     citympg  highwaympg         price  \n",
       "count  205.000000   205.000000  205.000000  205.000000    205.000000  \n",
       "mean   104.117073  5125.121951   25.219512   30.751220  13276.710571  \n",
       "std     39.544167   476.985643    6.542142    6.886443   7988.852332  \n",
       "min     48.000000  4150.000000   13.000000   16.000000   5118.000000  \n",
       "25%     70.000000  4800.000000   19.000000   25.000000   7788.000000  \n",
       "50%     95.000000  5200.000000   24.000000   30.000000  10295.000000  \n",
       "75%    116.000000  5500.000000   30.000000   34.000000  16503.000000  \n",
       "max    288.000000  6600.000000   49.000000   54.000000  45400.000000  "
      ]
     },
     "execution_count": 5,
     "metadata": {},
     "output_type": "execute_result"
    }
   ],
   "source": [
    "car_prices.describe()"
   ]
  },
  {
   "cell_type": "code",
   "execution_count": 6,
   "id": "01d46a5d",
   "metadata": {},
   "outputs": [
    {
     "data": {
      "text/html": [
       "<div>\n",
       "<style scoped>\n",
       "    .dataframe tbody tr th:only-of-type {\n",
       "        vertical-align: middle;\n",
       "    }\n",
       "\n",
       "    .dataframe tbody tr th {\n",
       "        vertical-align: top;\n",
       "    }\n",
       "\n",
       "    .dataframe thead th {\n",
       "        text-align: right;\n",
       "    }\n",
       "</style>\n",
       "<table border=\"1\" class=\"dataframe\">\n",
       "  <thead>\n",
       "    <tr style=\"text-align: right;\">\n",
       "      <th></th>\n",
       "      <th>CarName</th>\n",
       "      <th>fueltype</th>\n",
       "      <th>aspiration</th>\n",
       "      <th>doornumber</th>\n",
       "      <th>carbody</th>\n",
       "      <th>drivewheel</th>\n",
       "      <th>enginelocation</th>\n",
       "      <th>enginetype</th>\n",
       "      <th>cylindernumber</th>\n",
       "      <th>fuelsystem</th>\n",
       "    </tr>\n",
       "  </thead>\n",
       "  <tbody>\n",
       "    <tr>\n",
       "      <th>count</th>\n",
       "      <td>205</td>\n",
       "      <td>205</td>\n",
       "      <td>205</td>\n",
       "      <td>205</td>\n",
       "      <td>205</td>\n",
       "      <td>205</td>\n",
       "      <td>205</td>\n",
       "      <td>205</td>\n",
       "      <td>205</td>\n",
       "      <td>205</td>\n",
       "    </tr>\n",
       "    <tr>\n",
       "      <th>unique</th>\n",
       "      <td>147</td>\n",
       "      <td>2</td>\n",
       "      <td>2</td>\n",
       "      <td>2</td>\n",
       "      <td>5</td>\n",
       "      <td>3</td>\n",
       "      <td>2</td>\n",
       "      <td>7</td>\n",
       "      <td>7</td>\n",
       "      <td>8</td>\n",
       "    </tr>\n",
       "    <tr>\n",
       "      <th>top</th>\n",
       "      <td>peugeot 504</td>\n",
       "      <td>gas</td>\n",
       "      <td>std</td>\n",
       "      <td>four</td>\n",
       "      <td>sedan</td>\n",
       "      <td>fwd</td>\n",
       "      <td>front</td>\n",
       "      <td>ohc</td>\n",
       "      <td>four</td>\n",
       "      <td>mpfi</td>\n",
       "    </tr>\n",
       "    <tr>\n",
       "      <th>freq</th>\n",
       "      <td>6</td>\n",
       "      <td>185</td>\n",
       "      <td>168</td>\n",
       "      <td>115</td>\n",
       "      <td>96</td>\n",
       "      <td>120</td>\n",
       "      <td>202</td>\n",
       "      <td>148</td>\n",
       "      <td>159</td>\n",
       "      <td>94</td>\n",
       "    </tr>\n",
       "  </tbody>\n",
       "</table>\n",
       "</div>"
      ],
      "text/plain": [
       "            CarName fueltype aspiration doornumber carbody drivewheel  \\\n",
       "count           205      205        205        205     205        205   \n",
       "unique          147        2          2          2       5          3   \n",
       "top     peugeot 504      gas        std       four   sedan        fwd   \n",
       "freq              6      185        168        115      96        120   \n",
       "\n",
       "       enginelocation enginetype cylindernumber fuelsystem  \n",
       "count             205        205            205        205  \n",
       "unique              2          7              7          8  \n",
       "top             front        ohc           four       mpfi  \n",
       "freq              202        148            159         94  "
      ]
     },
     "execution_count": 6,
     "metadata": {},
     "output_type": "execute_result"
    }
   ],
   "source": [
    "car_prices.describe(include = 'O')"
   ]
  },
  {
   "cell_type": "code",
   "execution_count": 7,
   "id": "5428cc2c",
   "metadata": {},
   "outputs": [],
   "source": [
    "CompanyName = car_prices['CarName'].apply(lambda x : x.split(' ')[0])\n",
    "car_prices.insert(3,\"CompanyName\",CompanyName)"
   ]
  },
  {
   "cell_type": "code",
   "execution_count": 8,
   "id": "95f04ce8",
   "metadata": {},
   "outputs": [
    {
     "data": {
      "text/plain": [
       "array(['alfa-romero', 'audi', 'bmw', 'chevrolet', 'dodge', 'honda',\n",
       "       'isuzu', 'jaguar', 'maxda', 'mazda', 'buick', 'mercury',\n",
       "       'mitsubishi', 'Nissan', 'nissan', 'peugeot', 'plymouth', 'porsche',\n",
       "       'porcshce', 'renault', 'saab', 'subaru', 'toyota', 'toyouta',\n",
       "       'vokswagen', 'volkswagen', 'vw', 'volvo'], dtype=object)"
      ]
     },
     "execution_count": 8,
     "metadata": {},
     "output_type": "execute_result"
    }
   ],
   "source": [
    "car_prices.CompanyName.unique()"
   ]
  },
  {
   "cell_type": "markdown",
   "id": "8f1d2db9",
   "metadata": {},
   "source": [
    "**First, let's fix the wrong names.**"
   ]
  },
  {
   "cell_type": "code",
   "execution_count": 9,
   "id": "77f7caed",
   "metadata": {},
   "outputs": [],
   "source": [
    "car_prices = car_prices.replace(to_replace =\"alfa-romero\", value =\"alfa-romeo\") \n",
    "car_prices = car_prices.replace(to_replace =\"maxda\", value =\"mazda\") \n",
    "car_prices = car_prices.replace(to_replace =\"porcshce\", value =\"porsche\") \n",
    "car_prices = car_prices.replace(to_replace =\"toyouta\", value =\"toyota\") \n",
    "car_prices = car_prices.replace(to_replace =\"vokswagen\", value =\"volkswagen\") \n",
    "car_prices = car_prices.replace(to_replace =\"vw\", value =\"volkswagen\")\n",
    "car_prices = car_prices.replace(to_replace =\"Nissan\", value =\"nissan\")"
   ]
  },
  {
   "cell_type": "code",
   "execution_count": 10,
   "id": "894956e8",
   "metadata": {},
   "outputs": [
    {
     "data": {
      "text/plain": [
       "array(['alfa-romeo', 'audi', 'bmw', 'chevrolet', 'dodge', 'honda',\n",
       "       'isuzu', 'jaguar', 'mazda', 'buick', 'mercury', 'mitsubishi',\n",
       "       'nissan', 'peugeot', 'plymouth', 'porsche', 'renault', 'saab',\n",
       "       'subaru', 'toyota', 'volkswagen', 'volvo'], dtype=object)"
      ]
     },
     "execution_count": 10,
     "metadata": {},
     "output_type": "execute_result"
    }
   ],
   "source": [
    "car_prices.CompanyName.unique()"
   ]
  },
  {
   "cell_type": "markdown",
   "id": "91529ad0",
   "metadata": {},
   "source": [
    "**Let's visualize the distribution of car prices.**"
   ]
  },
  {
   "cell_type": "code",
   "execution_count": 11,
   "id": "5a0c17f4",
   "metadata": {},
   "outputs": [
    {
     "data": {
      "image/png": "[encoded data removed]",
      "text/plain": [
       "<Figure size 432x288 with 1 Axes>"
      ]
     },
     "metadata": {
      "needs_background": "light"
     },
     "output_type": "display_data"
    },
    {
     "name": "stdout",
     "output_type": "stream",
     "text": [
      "count      205.000000\n",
      "mean     13276.710571\n",
      "std       7988.852332\n",
      "min       5118.000000\n",
      "25%       7788.000000\n",
      "50%      10295.000000\n",
      "75%      16503.000000\n",
      "max      45400.000000\n",
      "Name: price, dtype: float64\n"
     ]
    }
   ],
   "source": [
    "plt.title('Car Price Spread')\n",
    "sns.boxplot(y=car_prices.price)\n",
    "plt.show()\n",
    "print(car_prices.price.describe())"
   ]
  },
  {
   "cell_type": "code",
   "execution_count": 12,
   "id": "1a54f362",
   "metadata": {},
   "outputs": [
    {
     "data": {
      "image/png": "[encoded data removed]",
      "text/plain": [
       "<Figure size 432x288 with 1 Axes>"
      ]
     },
     "metadata": {
      "needs_background": "light"
     },
     "output_type": "display_data"
    }
   ],
   "source": [
    "plt.title('distribution of car prices')\n",
    "sns.distplot(car_prices.price)\n",
    "plt.show()"
   ]
  },
  {
   "cell_type": "markdown",
   "id": "c089defc",
   "metadata": {},
   "source": [
    "**Vehicle prices are generally concentrated in the low price category.**"
   ]
  },
  {
   "cell_type": "markdown",
   "id": "b2229816",
   "metadata": {},
   "source": [
    "**Let's visualize how many vehicles are in which brand.**"
   ]
  },
  {
   "cell_type": "code",
   "execution_count": 13,
   "id": "9f4841d3",
   "metadata": {},
   "outputs": [
    {
     "data": {
      "image/png": "[encoded data removed]",
      "text/plain": [
       "<Figure size 1080x432 with 1 Axes>"
      ]
     },
     "metadata": {
      "needs_background": "light"
     },
     "output_type": "display_data"
    }
   ],
   "source": [
    "plt.figure(figsize=(15,6))\n",
    "plt.xticks(rotation = 45)\n",
    "data = car_prices['CompanyName'].value_counts(ascending=False).index\n",
    "sns.countplot(x='CompanyName', data=car_prices, order=data)\n",
    "\n",
    "plt.show()"
   ]
  },
  {
   "cell_type": "markdown",
   "id": "cb0233c2",
   "metadata": {},
   "source": [
    "**The top selling brand was Toyota.**"
   ]
  },
  {
   "cell_type": "markdown",
   "id": "89bf92d5",
   "metadata": {},
   "source": [
    "**Let's visualize by fuel type.**"
   ]
  },
  {
   "cell_type": "code",
   "execution_count": 14,
   "id": "8ae901bf",
   "metadata": {},
   "outputs": [
    {
     "data": {
      "image/png": "[encoded data removed]",
      "text/plain": [
       "<Figure size 432x288 with 1 Axes>"
      ]
     },
     "metadata": {
      "needs_background": "light"
     },
     "output_type": "display_data"
    }
   ],
   "source": [
    "plt.title('Fuel Type')\n",
    "order = car_prices['fueltype'].value_counts(ascending=False).index\n",
    "sns.countplot(x='fueltype', data=car_prices, order=order)\n",
    "\n",
    "plt.show()"
   ]
  },
  {
   "cell_type": "markdown",
   "id": "38387d0d",
   "metadata": {},
   "source": [
    "**Gas-fuelled vehicles are in the majority.**"
   ]
  },
  {
   "cell_type": "markdown",
   "id": "4eee77d5",
   "metadata": {},
   "source": [
    "**Let's visualize by vehicle type.**"
   ]
  },
  {
   "cell_type": "code",
   "execution_count": 15,
   "id": "a34d9339",
   "metadata": {},
   "outputs": [
    {
     "data": {
      "image/png": "[encoded data removed]",
      "text/plain": [
       "<Figure size 432x288 with 1 Axes>"
      ]
     },
     "metadata": {
      "needs_background": "light"
     },
     "output_type": "display_data"
    }
   ],
   "source": [
    "plt.title('Car Type')\n",
    "order = car_prices['carbody'].value_counts(ascending=False).index\n",
    "sns.countplot(x='carbody', data=car_prices, order=order)\n",
    "\n",
    "plt.show()"
   ]
  },
  {
   "cell_type": "markdown",
   "id": "f426557a",
   "metadata": {},
   "source": [
    "**The most sold vehicle type was the Sedan.**"
   ]
  },
  {
   "cell_type": "markdown",
   "id": "3b780670",
   "metadata": {},
   "source": [
    "### First, let's create a model without cleaning outliers and creating new features."
   ]
  },
  {
   "cell_type": "markdown",
   "id": "273b3643",
   "metadata": {},
   "source": [
    "**Let's do Label Encoding to categorical data.**"
   ]
  },
  {
   "cell_type": "code",
   "execution_count": 16,
   "id": "6502f686",
   "metadata": {},
   "outputs": [
    {
     "data": {
      "text/plain": [
       "array([ 0,  1,  2,  4,  5,  6,  7,  8,  9,  3, 10, 11, 12, 13, 14, 15, 16,\n",
       "       17, 18, 19, 20, 21])"
      ]
     },
     "execution_count": 16,
     "metadata": {},
     "output_type": "execute_result"
    }
   ],
   "source": [
    "from sklearn import preprocessing\n",
    "\n",
    "label_encoder = preprocessing.LabelEncoder()\n",
    "car_prices['CompanyName']= label_encoder.fit_transform(car_prices['CompanyName'])\n",
    "car_prices['CompanyName'].unique()"
   ]
  },
  {
   "cell_type": "code",
   "execution_count": 17,
   "id": "d747206f",
   "metadata": {},
   "outputs": [
    {
     "data": {
      "text/plain": [
       "array([0, 2, 3, 4, 1])"
      ]
     },
     "execution_count": 17,
     "metadata": {},
     "output_type": "execute_result"
    }
   ],
   "source": [
    "car_prices['carbody']= label_encoder.fit_transform(car_prices['carbody'])\n",
    "car_prices['carbody'].unique()"
   ]
  },
  {
   "cell_type": "code",
   "execution_count": 18,
   "id": "c1b17edd",
   "metadata": {},
   "outputs": [
    {
     "data": {
      "text/plain": [
       "array([1, 0])"
      ]
     },
     "execution_count": 18,
     "metadata": {},
     "output_type": "execute_result"
    }
   ],
   "source": [
    "car_prices['fueltype']= label_encoder.fit_transform(car_prices['fueltype'])\n",
    "car_prices['fueltype'].unique()"
   ]
  },
  {
   "cell_type": "code",
   "execution_count": 19,
   "id": "90dfdb26",
   "metadata": {},
   "outputs": [
    {
     "data": {
      "text/plain": [
       "array([ 3,  1,  2,  0, -1, -2], dtype=int64)"
      ]
     },
     "execution_count": 19,
     "metadata": {},
     "output_type": "execute_result"
    }
   ],
   "source": [
    "car_prices.symboling.unique()"
   ]
  },
  {
   "cell_type": "code",
   "execution_count": 20,
   "id": "82ccfd41",
   "metadata": {},
   "outputs": [
    {
     "data": {
      "text/plain": [
       "array([0, 1])"
      ]
     },
     "execution_count": 20,
     "metadata": {},
     "output_type": "execute_result"
    }
   ],
   "source": [
    "car_prices['aspiration']= label_encoder.fit_transform(car_prices['aspiration'])\n",
    "car_prices['aspiration'].unique()"
   ]
  },
  {
   "cell_type": "code",
   "execution_count": 21,
   "id": "585aafc3",
   "metadata": {},
   "outputs": [
    {
     "data": {
      "text/plain": [
       "array(['two', 'four'], dtype=object)"
      ]
     },
     "execution_count": 21,
     "metadata": {},
     "output_type": "execute_result"
    }
   ],
   "source": [
    "car_prices.doornumber.unique()"
   ]
  },
  {
   "cell_type": "code",
   "execution_count": 22,
   "id": "220e9eb5",
   "metadata": {},
   "outputs": [],
   "source": [
    "car_prices[\"doornumber\"] = car_prices.doornumber.replace({'two':2, \"four\":4})"
   ]
  },
  {
   "cell_type": "code",
   "execution_count": 23,
   "id": "815ea9e4",
   "metadata": {},
   "outputs": [
    {
     "data": {
      "text/plain": [
       "array(['mpfi', '2bbl', 'mfi', '1bbl', 'spfi', '4bbl', 'idi', 'spdi'],\n",
       "      dtype=object)"
      ]
     },
     "execution_count": 23,
     "metadata": {},
     "output_type": "execute_result"
    }
   ],
   "source": [
    "car_prices.fuelsystem.unique()"
   ]
  },
  {
   "cell_type": "code",
   "execution_count": 24,
   "id": "b840e1f7",
   "metadata": {},
   "outputs": [
    {
     "data": {
      "text/plain": [
       "array([5, 1, 4, 0, 7, 2, 3, 6])"
      ]
     },
     "execution_count": 24,
     "metadata": {},
     "output_type": "execute_result"
    }
   ],
   "source": [
    "car_prices['fuelsystem']= label_encoder.fit_transform(car_prices['fuelsystem'])\n",
    "car_prices['fuelsystem'].unique()"
   ]
  },
  {
   "cell_type": "code",
   "execution_count": 25,
   "id": "ed5dc1bd",
   "metadata": {},
   "outputs": [
    {
     "data": {
      "text/plain": [
       "array([0, 1])"
      ]
     },
     "execution_count": 25,
     "metadata": {},
     "output_type": "execute_result"
    }
   ],
   "source": [
    "car_prices['enginelocation']= label_encoder.fit_transform(car_prices['enginelocation'])\n",
    "car_prices['enginelocation'].unique()"
   ]
  },
  {
   "cell_type": "code",
   "execution_count": 26,
   "id": "4122d2d1",
   "metadata": {},
   "outputs": [
    {
     "data": {
      "text/plain": [
       "array([2, 1, 0])"
      ]
     },
     "execution_count": 26,
     "metadata": {},
     "output_type": "execute_result"
    }
   ],
   "source": [
    "car_prices['drivewheel']= label_encoder.fit_transform(car_prices['drivewheel'])\n",
    "car_prices['drivewheel'].unique()"
   ]
  },
  {
   "cell_type": "code",
   "execution_count": 27,
   "id": "1f4a3dd1",
   "metadata": {},
   "outputs": [
    {
     "data": {
      "text/plain": [
       "array([0, 5, 3, 2, 6, 4, 1])"
      ]
     },
     "execution_count": 27,
     "metadata": {},
     "output_type": "execute_result"
    }
   ],
   "source": [
    "car_prices['enginetype']= label_encoder.fit_transform(car_prices['enginetype'])\n",
    "car_prices['enginetype'].unique()"
   ]
  },
  {
   "cell_type": "code",
   "execution_count": 28,
   "id": "5818d504",
   "metadata": {},
   "outputs": [
    {
     "data": {
      "text/plain": [
       "array([2, 3, 1, 4, 5, 6, 0])"
      ]
     },
     "execution_count": 28,
     "metadata": {},
     "output_type": "execute_result"
    }
   ],
   "source": [
    "car_prices['cylindernumber']= label_encoder.fit_transform(car_prices['cylindernumber'])\n",
    "car_prices['cylindernumber'].unique()"
   ]
  },
  {
   "cell_type": "code",
   "execution_count": 29,
   "id": "a008ca07",
   "metadata": {},
   "outputs": [
    {
     "name": "stdout",
     "output_type": "stream",
     "text": [
      "<class 'pandas.core.frame.DataFrame'>\n",
      "RangeIndex: 205 entries, 0 to 204\n",
      "Data columns (total 26 columns):\n",
      " #   Column            Non-Null Count  Dtype  \n",
      "---  ------            --------------  -----  \n",
      " 0   symboling         205 non-null    int64  \n",
      " 1   CarName           205 non-null    object \n",
      " 2   fueltype          205 non-null    int32  \n",
      " 3   CompanyName       205 non-null    int32  \n",
      " 4   aspiration        205 non-null    int32  \n",
      " 5   doornumber        205 non-null    int64  \n",
      " 6   carbody           205 non-null    int32  \n",
      " 7   drivewheel        205 non-null    int32  \n",
      " 8   enginelocation    205 non-null    int32  \n",
      " 9   wheelbase         205 non-null    float64\n",
      " 10  carlength         205 non-null    float64\n",
      " 11  carwidth          205 non-null    float64\n",
      " 12  carheight         205 non-null    float64\n",
      " 13  curbweight        205 non-null    int64  \n",
      " 14  enginetype        205 non-null    int32  \n",
      " 15  cylindernumber    205 non-null    int32  \n",
      " 16  enginesize        205 non-null    int64  \n",
      " 17  fuelsystem        205 non-null    int32  \n",
      " 18  boreratio         205 non-null    float64\n",
      " 19  stroke            205 non-null    float64\n",
      " 20  compressionratio  205 non-null    float64\n",
      " 21  horsepower        205 non-null    int64  \n",
      " 22  peakrpm           205 non-null    int64  \n",
      " 23  citympg           205 non-null    int64  \n",
      " 24  highwaympg        205 non-null    int64  \n",
      " 25  price             205 non-null    float64\n",
      "dtypes: float64(8), int32(9), int64(8), object(1)\n",
      "memory usage: 34.6+ KB\n"
     ]
    }
   ],
   "source": [
    "car_prices.drop(\"CarName\", axis=1)\n",
    "car_prices.info()"
   ]
  },
  {
   "cell_type": "markdown",
   "id": "e232f469",
   "metadata": {},
   "source": [
    "**Let's do the Linear Regression.**"
   ]
  },
  {
   "cell_type": "code",
   "execution_count": 30,
   "id": "fb37d11f",
   "metadata": {},
   "outputs": [
    {
     "data": {
      "text/plain": [
       "LinearRegression()"
      ]
     },
     "execution_count": 30,
     "metadata": {},
     "output_type": "execute_result"
    }
   ],
   "source": [
    "Y = car_prices['price']\n",
    "X = car_prices.drop(columns=['price','CarName'], axis=1)\n",
    "lrm = linear_model.LinearRegression()\n",
    "lrm.fit(X, Y)"
   ]
  },
  {
   "cell_type": "code",
   "execution_count": 31,
   "id": "f0cebcb3",
   "metadata": {},
   "outputs": [
    {
     "data": {
      "text/html": [
       "<table class=\"simpletable\">\n",
       "<caption>OLS Regression Results</caption>\n",
       "<tr>\n",
       "  <th>Dep. Variable:</th>          <td>price</td>      <th>  R-squared:         </th> <td>   0.900</td>\n",
       "</tr>\n",
       "<tr>\n",
       "  <th>Model:</th>                   <td>OLS</td>       <th>  Adj. R-squared:    </th> <td>   0.887</td>\n",
       "</tr>\n",
       "<tr>\n",
       "  <th>Method:</th>             <td>Least Squares</td>  <th>  F-statistic:       </th> <td>   67.48</td>\n",
       "</tr>\n",
       "<tr>\n",
       "  <th>Date:</th>             <td>Fri, 31 Dec 2021</td> <th>  Prob (F-statistic):</th> <td>5.15e-77</td>\n",
       "</tr>\n",
       "<tr>\n",
       "  <th>Time:</th>                 <td>14:50:40</td>     <th>  Log-Likelihood:    </th> <td> -1896.5</td>\n",
       "</tr>\n",
       "<tr>\n",
       "  <th>No. Observations:</th>      <td>   205</td>      <th>  AIC:               </th> <td>   3843.</td>\n",
       "</tr>\n",
       "<tr>\n",
       "  <th>Df Residuals:</th>          <td>   180</td>      <th>  BIC:               </th> <td>   3926.</td>\n",
       "</tr>\n",
       "<tr>\n",
       "  <th>Df Model:</th>              <td>    24</td>      <th>                     </th>     <td> </td>   \n",
       "</tr>\n",
       "<tr>\n",
       "  <th>Covariance Type:</th>      <td>nonrobust</td>    <th>                     </th>     <td> </td>   \n",
       "</tr>\n",
       "</table>\n",
       "<table class=\"simpletable\">\n",
       "<tr>\n",
       "          <td></td>            <th>coef</th>     <th>std err</th>      <th>t</th>      <th>P>|t|</th>  <th>[0.025</th>    <th>0.975]</th>  \n",
       "</tr>\n",
       "<tr>\n",
       "  <th>const</th>            <td>-6.898e+04</td> <td> 1.73e+04</td> <td>   -3.985</td> <td> 0.000</td> <td>-1.03e+05</td> <td>-3.48e+04</td>\n",
       "</tr>\n",
       "<tr>\n",
       "  <th>symboling</th>        <td>   54.1392</td> <td>  254.453</td> <td>    0.213</td> <td> 0.832</td> <td> -447.956</td> <td>  556.234</td>\n",
       "</tr>\n",
       "<tr>\n",
       "  <th>fueltype</th>         <td> 1697.5218</td> <td> 6493.460</td> <td>    0.261</td> <td> 0.794</td> <td>-1.11e+04</td> <td> 1.45e+04</td>\n",
       "</tr>\n",
       "<tr>\n",
       "  <th>CompanyName</th>      <td> -226.2118</td> <td>   37.958</td> <td>   -5.959</td> <td> 0.000</td> <td> -301.112</td> <td> -151.311</td>\n",
       "</tr>\n",
       "<tr>\n",
       "  <th>aspiration</th>       <td>  685.5914</td> <td>  891.076</td> <td>    0.769</td> <td> 0.443</td> <td>-1072.706</td> <td> 2443.889</td>\n",
       "</tr>\n",
       "<tr>\n",
       "  <th>doornumber</th>       <td>  342.7851</td> <td>  318.893</td> <td>    1.075</td> <td> 0.284</td> <td> -286.464</td> <td>  972.034</td>\n",
       "</tr>\n",
       "<tr>\n",
       "  <th>carbody</th>          <td> -879.3197</td> <td>  366.301</td> <td>   -2.401</td> <td> 0.017</td> <td>-1602.116</td> <td> -156.524</td>\n",
       "</tr>\n",
       "<tr>\n",
       "  <th>drivewheel</th>       <td>  795.6207</td> <td>  545.798</td> <td>    1.458</td> <td> 0.147</td> <td> -281.365</td> <td> 1872.606</td>\n",
       "</tr>\n",
       "<tr>\n",
       "  <th>enginelocation</th>   <td> 1.113e+04</td> <td> 2070.195</td> <td>    5.375</td> <td> 0.000</td> <td> 7043.106</td> <td> 1.52e+04</td>\n",
       "</tr>\n",
       "<tr>\n",
       "  <th>wheelbase</th>        <td>  116.9926</td> <td>  103.223</td> <td>    1.133</td> <td> 0.259</td> <td>  -86.690</td> <td>  320.675</td>\n",
       "</tr>\n",
       "<tr>\n",
       "  <th>carlength</th>        <td>  -10.9639</td> <td>   52.553</td> <td>   -0.209</td> <td> 0.835</td> <td> -114.662</td> <td>   92.734</td>\n",
       "</tr>\n",
       "<tr>\n",
       "  <th>carwidth</th>         <td>  587.4411</td> <td>  262.927</td> <td>    2.234</td> <td> 0.027</td> <td>   68.626</td> <td> 1106.256</td>\n",
       "</tr>\n",
       "<tr>\n",
       "  <th>carheight</th>        <td>  266.8277</td> <td>  135.578</td> <td>    1.968</td> <td> 0.051</td> <td>   -0.698</td> <td>  534.354</td>\n",
       "</tr>\n",
       "<tr>\n",
       "  <th>curbweight</th>       <td>    2.4712</td> <td>    1.580</td> <td>    1.564</td> <td> 0.119</td> <td>   -0.646</td> <td>    5.588</td>\n",
       "</tr>\n",
       "<tr>\n",
       "  <th>enginetype</th>       <td>  146.2704</td> <td>  226.973</td> <td>    0.644</td> <td> 0.520</td> <td> -301.600</td> <td>  594.141</td>\n",
       "</tr>\n",
       "<tr>\n",
       "  <th>cylindernumber</th>   <td>  213.4304</td> <td>  355.638</td> <td>    0.600</td> <td> 0.549</td> <td> -488.326</td> <td>  915.187</td>\n",
       "</tr>\n",
       "<tr>\n",
       "  <th>enginesize</th>       <td>   84.2869</td> <td>   16.980</td> <td>    4.964</td> <td> 0.000</td> <td>   50.782</td> <td>  117.792</td>\n",
       "</tr>\n",
       "<tr>\n",
       "  <th>fuelsystem</th>       <td>   81.7444</td> <td>  151.059</td> <td>    0.541</td> <td> 0.589</td> <td> -216.329</td> <td>  379.818</td>\n",
       "</tr>\n",
       "<tr>\n",
       "  <th>boreratio</th>        <td> -681.4524</td> <td> 1108.658</td> <td>   -0.615</td> <td> 0.540</td> <td>-2869.090</td> <td> 1506.185</td>\n",
       "</tr>\n",
       "<tr>\n",
       "  <th>stroke</th>           <td>-2768.4253</td> <td>  755.864</td> <td>   -3.663</td> <td> 0.000</td> <td>-4259.920</td> <td>-1276.931</td>\n",
       "</tr>\n",
       "<tr>\n",
       "  <th>compressionratio</th> <td>  230.9102</td> <td>  465.722</td> <td>    0.496</td> <td> 0.621</td> <td> -688.068</td> <td> 1149.888</td>\n",
       "</tr>\n",
       "<tr>\n",
       "  <th>horsepower</th>       <td>   26.9041</td> <td>   18.678</td> <td>    1.440</td> <td> 0.151</td> <td>   -9.952</td> <td>   63.760</td>\n",
       "</tr>\n",
       "<tr>\n",
       "  <th>peakrpm</th>          <td>    1.3486</td> <td>    0.657</td> <td>    2.052</td> <td> 0.042</td> <td>    0.052</td> <td>    2.645</td>\n",
       "</tr>\n",
       "<tr>\n",
       "  <th>citympg</th>          <td>  -87.6503</td> <td>  165.019</td> <td>   -0.531</td> <td> 0.596</td> <td> -413.271</td> <td>  237.971</td>\n",
       "</tr>\n",
       "<tr>\n",
       "  <th>highwaympg</th>       <td>  126.6016</td> <td>  145.491</td> <td>    0.870</td> <td> 0.385</td> <td> -160.486</td> <td>  413.689</td>\n",
       "</tr>\n",
       "</table>\n",
       "<table class=\"simpletable\">\n",
       "<tr>\n",
       "  <th>Omnibus:</th>       <td>39.128</td> <th>  Durbin-Watson:     </th> <td>   0.975</td>\n",
       "</tr>\n",
       "<tr>\n",
       "  <th>Prob(Omnibus):</th> <td> 0.000</td> <th>  Jarque-Bera (JB):  </th> <td> 181.327</td>\n",
       "</tr>\n",
       "<tr>\n",
       "  <th>Skew:</th>          <td> 0.601</td> <th>  Prob(JB):          </th> <td>4.22e-40</td>\n",
       "</tr>\n",
       "<tr>\n",
       "  <th>Kurtosis:</th>      <td> 7.448</td> <th>  Cond. No.          </th> <td>5.39e+05</td>\n",
       "</tr>\n",
       "</table><br/><br/>Notes:<br/>[1] Standard Errors assume that the covariance matrix of the errors is correctly specified.<br/>[2] The condition number is large, 5.39e+05. This might indicate that there are<br/>strong multicollinearity or other numerical problems."
      ],
      "text/plain": [
       "<class 'statsmodels.iolib.summary.Summary'>\n",
       "\"\"\"\n",
       "                            OLS Regression Results                            \n",
       "==============================================================================\n",
       "Dep. Variable:                  price   R-squared:                       0.900\n",
       "Model:                            OLS   Adj. R-squared:                  0.887\n",
       "Method:                 Least Squares   F-statistic:                     67.48\n",
       "Date:                Fri, 31 Dec 2021   Prob (F-statistic):           5.15e-77\n",
       "Time:                        14:50:40   Log-Likelihood:                -1896.5\n",
       "No. Observations:                 205   AIC:                             3843.\n",
       "Df Residuals:                     180   BIC:                             3926.\n",
       "Df Model:                          24                                         \n",
       "Covariance Type:            nonrobust                                         \n",
       "====================================================================================\n",
       "                       coef    std err          t      P>|t|      [0.025      0.975]\n",
       "------------------------------------------------------------------------------------\n",
       "const            -6.898e+04   1.73e+04     -3.985      0.000   -1.03e+05   -3.48e+04\n",
       "symboling           54.1392    254.453      0.213      0.832    -447.956     556.234\n",
       "fueltype          1697.5218   6493.460      0.261      0.794   -1.11e+04    1.45e+04\n",
       "CompanyName       -226.2118     37.958     -5.959      0.000    -301.112    -151.311\n",
       "aspiration         685.5914    891.076      0.769      0.443   -1072.706    2443.889\n",
       "doornumber         342.7851    318.893      1.075      0.284    -286.464     972.034\n",
       "carbody           -879.3197    366.301     -2.401      0.017   -1602.116    -156.524\n",
       "drivewheel         795.6207    545.798      1.458      0.147    -281.365    1872.606\n",
       "enginelocation    1.113e+04   2070.195      5.375      0.000    7043.106    1.52e+04\n",
       "wheelbase          116.9926    103.223      1.133      0.259     -86.690     320.675\n",
       "carlength          -10.9639     52.553     -0.209      0.835    -114.662      92.734\n",
       "carwidth           587.4411    262.927      2.234      0.027      68.626    1106.256\n",
       "carheight          266.8277    135.578      1.968      0.051      -0.698     534.354\n",
       "curbweight           2.4712      1.580      1.564      0.119      -0.646       5.588\n",
       "enginetype         146.2704    226.973      0.644      0.520    -301.600     594.141\n",
       "cylindernumber     213.4304    355.638      0.600      0.549    -488.326     915.187\n",
       "enginesize          84.2869     16.980      4.964      0.000      50.782     117.792\n",
       "fuelsystem          81.7444    151.059      0.541      0.589    -216.329     379.818\n",
       "boreratio         -681.4524   1108.658     -0.615      0.540   -2869.090    1506.185\n",
       "stroke           -2768.4253    755.864     -3.663      0.000   -4259.920   -1276.931\n",
       "compressionratio   230.9102    465.722      0.496      0.621    -688.068    1149.888\n",
       "horsepower          26.9041     18.678      1.440      0.151      -9.952      63.760\n",
       "peakrpm              1.3486      0.657      2.052      0.042       0.052       2.645\n",
       "citympg            -87.6503    165.019     -0.531      0.596    -413.271     237.971\n",
       "highwaympg         126.6016    145.491      0.870      0.385    -160.486     413.689\n",
       "==============================================================================\n",
       "Omnibus:                       39.128   Durbin-Watson:                   0.975\n",
       "Prob(Omnibus):                  0.000   Jarque-Bera (JB):              181.327\n",
       "Skew:                           0.601   Prob(JB):                     4.22e-40\n",
       "Kurtosis:                       7.448   Cond. No.                     5.39e+05\n",
       "==============================================================================\n",
       "\n",
       "Notes:\n",
       "[1] Standard Errors assume that the covariance matrix of the errors is correctly specified.\n",
       "[2] The condition number is large, 5.39e+05. This might indicate that there are\n",
       "strong multicollinearity or other numerical problems.\n",
       "\"\"\""
      ]
     },
     "execution_count": 31,
     "metadata": {},
     "output_type": "execute_result"
    }
   ],
   "source": [
    "import statsmodels.api as sm\n",
    "\n",
    "X = sm.add_constant(X)\n",
    "results = sm.OLS(Y, X).fit()\n",
    "results.summary()"
   ]
  },
  {
   "cell_type": "markdown",
   "id": "f784edbc",
   "metadata": {},
   "source": [
    "**R Squared value is 0.90, Adj. R squared value is 0.88. Fine!**"
   ]
  },
  {
   "cell_type": "markdown",
   "id": "962f2a51",
   "metadata": {},
   "source": [
    "**Let's try it out by removing a few features.**"
   ]
  },
  {
   "cell_type": "code",
   "execution_count": 32,
   "id": "6a5c25d5",
   "metadata": {},
   "outputs": [
    {
     "data": {
      "text/plain": [
       "LinearRegression()"
      ]
     },
     "execution_count": 32,
     "metadata": {},
     "output_type": "execute_result"
    }
   ],
   "source": [
    "Y = car_prices['price']\n",
    "X = car_prices.drop(columns=['price','CarName','carlength','fuelsystem',\n",
    "                             'compressionratio','symboling','doornumber','drivewheel','boreratio'], axis=1)\n",
    "lrm = linear_model.LinearRegression()\n",
    "lrm.fit(X, Y)"
   ]
  },
  {
   "cell_type": "code",
   "execution_count": 33,
   "id": "a4b5c770",
   "metadata": {},
   "outputs": [
    {
     "data": {
      "text/html": [
       "<table class=\"simpletable\">\n",
       "<caption>OLS Regression Results</caption>\n",
       "<tr>\n",
       "  <th>Dep. Variable:</th>          <td>price</td>      <th>  R-squared:         </th> <td>   0.898</td>\n",
       "</tr>\n",
       "<tr>\n",
       "  <th>Model:</th>                   <td>OLS</td>       <th>  Adj. R-squared:    </th> <td>   0.888</td>\n",
       "</tr>\n",
       "<tr>\n",
       "  <th>Method:</th>             <td>Least Squares</td>  <th>  F-statistic:       </th> <td>   96.60</td>\n",
       "</tr>\n",
       "<tr>\n",
       "  <th>Date:</th>             <td>Fri, 31 Dec 2021</td> <th>  Prob (F-statistic):</th> <td>6.69e-83</td>\n",
       "</tr>\n",
       "<tr>\n",
       "  <th>Time:</th>                 <td>14:50:40</td>     <th>  Log-Likelihood:    </th> <td> -1898.7</td>\n",
       "</tr>\n",
       "<tr>\n",
       "  <th>No. Observations:</th>      <td>   205</td>      <th>  AIC:               </th> <td>   3833.</td>\n",
       "</tr>\n",
       "<tr>\n",
       "  <th>Df Residuals:</th>          <td>   187</td>      <th>  BIC:               </th> <td>   3893.</td>\n",
       "</tr>\n",
       "<tr>\n",
       "  <th>Df Model:</th>              <td>    17</td>      <th>                     </th>     <td> </td>   \n",
       "</tr>\n",
       "<tr>\n",
       "  <th>Covariance Type:</th>      <td>nonrobust</td>    <th>                     </th>     <td> </td>   \n",
       "</tr>\n",
       "</table>\n",
       "<table class=\"simpletable\">\n",
       "<tr>\n",
       "         <td></td>           <th>coef</th>     <th>std err</th>      <th>t</th>      <th>P>|t|</th>  <th>[0.025</th>    <th>0.975]</th>  \n",
       "</tr>\n",
       "<tr>\n",
       "  <th>const</th>          <td>-6.718e+04</td> <td> 1.49e+04</td> <td>   -4.506</td> <td> 0.000</td> <td>-9.66e+04</td> <td>-3.78e+04</td>\n",
       "</tr>\n",
       "<tr>\n",
       "  <th>fueltype</th>       <td>-1745.5669</td> <td> 1096.543</td> <td>   -1.592</td> <td> 0.113</td> <td>-3908.751</td> <td>  417.617</td>\n",
       "</tr>\n",
       "<tr>\n",
       "  <th>CompanyName</th>    <td> -222.6201</td> <td>   33.030</td> <td>   -6.740</td> <td> 0.000</td> <td> -287.779</td> <td> -157.461</td>\n",
       "</tr>\n",
       "<tr>\n",
       "  <th>aspiration</th>     <td>  265.5527</td> <td>  772.770</td> <td>    0.344</td> <td> 0.732</td> <td>-1258.914</td> <td> 1790.020</td>\n",
       "</tr>\n",
       "<tr>\n",
       "  <th>carbody</th>        <td> -855.4895</td> <td>  291.225</td> <td>   -2.938</td> <td> 0.004</td> <td>-1429.997</td> <td> -280.982</td>\n",
       "</tr>\n",
       "<tr>\n",
       "  <th>enginelocation</th> <td> 1.136e+04</td> <td> 1993.548</td> <td>    5.697</td> <td> 0.000</td> <td> 7424.585</td> <td> 1.53e+04</td>\n",
       "</tr>\n",
       "<tr>\n",
       "  <th>wheelbase</th>      <td>  159.9679</td> <td>   82.891</td> <td>    1.930</td> <td> 0.055</td> <td>   -3.554</td> <td>  323.490</td>\n",
       "</tr>\n",
       "<tr>\n",
       "  <th>carwidth</th>       <td>  549.9526</td> <td>  237.529</td> <td>    2.315</td> <td> 0.022</td> <td>   81.371</td> <td> 1018.534</td>\n",
       "</tr>\n",
       "<tr>\n",
       "  <th>carheight</th>      <td>  227.0479</td> <td>  128.921</td> <td>    1.761</td> <td> 0.080</td> <td>  -27.279</td> <td>  481.375</td>\n",
       "</tr>\n",
       "<tr>\n",
       "  <th>curbweight</th>     <td>    2.8125</td> <td>    1.504</td> <td>    1.870</td> <td> 0.063</td> <td>   -0.154</td> <td>    5.779</td>\n",
       "</tr>\n",
       "<tr>\n",
       "  <th>enginetype</th>     <td>   92.2207</td> <td>  215.099</td> <td>    0.429</td> <td> 0.669</td> <td> -332.112</td> <td>  516.553</td>\n",
       "</tr>\n",
       "<tr>\n",
       "  <th>cylindernumber</th> <td>  340.1555</td> <td>  320.321</td> <td>    1.062</td> <td> 0.290</td> <td> -291.752</td> <td>  972.063</td>\n",
       "</tr>\n",
       "<tr>\n",
       "  <th>enginesize</th>     <td>   81.9666</td> <td>   16.499</td> <td>    4.968</td> <td> 0.000</td> <td>   49.418</td> <td>  114.515</td>\n",
       "</tr>\n",
       "<tr>\n",
       "  <th>stroke</th>         <td>-2894.2487</td> <td>  706.459</td> <td>   -4.097</td> <td> 0.000</td> <td>-4287.903</td> <td>-1500.595</td>\n",
       "</tr>\n",
       "<tr>\n",
       "  <th>horsepower</th>     <td>   29.6800</td> <td>   17.154</td> <td>    1.730</td> <td> 0.085</td> <td>   -4.161</td> <td>   63.521</td>\n",
       "</tr>\n",
       "<tr>\n",
       "  <th>peakrpm</th>        <td>    1.5463</td> <td>    0.611</td> <td>    2.530</td> <td> 0.012</td> <td>    0.341</td> <td>    2.752</td>\n",
       "</tr>\n",
       "<tr>\n",
       "  <th>citympg</th>        <td> -102.9503</td> <td>  149.190</td> <td>   -0.690</td> <td> 0.491</td> <td> -397.263</td> <td>  191.362</td>\n",
       "</tr>\n",
       "<tr>\n",
       "  <th>highwaympg</th>     <td>  160.7411</td> <td>  140.475</td> <td>    1.144</td> <td> 0.254</td> <td> -116.379</td> <td>  437.861</td>\n",
       "</tr>\n",
       "</table>\n",
       "<table class=\"simpletable\">\n",
       "<tr>\n",
       "  <th>Omnibus:</th>       <td>28.455</td> <th>  Durbin-Watson:     </th> <td>   0.958</td>\n",
       "</tr>\n",
       "<tr>\n",
       "  <th>Prob(Omnibus):</th> <td> 0.000</td> <th>  Jarque-Bera (JB):  </th> <td> 100.723</td>\n",
       "</tr>\n",
       "<tr>\n",
       "  <th>Skew:</th>          <td> 0.458</td> <th>  Prob(JB):          </th> <td>1.34e-22</td>\n",
       "</tr>\n",
       "<tr>\n",
       "  <th>Kurtosis:</th>      <td> 6.310</td> <th>  Cond. No.          </th> <td>4.60e+05</td>\n",
       "</tr>\n",
       "</table><br/><br/>Notes:<br/>[1] Standard Errors assume that the covariance matrix of the errors is correctly specified.<br/>[2] The condition number is large, 4.6e+05. This might indicate that there are<br/>strong multicollinearity or other numerical problems."
      ],
      "text/plain": [
       "<class 'statsmodels.iolib.summary.Summary'>\n",
       "\"\"\"\n",
       "                            OLS Regression Results                            \n",
       "==============================================================================\n",
       "Dep. Variable:                  price   R-squared:                       0.898\n",
       "Model:                            OLS   Adj. R-squared:                  0.888\n",
       "Method:                 Least Squares   F-statistic:                     96.60\n",
       "Date:                Fri, 31 Dec 2021   Prob (F-statistic):           6.69e-83\n",
       "Time:                        14:50:40   Log-Likelihood:                -1898.7\n",
       "No. Observations:                 205   AIC:                             3833.\n",
       "Df Residuals:                     187   BIC:                             3893.\n",
       "Df Model:                          17                                         \n",
       "Covariance Type:            nonrobust                                         \n",
       "==================================================================================\n",
       "                     coef    std err          t      P>|t|      [0.025      0.975]\n",
       "----------------------------------------------------------------------------------\n",
       "const          -6.718e+04   1.49e+04     -4.506      0.000   -9.66e+04   -3.78e+04\n",
       "fueltype       -1745.5669   1096.543     -1.592      0.113   -3908.751     417.617\n",
       "CompanyName     -222.6201     33.030     -6.740      0.000    -287.779    -157.461\n",
       "aspiration       265.5527    772.770      0.344      0.732   -1258.914    1790.020\n",
       "carbody         -855.4895    291.225     -2.938      0.004   -1429.997    -280.982\n",
       "enginelocation  1.136e+04   1993.548      5.697      0.000    7424.585    1.53e+04\n",
       "wheelbase        159.9679     82.891      1.930      0.055      -3.554     323.490\n",
       "carwidth         549.9526    237.529      2.315      0.022      81.371    1018.534\n",
       "carheight        227.0479    128.921      1.761      0.080     -27.279     481.375\n",
       "curbweight         2.8125      1.504      1.870      0.063      -0.154       5.779\n",
       "enginetype        92.2207    215.099      0.429      0.669    -332.112     516.553\n",
       "cylindernumber   340.1555    320.321      1.062      0.290    -291.752     972.063\n",
       "enginesize        81.9666     16.499      4.968      0.000      49.418     114.515\n",
       "stroke         -2894.2487    706.459     -4.097      0.000   -4287.903   -1500.595\n",
       "horsepower        29.6800     17.154      1.730      0.085      -4.161      63.521\n",
       "peakrpm            1.5463      0.611      2.530      0.012       0.341       2.752\n",
       "citympg         -102.9503    149.190     -0.690      0.491    -397.263     191.362\n",
       "highwaympg       160.7411    140.475      1.144      0.254    -116.379     437.861\n",
       "==============================================================================\n",
       "Omnibus:                       28.455   Durbin-Watson:                   0.958\n",
       "Prob(Omnibus):                  0.000   Jarque-Bera (JB):              100.723\n",
       "Skew:                           0.458   Prob(JB):                     1.34e-22\n",
       "Kurtosis:                       6.310   Cond. No.                     4.60e+05\n",
       "==============================================================================\n",
       "\n",
       "Notes:\n",
       "[1] Standard Errors assume that the covariance matrix of the errors is correctly specified.\n",
       "[2] The condition number is large, 4.6e+05. This might indicate that there are\n",
       "strong multicollinearity or other numerical problems.\n",
       "\"\"\""
      ]
     },
     "execution_count": 33,
     "metadata": {},
     "output_type": "execute_result"
    }
   ],
   "source": [
    "X = sm.add_constant(X)\n",
    "results = sm.OLS(Y, X).fit()\n",
    "results.summary()"
   ]
  },
  {
   "cell_type": "markdown",
   "id": "f6a8c5e1",
   "metadata": {},
   "source": [
    "**Adj. R-squared and F-statistic values increased.AIC and BIC values decreased.**"
   ]
  },
  {
   "cell_type": "markdown",
   "id": "678f2a4d",
   "metadata": {},
   "source": [
    "**Let's add the interactive states of the two variables.**"
   ]
  },
  {
   "cell_type": "code",
   "execution_count": 34,
   "id": "e6a56332",
   "metadata": {},
   "outputs": [],
   "source": [
    "car_prices['enginetype_and_enginesize'] = car_prices.enginetype * car_prices.enginesize"
   ]
  },
  {
   "cell_type": "code",
   "execution_count": 35,
   "id": "a7797ad3",
   "metadata": {},
   "outputs": [
    {
     "data": {
      "text/plain": [
       "LinearRegression()"
      ]
     },
     "execution_count": 35,
     "metadata": {},
     "output_type": "execute_result"
    }
   ],
   "source": [
    "Y = car_prices['price']\n",
    "X = car_prices.drop(columns=['price','CarName','carlength','fuelsystem','compressionratio','symboling','doornumber','drivewheel','boreratio'], axis=1)\n",
    "lrm = linear_model.LinearRegression()\n",
    "lrm.fit(X, Y)"
   ]
  },
  {
   "cell_type": "code",
   "execution_count": 36,
   "id": "f3343411",
   "metadata": {},
   "outputs": [
    {
     "data": {
      "text/html": [
       "<table class=\"simpletable\">\n",
       "<caption>OLS Regression Results</caption>\n",
       "<tr>\n",
       "  <th>Dep. Variable:</th>          <td>price</td>      <th>  R-squared:         </th> <td>   0.900</td>\n",
       "</tr>\n",
       "<tr>\n",
       "  <th>Model:</th>                   <td>OLS</td>       <th>  Adj. R-squared:    </th> <td>   0.891</td>\n",
       "</tr>\n",
       "<tr>\n",
       "  <th>Method:</th>             <td>Least Squares</td>  <th>  F-statistic:       </th> <td>   93.47</td>\n",
       "</tr>\n",
       "<tr>\n",
       "  <th>Date:</th>             <td>Fri, 31 Dec 2021</td> <th>  Prob (F-statistic):</th> <td>5.76e-83</td>\n",
       "</tr>\n",
       "<tr>\n",
       "  <th>Time:</th>                 <td>14:50:40</td>     <th>  Log-Likelihood:    </th> <td> -1896.0</td>\n",
       "</tr>\n",
       "<tr>\n",
       "  <th>No. Observations:</th>      <td>   205</td>      <th>  AIC:               </th> <td>   3830.</td>\n",
       "</tr>\n",
       "<tr>\n",
       "  <th>Df Residuals:</th>          <td>   186</td>      <th>  BIC:               </th> <td>   3893.</td>\n",
       "</tr>\n",
       "<tr>\n",
       "  <th>Df Model:</th>              <td>    18</td>      <th>                     </th>     <td> </td>   \n",
       "</tr>\n",
       "<tr>\n",
       "  <th>Covariance Type:</th>      <td>nonrobust</td>    <th>                     </th>     <td> </td>   \n",
       "</tr>\n",
       "</table>\n",
       "<table class=\"simpletable\">\n",
       "<tr>\n",
       "              <td></td>                 <th>coef</th>     <th>std err</th>      <th>t</th>      <th>P>|t|</th>  <th>[0.025</th>    <th>0.975]</th>  \n",
       "</tr>\n",
       "<tr>\n",
       "  <th>const</th>                     <td>-7.114e+04</td> <td> 1.49e+04</td> <td>   -4.788</td> <td> 0.000</td> <td>   -1e+05</td> <td>-4.18e+04</td>\n",
       "</tr>\n",
       "<tr>\n",
       "  <th>fueltype</th>                  <td>-1812.0874</td> <td> 1085.363</td> <td>   -1.670</td> <td> 0.097</td> <td>-3953.291</td> <td>  329.116</td>\n",
       "</tr>\n",
       "<tr>\n",
       "  <th>CompanyName</th>               <td> -222.2284</td> <td>   32.681</td> <td>   -6.800</td> <td> 0.000</td> <td> -286.702</td> <td> -157.755</td>\n",
       "</tr>\n",
       "<tr>\n",
       "  <th>aspiration</th>                <td>  649.3143</td> <td>  783.571</td> <td>    0.829</td> <td> 0.408</td> <td> -896.515</td> <td> 2195.144</td>\n",
       "</tr>\n",
       "<tr>\n",
       "  <th>carbody</th>                   <td> -914.0752</td> <td>  289.332</td> <td>   -3.159</td> <td> 0.002</td> <td>-1484.870</td> <td> -343.280</td>\n",
       "</tr>\n",
       "<tr>\n",
       "  <th>enginelocation</th>            <td> 1.069e+04</td> <td> 1994.922</td> <td>    5.358</td> <td> 0.000</td> <td> 6753.532</td> <td> 1.46e+04</td>\n",
       "</tr>\n",
       "<tr>\n",
       "  <th>wheelbase</th>                 <td>  143.7233</td> <td>   82.335</td> <td>    1.746</td> <td> 0.083</td> <td>  -18.708</td> <td>  306.155</td>\n",
       "</tr>\n",
       "<tr>\n",
       "  <th>carwidth</th>                  <td>  523.0941</td> <td>  235.325</td> <td>    2.223</td> <td> 0.027</td> <td>   58.844</td> <td>  987.344</td>\n",
       "</tr>\n",
       "<tr>\n",
       "  <th>carheight</th>                 <td>  289.9183</td> <td>  130.612</td> <td>    2.220</td> <td> 0.028</td> <td>   32.248</td> <td>  547.589</td>\n",
       "</tr>\n",
       "<tr>\n",
       "  <th>curbweight</th>                <td>    2.2996</td> <td>    1.505</td> <td>    1.528</td> <td> 0.128</td> <td>   -0.670</td> <td>    5.269</td>\n",
       "</tr>\n",
       "<tr>\n",
       "  <th>enginetype</th>                <td> 1384.9218</td> <td>  615.210</td> <td>    2.251</td> <td> 0.026</td> <td>  171.235</td> <td> 2598.609</td>\n",
       "</tr>\n",
       "<tr>\n",
       "  <th>cylindernumber</th>            <td>  124.2920</td> <td>  331.269</td> <td>    0.375</td> <td> 0.708</td> <td> -529.236</td> <td>  777.820</td>\n",
       "</tr>\n",
       "<tr>\n",
       "  <th>enginesize</th>                <td>  124.6514</td> <td>   25.095</td> <td>    4.967</td> <td> 0.000</td> <td>   75.143</td> <td>  174.159</td>\n",
       "</tr>\n",
       "<tr>\n",
       "  <th>stroke</th>                    <td>-3498.0758</td> <td>  749.193</td> <td>   -4.669</td> <td> 0.000</td> <td>-4976.085</td> <td>-2020.067</td>\n",
       "</tr>\n",
       "<tr>\n",
       "  <th>horsepower</th>                <td>   25.4625</td> <td>   17.077</td> <td>    1.491</td> <td> 0.138</td> <td>   -8.227</td> <td>   59.152</td>\n",
       "</tr>\n",
       "<tr>\n",
       "  <th>peakrpm</th>                   <td>    1.9207</td> <td>    0.627</td> <td>    3.062</td> <td> 0.003</td> <td>    0.683</td> <td>    3.158</td>\n",
       "</tr>\n",
       "<tr>\n",
       "  <th>citympg</th>                   <td>  -95.8360</td> <td>  147.648</td> <td>   -0.649</td> <td> 0.517</td> <td> -387.116</td> <td>  195.444</td>\n",
       "</tr>\n",
       "<tr>\n",
       "  <th>highwaympg</th>                <td>  162.8032</td> <td>  138.994</td> <td>    1.171</td> <td> 0.243</td> <td> -111.404</td> <td>  437.011</td>\n",
       "</tr>\n",
       "<tr>\n",
       "  <th>enginetype_and_enginesize</th> <td>   -8.3222</td> <td>    3.716</td> <td>   -2.240</td> <td> 0.026</td> <td>  -15.653</td> <td>   -0.991</td>\n",
       "</tr>\n",
       "</table>\n",
       "<table class=\"simpletable\">\n",
       "<tr>\n",
       "  <th>Omnibus:</th>       <td>30.211</td> <th>  Durbin-Watson:     </th> <td>   0.982</td>\n",
       "</tr>\n",
       "<tr>\n",
       "  <th>Prob(Omnibus):</th> <td> 0.000</td> <th>  Jarque-Bera (JB):  </th> <td>  94.636</td>\n",
       "</tr>\n",
       "<tr>\n",
       "  <th>Skew:</th>          <td> 0.549</td> <th>  Prob(JB):          </th> <td>2.82e-21</td>\n",
       "</tr>\n",
       "<tr>\n",
       "  <th>Kurtosis:</th>      <td> 6.142</td> <th>  Cond. No.          </th> <td>4.65e+05</td>\n",
       "</tr>\n",
       "</table><br/><br/>Notes:<br/>[1] Standard Errors assume that the covariance matrix of the errors is correctly specified.<br/>[2] The condition number is large, 4.65e+05. This might indicate that there are<br/>strong multicollinearity or other numerical problems."
      ],
      "text/plain": [
       "<class 'statsmodels.iolib.summary.Summary'>\n",
       "\"\"\"\n",
       "                            OLS Regression Results                            \n",
       "==============================================================================\n",
       "Dep. Variable:                  price   R-squared:                       0.900\n",
       "Model:                            OLS   Adj. R-squared:                  0.891\n",
       "Method:                 Least Squares   F-statistic:                     93.47\n",
       "Date:                Fri, 31 Dec 2021   Prob (F-statistic):           5.76e-83\n",
       "Time:                        14:50:40   Log-Likelihood:                -1896.0\n",
       "No. Observations:                 205   AIC:                             3830.\n",
       "Df Residuals:                     186   BIC:                             3893.\n",
       "Df Model:                          18                                         \n",
       "Covariance Type:            nonrobust                                         \n",
       "=============================================================================================\n",
       "                                coef    std err          t      P>|t|      [0.025      0.975]\n",
       "---------------------------------------------------------------------------------------------\n",
       "const                     -7.114e+04   1.49e+04     -4.788      0.000      -1e+05   -4.18e+04\n",
       "fueltype                  -1812.0874   1085.363     -1.670      0.097   -3953.291     329.116\n",
       "CompanyName                -222.2284     32.681     -6.800      0.000    -286.702    -157.755\n",
       "aspiration                  649.3143    783.571      0.829      0.408    -896.515    2195.144\n",
       "carbody                    -914.0752    289.332     -3.159      0.002   -1484.870    -343.280\n",
       "enginelocation             1.069e+04   1994.922      5.358      0.000    6753.532    1.46e+04\n",
       "wheelbase                   143.7233     82.335      1.746      0.083     -18.708     306.155\n",
       "carwidth                    523.0941    235.325      2.223      0.027      58.844     987.344\n",
       "carheight                   289.9183    130.612      2.220      0.028      32.248     547.589\n",
       "curbweight                    2.2996      1.505      1.528      0.128      -0.670       5.269\n",
       "enginetype                 1384.9218    615.210      2.251      0.026     171.235    2598.609\n",
       "cylindernumber              124.2920    331.269      0.375      0.708    -529.236     777.820\n",
       "enginesize                  124.6514     25.095      4.967      0.000      75.143     174.159\n",
       "stroke                    -3498.0758    749.193     -4.669      0.000   -4976.085   -2020.067\n",
       "horsepower                   25.4625     17.077      1.491      0.138      -8.227      59.152\n",
       "peakrpm                       1.9207      0.627      3.062      0.003       0.683       3.158\n",
       "citympg                     -95.8360    147.648     -0.649      0.517    -387.116     195.444\n",
       "highwaympg                  162.8032    138.994      1.171      0.243    -111.404     437.011\n",
       "enginetype_and_enginesize    -8.3222      3.716     -2.240      0.026     -15.653      -0.991\n",
       "==============================================================================\n",
       "Omnibus:                       30.211   Durbin-Watson:                   0.982\n",
       "Prob(Omnibus):                  0.000   Jarque-Bera (JB):               94.636\n",
       "Skew:                           0.549   Prob(JB):                     2.82e-21\n",
       "Kurtosis:                       6.142   Cond. No.                     4.65e+05\n",
       "==============================================================================\n",
       "\n",
       "Notes:\n",
       "[1] Standard Errors assume that the covariance matrix of the errors is correctly specified.\n",
       "[2] The condition number is large, 4.65e+05. This might indicate that there are\n",
       "strong multicollinearity or other numerical problems.\n",
       "\"\"\""
      ]
     },
     "execution_count": 36,
     "metadata": {},
     "output_type": "execute_result"
    }
   ],
   "source": [
    "X = sm.add_constant(X)\n",
    "results = sm.OLS(Y, X).fit()\n",
    "results.summary()"
   ]
  },
  {
   "cell_type": "markdown",
   "id": "bd35a4ad",
   "metadata": {},
   "source": [
    "**When the interaction of engine type and engine size was added, an improvement in the performance of the model was observed.**"
   ]
  },
  {
   "cell_type": "code",
   "execution_count": 37,
   "id": "f3d27085",
   "metadata": {},
   "outputs": [
    {
     "name": "stdout",
     "output_type": "stream",
     "text": [
      "Eğitim kümesindeki gözlem sayısı : 188\n",
      "Test kümesindeki gözlem sayısı   : 17\n"
     ]
    }
   ],
   "source": [
    "from sklearn.model_selection import train_test_split\n",
    "from sklearn.metrics import mean_absolute_error\n",
    "import statsmodels.api as sm\n",
    "from statsmodels.tools.eval_measures import mse, rmse\n",
    "\n",
    "X_train, X_test, y_train, y_test = train_test_split(X, Y, test_size = 0.08, random_state = 0)\n",
    "\n",
    "print(\"Eğitim kümesindeki gözlem sayısı : {}\".format(X_train.shape[0]))\n",
    "print(\"Test kümesindeki gözlem sayısı   : {}\".format(X_test.shape[0]))"
   ]
  },
  {
   "cell_type": "code",
   "execution_count": 38,
   "id": "379380ca",
   "metadata": {},
   "outputs": [
    {
     "data": {
      "image/png": "[encoded data removed]",
      "text/plain": [
       "<Figure size 600x400 with 1 Axes>"
      ]
     },
     "metadata": {
      "needs_background": "light"
     },
     "output_type": "display_data"
    },
    {
     "name": "stdout",
     "output_type": "stream",
     "text": [
      "Ortalama Mutlak Hata (MAE)        : 1727.5806629649069\n",
      "Ortalama Kare Hata (MSE)          : 4362430.666485885\n",
      "Kök Ortalama Kare Hata (RMSE)     : 2088.643259746835\n",
      "Ortalama Mutlak Yüzde Hata (MAPE) : 17.733883739662616\n"
     ]
    }
   ],
   "source": [
    "X_test = sm.add_constant(X_test)\n",
    "\n",
    "y_preds = results.predict(X_test)\n",
    "\n",
    "\n",
    "baslik_font = {'family': 'arial','color':  'darkred','weight': 'bold','size': 15 }\n",
    "eksen_font = {'family': 'arial','color':  'darkblue','weight': 'bold','size': 10 }\n",
    "plt.figure(dpi = 100)\n",
    "\n",
    "plt.scatter(y_test, y_preds)\n",
    "plt.plot(y_test, y_test, color=\"red\")\n",
    "plt.xlabel(\"Gerçek Değerler\", fontdict=eksen_font)\n",
    "plt.ylabel(\"Tahmin edilen Değerler\", fontdict=eksen_font)\n",
    "plt.title(\"Ücretler: Gerçek ve tahmin edilen değerler\", fontdict=baslik_font)\n",
    "plt.show()\n",
    "\n",
    "print(\"Ortalama Mutlak Hata (MAE)        : {}\".format(mean_absolute_error(y_test, y_preds)))\n",
    "print(\"Ortalama Kare Hata (MSE)          : {}\".format(mse(y_test, y_preds)))\n",
    "print(\"Kök Ortalama Kare Hata (RMSE)     : {}\".format(rmse(y_test, y_preds)))\n",
    "print(\"Ortalama Mutlak Yüzde Hata (MAPE) : {}\".format(np.mean(np.abs((y_test - y_preds) / y_test)) * 100))"
   ]
  },
  {
   "cell_type": "markdown",
   "id": "57a23942",
   "metadata": {},
   "source": [
    "**Let's apply Ridge Regression and see if the model improves.**"
   ]
  },
  {
   "cell_type": "code",
   "execution_count": 39,
   "id": "de5d0a25",
   "metadata": {},
   "outputs": [
    {
     "name": "stdout",
     "output_type": "stream",
     "text": [
      "Eğitim kümesi R-Kare değeri       : 0.8998304840181204\n",
      "-----Test kümesi istatistikleri---\n",
      "Test kümesi R-Kare değeri         : 0.8208678247709846\n",
      "Ortalama Mutlak Hata (MAE)        : 2296.7303007161854\n",
      "Ortalama Kare Hata (MSE)          : 7765429.103703673\n",
      "Kök Ortalama Kare Hata (RMSE)     : 2786.651952380073\n",
      "Ortalama Mutlak Yüzde Hata (MAPE) : 22.01948542958992\n"
     ]
    }
   ],
   "source": [
    "from sklearn.linear_model import Ridge\n",
    "\n",
    "ridgeregr = Ridge(alpha=1) \n",
    "ridgeregr.fit(X_train, y_train)\n",
    "\n",
    "y_egitim_tahmini = ridgeregr.predict(X_train)\n",
    "y_test_tahmini = ridgeregr.predict(X_test)\n",
    "\n",
    "print(\"Eğitim kümesi R-Kare değeri       : {}\".format(ridgeregr.score(X_train, y_train)))\n",
    "print(\"-----Test kümesi istatistikleri---\")\n",
    "print(\"Test kümesi R-Kare değeri         : {}\".format(ridgeregr.score(X_test, y_test)))\n",
    "print(\"Ortalama Mutlak Hata (MAE)        : {}\".format(mean_absolute_error(y_test, y_test_tahmini)))\n",
    "print(\"Ortalama Kare Hata (MSE)          : {}\".format(mse(y_test, y_test_tahmini)))\n",
    "print(\"Kök Ortalama Kare Hata (RMSE)     : {}\".format(rmse(y_test, y_test_tahmini)))\n",
    "print(\"Ortalama Mutlak Yüzde Hata (MAPE) : {}\".format(np.mean(np.abs((y_test - y_test_tahmini) / y_test)) * 100))"
   ]
  },
  {
   "cell_type": "markdown",
   "id": "27c11ee2",
   "metadata": {},
   "source": [
    "**Let's apply Lasso Regression and see if the model improves.**"
   ]
  },
  {
   "cell_type": "code",
   "execution_count": 40,
   "id": "cdb927cf",
   "metadata": {},
   "outputs": [
    {
     "name": "stdout",
     "output_type": "stream",
     "text": [
      "Eğitim kümesi R-Kare değeri       : 0.9017051781996782\n",
      "-----Test kümesi istatistikleri---\n",
      "Test kümesi R-Kare değeri         : 0.8432769199745482\n",
      "Ortalama Mutlak Hata (MAE)        : 2135.1617714214904\n",
      "Ortalama Kare Hata (MSE)          : 6793988.65835127\n",
      "Kök Ortalama Kare Hata (RMSE)     : 2606.5280850877607\n",
      "Ortalama Mutlak Yüzde Hata (MAPE) : 21.277680928259663\n"
     ]
    }
   ],
   "source": [
    "from sklearn.linear_model import Lasso\n",
    "\n",
    "lassoregr = Lasso(alpha=0.01) \n",
    "lassoregr.fit(X_train, y_train)\n",
    "\n",
    "y_egitim_tahmini = lassoregr.predict(X_train)\n",
    "y_test_tahmini = lassoregr.predict(X_test)\n",
    "\n",
    "print(\"Eğitim kümesi R-Kare değeri       : {}\".format(lassoregr.score(X_train, y_train)))\n",
    "print(\"-----Test kümesi istatistikleri---\")\n",
    "print(\"Test kümesi R-Kare değeri         : {}\".format(lassoregr.score(X_test, y_test)))\n",
    "print(\"Ortalama Mutlak Hata (MAE)        : {}\".format(mean_absolute_error(y_test, y_test_tahmini)))\n",
    "print(\"Ortalama Kare Hata (MSE)          : {}\".format(mse(y_test, y_test_tahmini)))\n",
    "print(\"Kök Ortalama Kare Hata (RMSE)     : {}\".format(rmse(y_test, y_test_tahmini)))\n",
    "print(\"Ortalama Mutlak Yüzde Hata (MAPE) : {}\".format(np.mean(np.abs((y_test - y_test_tahmini) / y_test)) * 100))"
   ]
  },
  {
   "cell_type": "markdown",
   "id": "dd80e9ae",
   "metadata": {},
   "source": [
    "**Performed well with both regression models. But MAPE values slightly increased.**"
   ]
  },
  {
   "cell_type": "markdown",
   "id": "bef01a7b",
   "metadata": {},
   "source": [
    "### Let's do the same steps by deleting the outliers in the \"price\" property. "
   ]
  },
  {
   "cell_type": "code",
   "execution_count": 41,
   "id": "d7d55eb5",
   "metadata": {},
   "outputs": [
    {
     "data": {
      "image/png": "[encoded data removed]",
      "text/plain": [
       "<Figure size 432x288 with 1 Axes>"
      ]
     },
     "metadata": {
      "needs_background": "light"
     },
     "output_type": "display_data"
    }
   ],
   "source": [
    "plt.title('Car Price Spread')\n",
    "sns.boxplot(y=car_prices.price)\n",
    "plt.show()"
   ]
  },
  {
   "cell_type": "code",
   "execution_count": 42,
   "id": "598c2dba",
   "metadata": {},
   "outputs": [
    {
     "data": {
      "text/html": [
       "<div>\n",
       "<style scoped>\n",
       "    .dataframe tbody tr th:only-of-type {\n",
       "        vertical-align: middle;\n",
       "    }\n",
       "\n",
       "    .dataframe tbody tr th {\n",
       "        vertical-align: top;\n",
       "    }\n",
       "\n",
       "    .dataframe thead th {\n",
       "        text-align: right;\n",
       "    }\n",
       "</style>\n",
       "<table border=\"1\" class=\"dataframe\">\n",
       "  <thead>\n",
       "    <tr style=\"text-align: right;\">\n",
       "      <th></th>\n",
       "      <th>threshold_value</th>\n",
       "      <th>outlier_value_number</th>\n",
       "    </tr>\n",
       "  </thead>\n",
       "  <tbody>\n",
       "    <tr>\n",
       "      <th>0</th>\n",
       "      <td>1.0</td>\n",
       "      <td>18</td>\n",
       "    </tr>\n",
       "    <tr>\n",
       "      <th>1</th>\n",
       "      <td>1.5</td>\n",
       "      <td>15</td>\n",
       "    </tr>\n",
       "    <tr>\n",
       "      <th>2</th>\n",
       "      <td>2.0</td>\n",
       "      <td>10</td>\n",
       "    </tr>\n",
       "    <tr>\n",
       "      <th>3</th>\n",
       "      <td>2.5</td>\n",
       "      <td>3</td>\n",
       "    </tr>\n",
       "    <tr>\n",
       "      <th>4</th>\n",
       "      <td>3.0</td>\n",
       "      <td>1</td>\n",
       "    </tr>\n",
       "    <tr>\n",
       "      <th>5</th>\n",
       "      <td>3.5</td>\n",
       "      <td>0</td>\n",
       "    </tr>\n",
       "    <tr>\n",
       "      <th>6</th>\n",
       "      <td>4.0</td>\n",
       "      <td>0</td>\n",
       "    </tr>\n",
       "    <tr>\n",
       "      <th>7</th>\n",
       "      <td>4.5</td>\n",
       "      <td>0</td>\n",
       "    </tr>\n",
       "  </tbody>\n",
       "</table>\n",
       "</div>"
      ],
      "text/plain": [
       "   threshold_value  outlier_value_number\n",
       "0              1.0                    18\n",
       "1              1.5                    15\n",
       "2              2.0                    10\n",
       "3              2.5                     3\n",
       "4              3.0                     1\n",
       "5              3.5                     0\n",
       "6              4.0                     0\n",
       "7              4.5                     0"
      ]
     },
     "execution_count": 42,
     "metadata": {},
     "output_type": "execute_result"
    }
   ],
   "source": [
    "q75, q25 = np.percentile(car_prices[\"price\"], [75 ,25])\n",
    "IQR = q75 - q25\n",
    "\n",
    "threshold_values=[]\n",
    "for threshold_value in np.arange(1,5,0.5):\n",
    "    min_value = q25 - (IQR*threshold_value)\n",
    "    max_value = q75 + (IQR*threshold_value)\n",
    "    outlier_value_number = len((np.where((car_prices[\"price\"].dropna() > max_value)| (car_prices[\"price\"].dropna() < min_value))[0]))\n",
    "    threshold_values.append({'threshold_value': threshold_value,'outlier_value_number': outlier_value_number})\n",
    "pd.DataFrame(threshold_values)"
   ]
  },
  {
   "cell_type": "markdown",
   "id": "6bc0b2f3",
   "metadata": {},
   "source": [
    "**Let's take the threshold value of 1.**"
   ]
  },
  {
   "cell_type": "code",
   "execution_count": 43,
   "id": "c3960ded",
   "metadata": {},
   "outputs": [
    {
     "name": "stdout",
     "output_type": "stream",
     "text": [
      "18\n",
      "[15, 16, 17, 47, 48, 49, 67, 68, 69, 70, 71, 72, 73, 74, 126, 127, 128, 129]\n"
     ]
    }
   ],
   "source": [
    "def outliers(df, ft):\n",
    "    Q1 = df[ft].quantile(0.25)\n",
    "    Q3 = df[ft].quantile(0.75)\n",
    "    IQR = Q3 - Q1\n",
    "    \n",
    "    lower_bound = Q1 - 1* IQR\n",
    "    upper_bound = Q3 + 1 * IQR\n",
    "    ls = df.index[(car_prices[ft] < lower_bound) | (car_prices[ft]>upper_bound)]\n",
    "    return ls\n",
    "index_list = []\n",
    "for feature in ['price']:\n",
    "    index_list.extend(outliers(car_prices, feature))\n",
    "print(len(index_list))\n",
    "print(index_list)    "
   ]
  },
  {
   "cell_type": "code",
   "execution_count": 44,
   "id": "b45cab44",
   "metadata": {},
   "outputs": [],
   "source": [
    "def remove(car_prices , ls):\n",
    "    ls = sorted(set(ls))\n",
    "    car_prices=car_prices.drop(ls)\n",
    "    return car_prices\n",
    "car_prices = remove(car_prices , index_list)"
   ]
  },
  {
   "cell_type": "code",
   "execution_count": 45,
   "id": "9d0aaf56",
   "metadata": {},
   "outputs": [
    {
     "data": {
      "text/plain": [
       "(187, 27)"
      ]
     },
     "execution_count": 45,
     "metadata": {},
     "output_type": "execute_result"
    }
   ],
   "source": [
    "car_prices.shape"
   ]
  },
  {
   "cell_type": "code",
   "execution_count": 46,
   "id": "7565387d",
   "metadata": {},
   "outputs": [
    {
     "data": {
      "text/html": [
       "<div>\n",
       "<style scoped>\n",
       "    .dataframe tbody tr th:only-of-type {\n",
       "        vertical-align: middle;\n",
       "    }\n",
       "\n",
       "    .dataframe tbody tr th {\n",
       "        vertical-align: top;\n",
       "    }\n",
       "\n",
       "    .dataframe thead th {\n",
       "        text-align: right;\n",
       "    }\n",
       "</style>\n",
       "<table border=\"1\" class=\"dataframe\">\n",
       "  <thead>\n",
       "    <tr style=\"text-align: right;\">\n",
       "      <th></th>\n",
       "      <th>symboling</th>\n",
       "      <th>CarName</th>\n",
       "      <th>fueltype</th>\n",
       "      <th>CompanyName</th>\n",
       "      <th>aspiration</th>\n",
       "      <th>doornumber</th>\n",
       "      <th>carbody</th>\n",
       "      <th>drivewheel</th>\n",
       "      <th>enginelocation</th>\n",
       "      <th>wheelbase</th>\n",
       "      <th>...</th>\n",
       "      <th>fuelsystem</th>\n",
       "      <th>boreratio</th>\n",
       "      <th>stroke</th>\n",
       "      <th>compressionratio</th>\n",
       "      <th>horsepower</th>\n",
       "      <th>peakrpm</th>\n",
       "      <th>citympg</th>\n",
       "      <th>highwaympg</th>\n",
       "      <th>price</th>\n",
       "      <th>enginetype_and_enginesize</th>\n",
       "    </tr>\n",
       "  </thead>\n",
       "  <tbody>\n",
       "    <tr>\n",
       "      <th>0</th>\n",
       "      <td>3</td>\n",
       "      <td>alfa-romero giulia</td>\n",
       "      <td>1</td>\n",
       "      <td>0</td>\n",
       "      <td>0</td>\n",
       "      <td>2</td>\n",
       "      <td>0</td>\n",
       "      <td>2</td>\n",
       "      <td>0</td>\n",
       "      <td>88.6</td>\n",
       "      <td>...</td>\n",
       "      <td>5</td>\n",
       "      <td>3.47</td>\n",
       "      <td>2.68</td>\n",
       "      <td>9.0</td>\n",
       "      <td>111</td>\n",
       "      <td>5000</td>\n",
       "      <td>21</td>\n",
       "      <td>27</td>\n",
       "      <td>13495.0</td>\n",
       "      <td>0</td>\n",
       "    </tr>\n",
       "    <tr>\n",
       "      <th>1</th>\n",
       "      <td>3</td>\n",
       "      <td>alfa-romero stelvio</td>\n",
       "      <td>1</td>\n",
       "      <td>0</td>\n",
       "      <td>0</td>\n",
       "      <td>2</td>\n",
       "      <td>0</td>\n",
       "      <td>2</td>\n",
       "      <td>0</td>\n",
       "      <td>88.6</td>\n",
       "      <td>...</td>\n",
       "      <td>5</td>\n",
       "      <td>3.47</td>\n",
       "      <td>2.68</td>\n",
       "      <td>9.0</td>\n",
       "      <td>111</td>\n",
       "      <td>5000</td>\n",
       "      <td>21</td>\n",
       "      <td>27</td>\n",
       "      <td>16500.0</td>\n",
       "      <td>0</td>\n",
       "    </tr>\n",
       "    <tr>\n",
       "      <th>2</th>\n",
       "      <td>1</td>\n",
       "      <td>alfa-romero Quadrifoglio</td>\n",
       "      <td>1</td>\n",
       "      <td>0</td>\n",
       "      <td>0</td>\n",
       "      <td>2</td>\n",
       "      <td>2</td>\n",
       "      <td>2</td>\n",
       "      <td>0</td>\n",
       "      <td>94.5</td>\n",
       "      <td>...</td>\n",
       "      <td>5</td>\n",
       "      <td>2.68</td>\n",
       "      <td>3.47</td>\n",
       "      <td>9.0</td>\n",
       "      <td>154</td>\n",
       "      <td>5000</td>\n",
       "      <td>19</td>\n",
       "      <td>26</td>\n",
       "      <td>16500.0</td>\n",
       "      <td>760</td>\n",
       "    </tr>\n",
       "    <tr>\n",
       "      <th>3</th>\n",
       "      <td>2</td>\n",
       "      <td>audi 100 ls</td>\n",
       "      <td>1</td>\n",
       "      <td>1</td>\n",
       "      <td>0</td>\n",
       "      <td>4</td>\n",
       "      <td>3</td>\n",
       "      <td>1</td>\n",
       "      <td>0</td>\n",
       "      <td>99.8</td>\n",
       "      <td>...</td>\n",
       "      <td>5</td>\n",
       "      <td>3.19</td>\n",
       "      <td>3.40</td>\n",
       "      <td>10.0</td>\n",
       "      <td>102</td>\n",
       "      <td>5500</td>\n",
       "      <td>24</td>\n",
       "      <td>30</td>\n",
       "      <td>13950.0</td>\n",
       "      <td>327</td>\n",
       "    </tr>\n",
       "    <tr>\n",
       "      <th>4</th>\n",
       "      <td>2</td>\n",
       "      <td>audi 100ls</td>\n",
       "      <td>1</td>\n",
       "      <td>1</td>\n",
       "      <td>0</td>\n",
       "      <td>4</td>\n",
       "      <td>3</td>\n",
       "      <td>0</td>\n",
       "      <td>0</td>\n",
       "      <td>99.4</td>\n",
       "      <td>...</td>\n",
       "      <td>5</td>\n",
       "      <td>3.19</td>\n",
       "      <td>3.40</td>\n",
       "      <td>8.0</td>\n",
       "      <td>115</td>\n",
       "      <td>5500</td>\n",
       "      <td>18</td>\n",
       "      <td>22</td>\n",
       "      <td>17450.0</td>\n",
       "      <td>408</td>\n",
       "    </tr>\n",
       "    <tr>\n",
       "      <th>...</th>\n",
       "      <td>...</td>\n",
       "      <td>...</td>\n",
       "      <td>...</td>\n",
       "      <td>...</td>\n",
       "      <td>...</td>\n",
       "      <td>...</td>\n",
       "      <td>...</td>\n",
       "      <td>...</td>\n",
       "      <td>...</td>\n",
       "      <td>...</td>\n",
       "      <td>...</td>\n",
       "      <td>...</td>\n",
       "      <td>...</td>\n",
       "      <td>...</td>\n",
       "      <td>...</td>\n",
       "      <td>...</td>\n",
       "      <td>...</td>\n",
       "      <td>...</td>\n",
       "      <td>...</td>\n",
       "      <td>...</td>\n",
       "      <td>...</td>\n",
       "    </tr>\n",
       "    <tr>\n",
       "      <th>200</th>\n",
       "      <td>-1</td>\n",
       "      <td>volvo 145e (sw)</td>\n",
       "      <td>1</td>\n",
       "      <td>21</td>\n",
       "      <td>0</td>\n",
       "      <td>4</td>\n",
       "      <td>3</td>\n",
       "      <td>2</td>\n",
       "      <td>0</td>\n",
       "      <td>109.1</td>\n",
       "      <td>...</td>\n",
       "      <td>5</td>\n",
       "      <td>3.78</td>\n",
       "      <td>3.15</td>\n",
       "      <td>9.5</td>\n",
       "      <td>114</td>\n",
       "      <td>5400</td>\n",
       "      <td>23</td>\n",
       "      <td>28</td>\n",
       "      <td>16845.0</td>\n",
       "      <td>423</td>\n",
       "    </tr>\n",
       "    <tr>\n",
       "      <th>201</th>\n",
       "      <td>-1</td>\n",
       "      <td>volvo 144ea</td>\n",
       "      <td>1</td>\n",
       "      <td>21</td>\n",
       "      <td>1</td>\n",
       "      <td>4</td>\n",
       "      <td>3</td>\n",
       "      <td>2</td>\n",
       "      <td>0</td>\n",
       "      <td>109.1</td>\n",
       "      <td>...</td>\n",
       "      <td>5</td>\n",
       "      <td>3.78</td>\n",
       "      <td>3.15</td>\n",
       "      <td>8.7</td>\n",
       "      <td>160</td>\n",
       "      <td>5300</td>\n",
       "      <td>19</td>\n",
       "      <td>25</td>\n",
       "      <td>19045.0</td>\n",
       "      <td>423</td>\n",
       "    </tr>\n",
       "    <tr>\n",
       "      <th>202</th>\n",
       "      <td>-1</td>\n",
       "      <td>volvo 244dl</td>\n",
       "      <td>1</td>\n",
       "      <td>21</td>\n",
       "      <td>0</td>\n",
       "      <td>4</td>\n",
       "      <td>3</td>\n",
       "      <td>2</td>\n",
       "      <td>0</td>\n",
       "      <td>109.1</td>\n",
       "      <td>...</td>\n",
       "      <td>5</td>\n",
       "      <td>3.58</td>\n",
       "      <td>2.87</td>\n",
       "      <td>8.8</td>\n",
       "      <td>134</td>\n",
       "      <td>5500</td>\n",
       "      <td>18</td>\n",
       "      <td>23</td>\n",
       "      <td>21485.0</td>\n",
       "      <td>865</td>\n",
       "    </tr>\n",
       "    <tr>\n",
       "      <th>203</th>\n",
       "      <td>-1</td>\n",
       "      <td>volvo 246</td>\n",
       "      <td>0</td>\n",
       "      <td>21</td>\n",
       "      <td>1</td>\n",
       "      <td>4</td>\n",
       "      <td>3</td>\n",
       "      <td>2</td>\n",
       "      <td>0</td>\n",
       "      <td>109.1</td>\n",
       "      <td>...</td>\n",
       "      <td>3</td>\n",
       "      <td>3.01</td>\n",
       "      <td>3.40</td>\n",
       "      <td>23.0</td>\n",
       "      <td>106</td>\n",
       "      <td>4800</td>\n",
       "      <td>26</td>\n",
       "      <td>27</td>\n",
       "      <td>22470.0</td>\n",
       "      <td>435</td>\n",
       "    </tr>\n",
       "    <tr>\n",
       "      <th>204</th>\n",
       "      <td>-1</td>\n",
       "      <td>volvo 264gl</td>\n",
       "      <td>1</td>\n",
       "      <td>21</td>\n",
       "      <td>1</td>\n",
       "      <td>4</td>\n",
       "      <td>3</td>\n",
       "      <td>2</td>\n",
       "      <td>0</td>\n",
       "      <td>109.1</td>\n",
       "      <td>...</td>\n",
       "      <td>5</td>\n",
       "      <td>3.78</td>\n",
       "      <td>3.15</td>\n",
       "      <td>9.5</td>\n",
       "      <td>114</td>\n",
       "      <td>5400</td>\n",
       "      <td>19</td>\n",
       "      <td>25</td>\n",
       "      <td>22625.0</td>\n",
       "      <td>423</td>\n",
       "    </tr>\n",
       "  </tbody>\n",
       "</table>\n",
       "<p>187 rows × 27 columns</p>\n",
       "</div>"
      ],
      "text/plain": [
       "     symboling                   CarName  fueltype  CompanyName  aspiration  \\\n",
       "0            3        alfa-romero giulia         1            0           0   \n",
       "1            3       alfa-romero stelvio         1            0           0   \n",
       "2            1  alfa-romero Quadrifoglio         1            0           0   \n",
       "3            2               audi 100 ls         1            1           0   \n",
       "4            2                audi 100ls         1            1           0   \n",
       "..         ...                       ...       ...          ...         ...   \n",
       "200         -1           volvo 145e (sw)         1           21           0   \n",
       "201         -1               volvo 144ea         1           21           1   \n",
       "202         -1               volvo 244dl         1           21           0   \n",
       "203         -1                 volvo 246         0           21           1   \n",
       "204         -1               volvo 264gl         1           21           1   \n",
       "\n",
       "     doornumber  carbody  drivewheel  enginelocation  wheelbase  ...  \\\n",
       "0             2        0           2               0       88.6  ...   \n",
       "1             2        0           2               0       88.6  ...   \n",
       "2             2        2           2               0       94.5  ...   \n",
       "3             4        3           1               0       99.8  ...   \n",
       "4             4        3           0               0       99.4  ...   \n",
       "..          ...      ...         ...             ...        ...  ...   \n",
       "200           4        3           2               0      109.1  ...   \n",
       "201           4        3           2               0      109.1  ...   \n",
       "202           4        3           2               0      109.1  ...   \n",
       "203           4        3           2               0      109.1  ...   \n",
       "204           4        3           2               0      109.1  ...   \n",
       "\n",
       "     fuelsystem  boreratio  stroke  compressionratio  horsepower  peakrpm  \\\n",
       "0             5       3.47    2.68               9.0         111     5000   \n",
       "1             5       3.47    2.68               9.0         111     5000   \n",
       "2             5       2.68    3.47               9.0         154     5000   \n",
       "3             5       3.19    3.40              10.0         102     5500   \n",
       "4             5       3.19    3.40               8.0         115     5500   \n",
       "..          ...        ...     ...               ...         ...      ...   \n",
       "200           5       3.78    3.15               9.5         114     5400   \n",
       "201           5       3.78    3.15               8.7         160     5300   \n",
       "202           5       3.58    2.87               8.8         134     5500   \n",
       "203           3       3.01    3.40              23.0         106     4800   \n",
       "204           5       3.78    3.15               9.5         114     5400   \n",
       "\n",
       "     citympg  highwaympg    price  enginetype_and_enginesize  \n",
       "0         21          27  13495.0                          0  \n",
       "1         21          27  16500.0                          0  \n",
       "2         19          26  16500.0                        760  \n",
       "3         24          30  13950.0                        327  \n",
       "4         18          22  17450.0                        408  \n",
       "..       ...         ...      ...                        ...  \n",
       "200       23          28  16845.0                        423  \n",
       "201       19          25  19045.0                        423  \n",
       "202       18          23  21485.0                        865  \n",
       "203       26          27  22470.0                        435  \n",
       "204       19          25  22625.0                        423  \n",
       "\n",
       "[187 rows x 27 columns]"
      ]
     },
     "execution_count": 46,
     "metadata": {},
     "output_type": "execute_result"
    }
   ],
   "source": [
    "car_prices"
   ]
  },
  {
   "cell_type": "code",
   "execution_count": 47,
   "id": "9697d250",
   "metadata": {},
   "outputs": [
    {
     "data": {
      "text/plain": [
       "LinearRegression()"
      ]
     },
     "execution_count": 47,
     "metadata": {},
     "output_type": "execute_result"
    }
   ],
   "source": [
    "Y = car_prices['price']\n",
    "X = car_prices.drop(columns=['price','CarName'], axis=1)\n",
    "lrm = linear_model.LinearRegression()\n",
    "lrm.fit(X, Y)"
   ]
  },
  {
   "cell_type": "code",
   "execution_count": 48,
   "id": "d4541d5b",
   "metadata": {},
   "outputs": [
    {
     "data": {
      "text/html": [
       "<table class=\"simpletable\">\n",
       "<caption>OLS Regression Results</caption>\n",
       "<tr>\n",
       "  <th>Dep. Variable:</th>          <td>price</td>      <th>  R-squared:         </th> <td>   0.851</td>\n",
       "</tr>\n",
       "<tr>\n",
       "  <th>Model:</th>                   <td>OLS</td>       <th>  Adj. R-squared:    </th> <td>   0.829</td>\n",
       "</tr>\n",
       "<tr>\n",
       "  <th>Method:</th>             <td>Least Squares</td>  <th>  F-statistic:       </th> <td>   38.47</td>\n",
       "</tr>\n",
       "<tr>\n",
       "  <th>Date:</th>             <td>Fri, 31 Dec 2021</td> <th>  Prob (F-statistic):</th> <td>1.15e-54</td>\n",
       "</tr>\n",
       "<tr>\n",
       "  <th>Time:</th>                 <td>14:50:40</td>     <th>  Log-Likelihood:    </th> <td> -1663.2</td>\n",
       "</tr>\n",
       "<tr>\n",
       "  <th>No. Observations:</th>      <td>   187</td>      <th>  AIC:               </th> <td>   3376.</td>\n",
       "</tr>\n",
       "<tr>\n",
       "  <th>Df Residuals:</th>          <td>   162</td>      <th>  BIC:               </th> <td>   3457.</td>\n",
       "</tr>\n",
       "<tr>\n",
       "  <th>Df Model:</th>              <td>    24</td>      <th>                     </th>     <td> </td>   \n",
       "</tr>\n",
       "<tr>\n",
       "  <th>Covariance Type:</th>      <td>nonrobust</td>    <th>                     </th>     <td> </td>   \n",
       "</tr>\n",
       "</table>\n",
       "<table class=\"simpletable\">\n",
       "<tr>\n",
       "              <td></td>                 <th>coef</th>     <th>std err</th>      <th>t</th>      <th>P>|t|</th>  <th>[0.025</th>    <th>0.975]</th>  \n",
       "</tr>\n",
       "<tr>\n",
       "  <th>const</th>                     <td>-6.789e+04</td> <td> 1.27e+04</td> <td>   -5.350</td> <td> 0.000</td> <td>-9.29e+04</td> <td>-4.28e+04</td>\n",
       "</tr>\n",
       "<tr>\n",
       "  <th>symboling</th>                 <td>  -26.8705</td> <td>  194.047</td> <td>   -0.138</td> <td> 0.890</td> <td> -410.058</td> <td>  356.317</td>\n",
       "</tr>\n",
       "<tr>\n",
       "  <th>fueltype</th>                  <td>  1.82e+04</td> <td> 5057.798</td> <td>    3.598</td> <td> 0.000</td> <td> 8209.083</td> <td> 2.82e+04</td>\n",
       "</tr>\n",
       "<tr>\n",
       "  <th>CompanyName</th>               <td> -182.1513</td> <td>   27.759</td> <td>   -6.562</td> <td> 0.000</td> <td> -236.967</td> <td> -127.336</td>\n",
       "</tr>\n",
       "<tr>\n",
       "  <th>aspiration</th>                <td> 1874.2384</td> <td>  730.905</td> <td>    2.564</td> <td> 0.011</td> <td>  430.909</td> <td> 3317.568</td>\n",
       "</tr>\n",
       "<tr>\n",
       "  <th>doornumber</th>                <td>  334.9352</td> <td>  237.367</td> <td>    1.411</td> <td> 0.160</td> <td> -133.798</td> <td>  803.668</td>\n",
       "</tr>\n",
       "<tr>\n",
       "  <th>carbody</th>                   <td> -345.2070</td> <td>  278.834</td> <td>   -1.238</td> <td> 0.217</td> <td> -895.826</td> <td>  205.412</td>\n",
       "</tr>\n",
       "<tr>\n",
       "  <th>drivewheel</th>                <td>  958.2926</td> <td>  423.158</td> <td>    2.265</td> <td> 0.025</td> <td>  122.676</td> <td> 1793.910</td>\n",
       "</tr>\n",
       "<tr>\n",
       "  <th>enginelocation</th>            <td> 1.674e-10</td> <td> 4.73e-11</td> <td>    3.538</td> <td> 0.001</td> <td>  7.4e-11</td> <td> 2.61e-10</td>\n",
       "</tr>\n",
       "<tr>\n",
       "  <th>wheelbase</th>                 <td>   53.1158</td> <td>   83.302</td> <td>    0.638</td> <td> 0.525</td> <td> -111.382</td> <td>  217.614</td>\n",
       "</tr>\n",
       "<tr>\n",
       "  <th>carlength</th>                 <td>  -45.9402</td> <td>   40.376</td> <td>   -1.138</td> <td> 0.257</td> <td> -125.672</td> <td>   33.792</td>\n",
       "</tr>\n",
       "<tr>\n",
       "  <th>carwidth</th>                  <td>  547.4477</td> <td>  195.487</td> <td>    2.800</td> <td> 0.006</td> <td>  161.416</td> <td>  933.479</td>\n",
       "</tr>\n",
       "<tr>\n",
       "  <th>carheight</th>                 <td>  193.3647</td> <td>  105.615</td> <td>    1.831</td> <td> 0.069</td> <td>  -15.195</td> <td>  401.925</td>\n",
       "</tr>\n",
       "<tr>\n",
       "  <th>curbweight</th>                <td>    3.0007</td> <td>    1.244</td> <td>    2.412</td> <td> 0.017</td> <td>    0.544</td> <td>    5.457</td>\n",
       "</tr>\n",
       "<tr>\n",
       "  <th>enginetype</th>                <td>  508.2487</td> <td>  771.300</td> <td>    0.659</td> <td> 0.511</td> <td>-1014.850</td> <td> 2031.347</td>\n",
       "</tr>\n",
       "<tr>\n",
       "  <th>cylindernumber</th>            <td>  -13.9532</td> <td>  373.993</td> <td>   -0.037</td> <td> 0.970</td> <td> -752.484</td> <td>  724.578</td>\n",
       "</tr>\n",
       "<tr>\n",
       "  <th>enginesize</th>                <td>   28.8284</td> <td>   28.628</td> <td>    1.007</td> <td> 0.315</td> <td>  -27.704</td> <td>   85.360</td>\n",
       "</tr>\n",
       "<tr>\n",
       "  <th>fuelsystem</th>                <td>  316.2926</td> <td>  114.324</td> <td>    2.767</td> <td> 0.006</td> <td>   90.536</td> <td>  542.049</td>\n",
       "</tr>\n",
       "<tr>\n",
       "  <th>boreratio</th>                 <td> -497.5768</td> <td>  823.241</td> <td>   -0.604</td> <td> 0.546</td> <td>-2123.244</td> <td> 1128.090</td>\n",
       "</tr>\n",
       "<tr>\n",
       "  <th>stroke</th>                    <td>-1950.8990</td> <td>  595.401</td> <td>   -3.277</td> <td> 0.001</td> <td>-3126.647</td> <td> -775.151</td>\n",
       "</tr>\n",
       "<tr>\n",
       "  <th>compressionratio</th>          <td> 1456.0492</td> <td>  368.758</td> <td>    3.949</td> <td> 0.000</td> <td>  727.856</td> <td> 2184.242</td>\n",
       "</tr>\n",
       "<tr>\n",
       "  <th>horsepower</th>                <td>   34.0441</td> <td>   17.598</td> <td>    1.935</td> <td> 0.055</td> <td>   -0.708</td> <td>   68.796</td>\n",
       "</tr>\n",
       "<tr>\n",
       "  <th>peakrpm</th>                   <td>   -0.1967</td> <td>    0.526</td> <td>   -0.374</td> <td> 0.709</td> <td>   -1.235</td> <td>    0.842</td>\n",
       "</tr>\n",
       "<tr>\n",
       "  <th>citympg</th>                   <td> -277.8658</td> <td>  121.623</td> <td>   -2.285</td> <td> 0.024</td> <td> -518.036</td> <td>  -37.696</td>\n",
       "</tr>\n",
       "<tr>\n",
       "  <th>highwaympg</th>                <td>  189.4574</td> <td>  107.701</td> <td>    1.759</td> <td> 0.080</td> <td>  -23.221</td> <td>  402.136</td>\n",
       "</tr>\n",
       "<tr>\n",
       "  <th>enginetype_and_enginesize</th> <td>   -3.6649</td> <td>    5.283</td> <td>   -0.694</td> <td> 0.489</td> <td>  -14.096</td> <td>    6.767</td>\n",
       "</tr>\n",
       "</table>\n",
       "<table class=\"simpletable\">\n",
       "<tr>\n",
       "  <th>Omnibus:</th>       <td> 5.392</td> <th>  Durbin-Watson:     </th> <td>   1.081</td>\n",
       "</tr>\n",
       "<tr>\n",
       "  <th>Prob(Omnibus):</th> <td> 0.067</td> <th>  Jarque-Bera (JB):  </th> <td>   4.983</td>\n",
       "</tr>\n",
       "<tr>\n",
       "  <th>Skew:</th>          <td> 0.361</td> <th>  Prob(JB):          </th> <td>  0.0828</td>\n",
       "</tr>\n",
       "<tr>\n",
       "  <th>Kurtosis:</th>      <td> 3.343</td> <th>  Cond. No.          </th> <td>1.00e+16</td>\n",
       "</tr>\n",
       "</table><br/><br/>Notes:<br/>[1] Standard Errors assume that the covariance matrix of the errors is correctly specified.<br/>[2] The smallest eigenvalue is 6.09e-23. This might indicate that there are<br/>strong multicollinearity problems or that the design matrix is singular."
      ],
      "text/plain": [
       "<class 'statsmodels.iolib.summary.Summary'>\n",
       "\"\"\"\n",
       "                            OLS Regression Results                            \n",
       "==============================================================================\n",
       "Dep. Variable:                  price   R-squared:                       0.851\n",
       "Model:                            OLS   Adj. R-squared:                  0.829\n",
       "Method:                 Least Squares   F-statistic:                     38.47\n",
       "Date:                Fri, 31 Dec 2021   Prob (F-statistic):           1.15e-54\n",
       "Time:                        14:50:40   Log-Likelihood:                -1663.2\n",
       "No. Observations:                 187   AIC:                             3376.\n",
       "Df Residuals:                     162   BIC:                             3457.\n",
       "Df Model:                          24                                         \n",
       "Covariance Type:            nonrobust                                         \n",
       "=============================================================================================\n",
       "                                coef    std err          t      P>|t|      [0.025      0.975]\n",
       "---------------------------------------------------------------------------------------------\n",
       "const                     -6.789e+04   1.27e+04     -5.350      0.000   -9.29e+04   -4.28e+04\n",
       "symboling                   -26.8705    194.047     -0.138      0.890    -410.058     356.317\n",
       "fueltype                    1.82e+04   5057.798      3.598      0.000    8209.083    2.82e+04\n",
       "CompanyName                -182.1513     27.759     -6.562      0.000    -236.967    -127.336\n",
       "aspiration                 1874.2384    730.905      2.564      0.011     430.909    3317.568\n",
       "doornumber                  334.9352    237.367      1.411      0.160    -133.798     803.668\n",
       "carbody                    -345.2070    278.834     -1.238      0.217    -895.826     205.412\n",
       "drivewheel                  958.2926    423.158      2.265      0.025     122.676    1793.910\n",
       "enginelocation             1.674e-10   4.73e-11      3.538      0.001     7.4e-11    2.61e-10\n",
       "wheelbase                    53.1158     83.302      0.638      0.525    -111.382     217.614\n",
       "carlength                   -45.9402     40.376     -1.138      0.257    -125.672      33.792\n",
       "carwidth                    547.4477    195.487      2.800      0.006     161.416     933.479\n",
       "carheight                   193.3647    105.615      1.831      0.069     -15.195     401.925\n",
       "curbweight                    3.0007      1.244      2.412      0.017       0.544       5.457\n",
       "enginetype                  508.2487    771.300      0.659      0.511   -1014.850    2031.347\n",
       "cylindernumber              -13.9532    373.993     -0.037      0.970    -752.484     724.578\n",
       "enginesize                   28.8284     28.628      1.007      0.315     -27.704      85.360\n",
       "fuelsystem                  316.2926    114.324      2.767      0.006      90.536     542.049\n",
       "boreratio                  -497.5768    823.241     -0.604      0.546   -2123.244    1128.090\n",
       "stroke                    -1950.8990    595.401     -3.277      0.001   -3126.647    -775.151\n",
       "compressionratio           1456.0492    368.758      3.949      0.000     727.856    2184.242\n",
       "horsepower                   34.0441     17.598      1.935      0.055      -0.708      68.796\n",
       "peakrpm                      -0.1967      0.526     -0.374      0.709      -1.235       0.842\n",
       "citympg                    -277.8658    121.623     -2.285      0.024    -518.036     -37.696\n",
       "highwaympg                  189.4574    107.701      1.759      0.080     -23.221     402.136\n",
       "enginetype_and_enginesize    -3.6649      5.283     -0.694      0.489     -14.096       6.767\n",
       "==============================================================================\n",
       "Omnibus:                        5.392   Durbin-Watson:                   1.081\n",
       "Prob(Omnibus):                  0.067   Jarque-Bera (JB):                4.983\n",
       "Skew:                           0.361   Prob(JB):                       0.0828\n",
       "Kurtosis:                       3.343   Cond. No.                     1.00e+16\n",
       "==============================================================================\n",
       "\n",
       "Notes:\n",
       "[1] Standard Errors assume that the covariance matrix of the errors is correctly specified.\n",
       "[2] The smallest eigenvalue is 6.09e-23. This might indicate that there are\n",
       "strong multicollinearity problems or that the design matrix is singular.\n",
       "\"\"\""
      ]
     },
     "execution_count": 48,
     "metadata": {},
     "output_type": "execute_result"
    }
   ],
   "source": [
    "X = sm.add_constant(X)\n",
    "results = sm.OLS(Y, X).fit()\n",
    "results.summary()"
   ]
  },
  {
   "cell_type": "code",
   "execution_count": 49,
   "id": "7c0b5346",
   "metadata": {},
   "outputs": [],
   "source": [
    "X_train, X_test, y_train, y_test = train_test_split(X, Y, test_size = 0.08, random_state = 0)"
   ]
  },
  {
   "cell_type": "code",
   "execution_count": 50,
   "id": "e68d337b",
   "metadata": {},
   "outputs": [
    {
     "data": {
      "image/png": "[encoded data removed]",
      "text/plain": [
       "<Figure size 600x400 with 1 Axes>"
      ]
     },
     "metadata": {
      "needs_background": "light"
     },
     "output_type": "display_data"
    },
    {
     "name": "stdout",
     "output_type": "stream",
     "text": [
      "Ortalama Mutlak Hata (MAE)        : 1160.9796914874137\n",
      "Ortalama Kare Hata (MSE)          : 1863476.855467293\n",
      "Kök Ortalama Kare Hata (RMSE)     : 1365.0922516325747\n",
      "Ortalama Mutlak Yüzde Hata (MAPE) : 12.238500475954957\n"
     ]
    }
   ],
   "source": [
    "X_test = sm.add_constant(X_test)\n",
    "\n",
    "y_preds = results.predict(X_test)\n",
    "\n",
    "\n",
    "baslik_font = {'family': 'arial','color':  'darkred','weight': 'bold','size': 15 }\n",
    "eksen_font = {'family': 'arial','color':  'darkblue','weight': 'bold','size': 10 }\n",
    "plt.figure(dpi = 100)\n",
    "\n",
    "plt.scatter(y_test, y_preds)\n",
    "plt.plot(y_test, y_test, color=\"red\")\n",
    "plt.xlabel(\"Gerçek Değerler\", fontdict=eksen_font)\n",
    "plt.ylabel(\"Tahmin edilen Değerler\", fontdict=eksen_font)\n",
    "plt.title(\"Ücretler: Gerçek ve tahmin edilen değerler\", fontdict=baslik_font)\n",
    "plt.show()\n",
    "\n",
    "print(\"Ortalama Mutlak Hata (MAE)        : {}\".format(mean_absolute_error(y_test, y_preds)))\n",
    "print(\"Ortalama Kare Hata (MSE)          : {}\".format(mse(y_test, y_preds)))\n",
    "print(\"Kök Ortalama Kare Hata (RMSE)     : {}\".format(rmse(y_test, y_preds)))\n",
    "print(\"Ortalama Mutlak Yüzde Hata (MAPE) : {}\".format(np.mean(np.abs((y_test - y_preds) / y_test)) * 100))"
   ]
  },
  {
   "cell_type": "markdown",
   "id": "9eb6e69a",
   "metadata": {},
   "source": [
    "**MAPE has dropped seriously.**"
   ]
  },
  {
   "cell_type": "code",
   "execution_count": 51,
   "id": "f096b477",
   "metadata": {},
   "outputs": [
    {
     "name": "stdout",
     "output_type": "stream",
     "text": [
      "Eğitim kümesi R-Kare değeri       : 0.8389524269107074\n",
      "-----Test kümesi istatistikleri---\n",
      "Test kümesi R-Kare değeri         : 0.8505122223946872\n",
      "Ortalama Mutlak Hata (MAE)        : 1330.7903074676235\n",
      "Ortalama Kare Hata (MSE)          : 2822396.0097380774\n",
      "Kök Ortalama Kare Hata (RMSE)     : 1679.998812421627\n",
      "Ortalama Mutlak Yüzde Hata (MAPE) : 13.608841508182639\n"
     ]
    }
   ],
   "source": [
    "from sklearn.linear_model import Ridge\n",
    "\n",
    "ridgeregr = Ridge(alpha=1) \n",
    "ridgeregr.fit(X_train, y_train)\n",
    "\n",
    "y_egitim_tahmini = ridgeregr.predict(X_train)\n",
    "y_test_tahmini = ridgeregr.predict(X_test)\n",
    "\n",
    "print(\"Eğitim kümesi R-Kare değeri       : {}\".format(ridgeregr.score(X_train, y_train)))\n",
    "print(\"-----Test kümesi istatistikleri---\")\n",
    "print(\"Test kümesi R-Kare değeri         : {}\".format(ridgeregr.score(X_test, y_test)))\n",
    "print(\"Ortalama Mutlak Hata (MAE)        : {}\".format(mean_absolute_error(y_test, y_test_tahmini)))\n",
    "print(\"Ortalama Kare Hata (MSE)          : {}\".format(mse(y_test, y_test_tahmini)))\n",
    "print(\"Kök Ortalama Kare Hata (RMSE)     : {}\".format(rmse(y_test, y_test_tahmini)))\n",
    "print(\"Ortalama Mutlak Yüzde Hata (MAPE) : {}\".format(np.mean(np.abs((y_test - y_test_tahmini) / y_test)) * 100))"
   ]
  },
  {
   "cell_type": "code",
   "execution_count": 52,
   "id": "e8981117",
   "metadata": {},
   "outputs": [
    {
     "name": "stdout",
     "output_type": "stream",
     "text": [
      "Eğitim kümesi R-Kare değeri       : 0.8474021064753001\n",
      "-----Test kümesi istatistikleri---\n",
      "Test kümesi R-Kare değeri         : 0.8688911764828702\n",
      "Ortalama Mutlak Hata (MAE)        : 1276.2996406857612\n",
      "Ortalama Kare Hata (MSE)          : 2475393.1476137596\n",
      "Kök Ortalama Kare Hata (RMSE)     : 1573.338217807525\n",
      "Ortalama Mutlak Yüzde Hata (MAPE) : 13.157814681029587\n"
     ]
    }
   ],
   "source": [
    "from sklearn.linear_model import Lasso\n",
    "\n",
    "lassoregr = Lasso(alpha=0.01) \n",
    "lassoregr.fit(X_train, y_train)\n",
    "\n",
    "y_egitim_tahmini = lassoregr.predict(X_train)\n",
    "y_test_tahmini = lassoregr.predict(X_test)\n",
    "\n",
    "print(\"Eğitim kümesi R-Kare değeri       : {}\".format(lassoregr.score(X_train, y_train)))\n",
    "print(\"-----Test kümesi istatistikleri---\")\n",
    "print(\"Test kümesi R-Kare değeri         : {}\".format(lassoregr.score(X_test, y_test)))\n",
    "print(\"Ortalama Mutlak Hata (MAE)        : {}\".format(mean_absolute_error(y_test, y_test_tahmini)))\n",
    "print(\"Ortalama Kare Hata (MSE)          : {}\".format(mse(y_test, y_test_tahmini)))\n",
    "print(\"Kök Ortalama Kare Hata (RMSE)     : {}\".format(rmse(y_test, y_test_tahmini)))\n",
    "print(\"Ortalama Mutlak Yüzde Hata (MAPE) : {}\".format(np.mean(np.abs((y_test - y_test_tahmini) / y_test)) * 100))"
   ]
  },
  {
   "cell_type": "markdown",
   "id": "79a24c80",
   "metadata": {},
   "source": [
    "### Before cleaning out the outliers;\n",
    "\n",
    "**Linear Regression MAPE:** 17.73\n",
    "\n",
    "**Ridge Regression MAPE:** 22.019\n",
    "\n",
    "**Lasso Regression MAPE:** 21.277\n",
    "\n",
    "\n",
    "### After cleaning out the outliers;\n",
    "\n",
    "**Linear Regression MAPE:** 12.238\n",
    "\n",
    "**Ridge Regression MAPE:** 13.608\n",
    "\n",
    "**Lasso Regression MAPE:** 13.157\n"
   ]
  },
  {
   "cell_type": "markdown",
   "id": "b14b31db",
   "metadata": {},
   "source": [
    "**Let's delete the outliers not only from the target variable, but also from the important features and look at the results again.**"
   ]
  },
  {
   "cell_type": "code",
   "execution_count": 53,
   "id": "d72cf19a",
   "metadata": {},
   "outputs": [
    {
     "data": {
      "image/png": "[encoded data removed]",
      "text/plain": [
       "<Figure size 432x288 with 1 Axes>"
      ]
     },
     "metadata": {
      "needs_background": "light"
     },
     "output_type": "display_data"
    }
   ],
   "source": [
    "plt.title('Car Curb Weight Spread')\n",
    "sns.boxplot(y=car_prices.curbweight)\n",
    "plt.show()"
   ]
  },
  {
   "cell_type": "code",
   "execution_count": 54,
   "id": "207040fd",
   "metadata": {},
   "outputs": [
    {
     "data": {
      "image/png": "[encoded data removed]",
      "text/plain": [
       "<Figure size 432x288 with 1 Axes>"
      ]
     },
     "metadata": {
      "needs_background": "light"
     },
     "output_type": "display_data"
    }
   ],
   "source": [
    "plt.title('Car horsepower Spread')\n",
    "sns.boxplot(y=car_prices.horsepower)\n",
    "plt.show()"
   ]
  },
  {
   "cell_type": "code",
   "execution_count": 55,
   "id": "8fa6528b",
   "metadata": {},
   "outputs": [
    {
     "data": {
      "image/png": "[encoded data removed]",
      "text/plain": [
       "<Figure size 432x288 with 1 Axes>"
      ]
     },
     "metadata": {
      "needs_background": "light"
     },
     "output_type": "display_data"
    }
   ],
   "source": [
    "plt.title('Car enginetype_and_enginesize Spread')\n",
    "sns.boxplot(y=car_prices.enginetype_and_enginesize)\n",
    "plt.show()"
   ]
  },
  {
   "cell_type": "markdown",
   "id": "bc6be73a",
   "metadata": {},
   "source": [
    "**Let's look at the results again by clearing out the outliers here.**"
   ]
  },
  {
   "cell_type": "code",
   "execution_count": 56,
   "id": "11bd2aa3",
   "metadata": {},
   "outputs": [],
   "source": [
    "#q75, q25 = np.percentile(car_prices[\"enginetype_and_enginesize\"], [75 ,25])\n",
    "#IQR = q75 - q25\n",
    "\n",
    "#threshold_values=[]\n",
    "#for threshold_value in np.arange(1,5,0.5):\n",
    " #   min_value = q25 - (IQR*threshold_value)\n",
    "  #  max_value = q75 + (IQR*threshold_value)\n",
    "   # outlier_value_number = len((np.where((car_prices[\"enginetype_and_enginesize\"].dropna() > max_value)| (car_prices[\"enginetype_and_enginesize\"].dropna() < min_value))[0]))\n",
    "   # threshold_values.append({'threshold_value': threshold_value,'outlier_value_number': outlier_value_number})\n",
    "#pd.DataFrame(threshold_values)"
   ]
  },
  {
   "cell_type": "markdown",
   "id": "b60b4ac7",
   "metadata": {},
   "source": [
    "**Let's take the threshold value of 2.**"
   ]
  },
  {
   "cell_type": "code",
   "execution_count": 57,
   "id": "b870d9e2",
   "metadata": {},
   "outputs": [],
   "source": [
    "#def outliers(df, ft):\n",
    "#    Q1 = df[ft].quantile(0.25)\n",
    "#    Q3 = df[ft].quantile(0.75)\n",
    "#    IQR = Q3 - Q1\n",
    "    \n",
    "#    lower_bound = Q1 - 2* IQR\n",
    "#   upper_bound = Q3 + 2 * IQR\n",
    "#    ls = df.index[(car_prices[ft] < lower_bound) | (car_prices[ft]>upper_bound)]\n",
    "#    return ls\n",
    "#index_list = []\n",
    "#for feature in ['enginetype_and_enginesize']:\n",
    "#    index_list.extend(outliers(car_prices, feature))\n",
    "#print(len(index_list))\n",
    "#print(index_list)"
   ]
  },
  {
   "cell_type": "code",
   "execution_count": 58,
   "id": "b78ca917",
   "metadata": {},
   "outputs": [],
   "source": [
    "#def remove(car_prices , ls):\n",
    "#    ls = sorted(set(ls))\n",
    "#    car_prices=car_prices.drop(ls)\n",
    "#    return car_prices\n",
    "#car_prices = remove(car_prices , index_list)"
   ]
  },
  {
   "cell_type": "code",
   "execution_count": 59,
   "id": "4b8cccf3",
   "metadata": {},
   "outputs": [],
   "source": [
    "#car_prices.shape"
   ]
  },
  {
   "cell_type": "code",
   "execution_count": 60,
   "id": "9dcf5727",
   "metadata": {},
   "outputs": [],
   "source": [
    "#Y = car_prices['price']\n",
    "#X = car_prices.drop(columns=['price','CarName'], axis=1)\n",
    "#lrm = linear_model.LinearRegression()\n",
    "#lrm.fit(X, Y)"
   ]
  },
  {
   "cell_type": "code",
   "execution_count": 61,
   "id": "b9005a2e",
   "metadata": {},
   "outputs": [],
   "source": [
    "#X = sm.add_constant(X)\n",
    "#results = sm.OLS(Y, X).fit()\n",
    "#results.summary()"
   ]
  },
  {
   "cell_type": "code",
   "execution_count": 62,
   "id": "326d3710",
   "metadata": {},
   "outputs": [],
   "source": [
    "#X_train, X_test, y_train, y_test = train_test_split(X, Y, test_size = 0.08, random_state = 0)"
   ]
  },
  {
   "cell_type": "code",
   "execution_count": 63,
   "id": "7c31f1d8",
   "metadata": {},
   "outputs": [],
   "source": [
    "#X_test = sm.add_constant(X_test)\n",
    "\n",
    "#y_preds = results.predict(X_test)\n",
    "\n",
    "\n",
    "#baslik_font = {'family': 'arial','color':  'darkred','weight': 'bold','size': 15 }\n",
    "#eksen_font = {'family': 'arial','color':  'darkblue','weight': 'bold','size': 10 }\n",
    "#plt.figure(dpi = 100)\n",
    "\n",
    "#plt.scatter(y_test, y_preds)\n",
    "#plt.plot(y_test, y_test, color=\"red\")\n",
    "#plt.xlabel(\"Gerçek Değerler\", fontdict=eksen_font)\n",
    "#plt.ylabel(\"Tahmin edilen Değerler\", fontdict=eksen_font)\n",
    "#plt.title(\"Ücretler: Gerçek ve tahmin edilen değerler\", fontdict=baslik_font)\n",
    "#plt.show()\n",
    "\n",
    "#print(\"Ortalama Mutlak Hata (MAE)        : {}\".format(mean_absolute_error(y_test, y_preds)))\n",
    "#print(\"Ortalama Kare Hata (MSE)          : {}\".format(mse(y_test, y_preds)))\n",
    "#print(\"Kök Ortalama Kare Hata (RMSE)     : {}\".format(rmse(y_test, y_preds)))\n",
    "#print(\"Ortalama Mutlak Yüzde Hata (MAPE) : {}\".format(np.mean(np.abs((y_test - y_preds) / y_test)) * 100))"
   ]
  },
  {
   "cell_type": "code",
   "execution_count": 64,
   "id": "78fe91fb",
   "metadata": {},
   "outputs": [],
   "source": [
    "#from sklearn.linear_model import Ridge\n",
    "\n",
    "#ridgeregr = Ridge(alpha=1) \n",
    "#ridgeregr.fit(X_train, y_train)\n",
    "\n",
    "#y_egitim_tahmini = ridgeregr.predict(X_train)\n",
    "#y_test_tahmini = ridgeregr.predict(X_test)\n",
    "\n",
    "#print(\"Eğitim kümesi R-Kare değeri       : {}\".format(ridgeregr.score(X_train, y_train)))\n",
    "#print(\"-----Test kümesi istatistikleri---\")\n",
    "#print(\"Test kümesi R-Kare değeri         : {}\".format(ridgeregr.score(X_test, y_test)))\n",
    "#print(\"Ortalama Mutlak Hata (MAE)        : {}\".format(mean_absolute_error(y_test, y_test_tahmini)))\n",
    "#print(\"Ortalama Kare Hata (MSE)          : {}\".format(mse(y_test, y_test_tahmini)))\n",
    "#print(\"Kök Ortalama Kare Hata (RMSE)     : {}\".format(rmse(y_test, y_test_tahmini)))\n",
    "#print(\"Ortalama Mutlak Yüzde Hata (MAPE) : {}\".format(np.mean(np.abs((y_test - y_test_tahmini) / y_test)) * 100))"
   ]
  },
  {
   "cell_type": "code",
   "execution_count": 65,
   "id": "fd251753",
   "metadata": {},
   "outputs": [],
   "source": [
    "#from sklearn.linear_model import Lasso\n",
    "\n",
    "#lassoregr = Lasso(alpha=0.01) \n",
    "#lassoregr.fit(X_train, y_train)\n",
    "\n",
    "#y_egitim_tahmini = lassoregr.predict(X_train)\n",
    "#y_test_tahmini = lassoregr.predict(X_test)\n",
    "\n",
    "#print(\"Eğitim kümesi R-Kare değeri       : {}\".format(lassoregr.score(X_train, y_train)))\n",
    "#print(\"-----Test kümesi istatistikleri---\")\n",
    "#print(\"Test kümesi R-Kare değeri         : {}\".format(lassoregr.score(X_test, y_test)))\n",
    "#print(\"Ortalama Mutlak Hata (MAE)        : {}\".format(mean_absolute_error(y_test, y_test_tahmini)))\n",
    "#print(\"Ortalama Kare Hata (MSE)          : {}\".format(mse(y_test, y_test_tahmini)))\n",
    "#print(\"Kök Ortalama Kare Hata (RMSE)     : {}\".format(rmse(y_test, y_test_tahmini)))\n",
    "#print(\"Ortalama Mutlak Yüzde Hata (MAPE) : {}\".format(np.mean(np.abs((y_test - y_test_tahmini) / y_test)) * 100))"
   ]
  },
  {
   "cell_type": "markdown",
   "id": "bf61dc2f",
   "metadata": {},
   "source": [
    "### Before cleaning out the outliers;\n",
    "\n",
    "\n",
    "**Linear Regression MAPE:** 17.73\n",
    "\n",
    "**Ridge Regression MAPE:** 22.019\n",
    "\n",
    "**Lasso Regression MAPE:** 21.277\n",
    "\n",
    "\n",
    "### After cleaning out the outliers from 'price';\n",
    "\n",
    "**Linear Regression MAPE:** 12.238\n",
    "\n",
    "**Ridge Regression MAPE:** 13.608\n",
    "\n",
    "**Lasso Regression MAPE:** 13.157\n",
    "\n",
    "### After cleaning out the outliers from 'price' and 'enginetype_and_enginesize';\n",
    "\n",
    "**Linear Regression MAPE:** 13.849\n",
    "\n",
    "**Ridge Regression MAPE:** 16.376\n",
    "\n",
    "**Lasso Regression MAPE:** 16.733\n"
   ]
  },
  {
   "cell_type": "markdown",
   "id": "99e5176d",
   "metadata": {},
   "source": [
    "**The values got better after cleaning out the outliers.**"
   ]
  },
  {
   "cell_type": "code",
   "execution_count": 66,
   "id": "f59c5f17",
   "metadata": {},
   "outputs": [
    {
     "data": {
      "image/png": "[encoded data removed]",
      "text/plain": [
       "<Figure size 432x288 with 1 Axes>"
      ]
     },
     "metadata": {
      "needs_background": "light"
     },
     "output_type": "display_data"
    }
   ],
   "source": [
    "plt.title('distribution of car prices')\n",
    "sns.distplot(car_prices.price)\n",
    "plt.show()"
   ]
  },
  {
   "cell_type": "markdown",
   "id": "25c28544",
   "metadata": {},
   "source": [
    "**Now it has a more normal distribution.**"
   ]
  },
  {
   "cell_type": "markdown",
   "id": "749e959a",
   "metadata": {},
   "source": [
    "**When we deleted outliers from both features, our model performed poorly. Therefore, let's continue without clearing outliers from the engine_size_and_engine_type property. I will put those actions I have done in the comment line.**"
   ]
  },
  {
   "cell_type": "code",
   "execution_count": 67,
   "id": "b2a778aa",
   "metadata": {},
   "outputs": [
    {
     "data": {
      "text/plain": [
       "(187, 27)"
      ]
     },
     "execution_count": 67,
     "metadata": {},
     "output_type": "execute_result"
    }
   ],
   "source": [
    "car_prices.shape"
   ]
  },
  {
   "cell_type": "markdown",
   "id": "ce8d6daf",
   "metadata": {},
   "source": [
    "## Let's apply KNN algorithm to the model."
   ]
  },
  {
   "cell_type": "code",
   "execution_count": 68,
   "id": "de1919b1",
   "metadata": {},
   "outputs": [],
   "source": [
    "from sklearn.neighbors import KNeighborsRegressor\n",
    "from sklearn.metrics import mean_squared_error, r2_score\n",
    "from sklearn.preprocessing import scale\n",
    "from sklearn import model_selection\n",
    "\n",
    "y = car_prices['price']\n",
    "X = car_prices.drop(columns=['price','CarName'], axis=1)\n",
    "\n",
    "X_train , X_test , y_train, y_test = train_test_split(X,y,test_size=0.1,random_state=42)"
   ]
  },
  {
   "cell_type": "code",
   "execution_count": 69,
   "id": "94dce61a",
   "metadata": {},
   "outputs": [],
   "source": [
    "knn_model = KNeighborsRegressor().fit(X_train, y_train)"
   ]
  },
  {
   "cell_type": "code",
   "execution_count": 70,
   "id": "7eeaca11",
   "metadata": {},
   "outputs": [
    {
     "data": {
      "text/plain": [
       "KNeighborsRegressor()"
      ]
     },
     "execution_count": 70,
     "metadata": {},
     "output_type": "execute_result"
    }
   ],
   "source": [
    "knn_model"
   ]
  },
  {
   "cell_type": "code",
   "execution_count": 71,
   "id": "cdff156f",
   "metadata": {},
   "outputs": [
    {
     "data": {
      "text/plain": [
       "5"
      ]
     },
     "execution_count": 71,
     "metadata": {},
     "output_type": "execute_result"
    }
   ],
   "source": [
    "knn_model.n_neighbors"
   ]
  },
  {
   "cell_type": "code",
   "execution_count": 72,
   "id": "f7d507b4",
   "metadata": {},
   "outputs": [],
   "source": [
    "#python bize 5 komşu atadı."
   ]
  },
  {
   "cell_type": "code",
   "execution_count": 73,
   "id": "da000213",
   "metadata": {},
   "outputs": [
    {
     "data": {
      "text/plain": [
       "'euclidean'"
      ]
     },
     "execution_count": 73,
     "metadata": {},
     "output_type": "execute_result"
    }
   ],
   "source": [
    "knn_model.effective_metric_"
   ]
  },
  {
   "cell_type": "code",
   "execution_count": 74,
   "id": "81a59492",
   "metadata": {},
   "outputs": [],
   "source": [
    "#metrik olarak Euclidean atadı."
   ]
  },
  {
   "cell_type": "code",
   "execution_count": 75,
   "id": "a051becb",
   "metadata": {},
   "outputs": [],
   "source": [
    "y_pred= knn_model.predict(X_test)"
   ]
  },
  {
   "cell_type": "code",
   "execution_count": 76,
   "id": "db6330bf",
   "metadata": {},
   "outputs": [
    {
     "data": {
      "text/plain": [
       "2590.068796993218"
      ]
     },
     "execution_count": 76,
     "metadata": {},
     "output_type": "execute_result"
    }
   ],
   "source": [
    "np.sqrt(mean_squared_error(y_test,y_pred))  #test hatamızı hesaplıyoruz."
   ]
  },
  {
   "cell_type": "code",
   "execution_count": 77,
   "id": "81ea542c",
   "metadata": {},
   "outputs": [
    {
     "name": "stdout",
     "output_type": "stream",
     "text": [
      "k= 1 için RMSE değeri: 297.26845731474054\n",
      "k= 2 için RMSE değeri: 1256.5856622566387\n",
      "k= 3 için RMSE değeri: 1492.6458877086268\n",
      "k= 4 için RMSE değeri: 1646.5718520318399\n",
      "k= 5 için RMSE değeri: 1817.0874323658466\n",
      "k= 6 için RMSE değeri: 1844.8237659090928\n",
      "k= 7 için RMSE değeri: 1925.5431277788298\n",
      "k= 8 için RMSE değeri: 2006.7277006619897\n",
      "k= 9 için RMSE değeri: 2066.555141033418\n",
      "k= 10 için RMSE değeri: 2068.2823175368467\n"
     ]
    }
   ],
   "source": [
    "#farklı k değerlerine göre rmse değişimine bakalım.\n",
    "RMSE =[]\n",
    "\n",
    "for k in range(10):\n",
    "    k = k+1\n",
    "    knn_model = KNeighborsRegressor(n_neighbors = k).fit(X_train,y_train)\n",
    "    y_pred=knn_model.predict(X_train)\n",
    "    rmse = np.sqrt(mean_squared_error(y_train,y_pred))\n",
    "    RMSE.append(rmse)\n",
    "    print(\"k=\",k,\"için RMSE değeri:\",rmse)"
   ]
  },
  {
   "cell_type": "markdown",
   "id": "e9c559b7",
   "metadata": {},
   "source": [
    "**The standard deviation of the values is too high. We need to validate.**"
   ]
  },
  {
   "cell_type": "markdown",
   "id": "f5e23287",
   "metadata": {},
   "source": [
    "**Let's do cross validation and find optimum k value.**"
   ]
  },
  {
   "cell_type": "code",
   "execution_count": 78,
   "id": "c96af625",
   "metadata": {},
   "outputs": [],
   "source": [
    "from sklearn.model_selection import GridSearchCV"
   ]
  },
  {
   "cell_type": "code",
   "execution_count": 79,
   "id": "3c2427f2",
   "metadata": {},
   "outputs": [],
   "source": [
    "knn_params = {'n_neighbors': np.arange(1,20,1)}"
   ]
  },
  {
   "cell_type": "code",
   "execution_count": 80,
   "id": "61c3fca4",
   "metadata": {},
   "outputs": [],
   "source": [
    "knn = KNeighborsRegressor()"
   ]
  },
  {
   "cell_type": "code",
   "execution_count": 81,
   "id": "9e8adf3a",
   "metadata": {},
   "outputs": [],
   "source": [
    "knn_cv_model = GridSearchCV(knn,knn_params,cv=10)"
   ]
  },
  {
   "cell_type": "code",
   "execution_count": 82,
   "id": "4f9902ba",
   "metadata": {},
   "outputs": [
    {
     "data": {
      "text/plain": [
       "GridSearchCV(cv=10, estimator=KNeighborsRegressor(),\n",
       "             param_grid={'n_neighbors': array([ 1,  2,  3,  4,  5,  6,  7,  8,  9, 10, 11, 12, 13, 14, 15, 16, 17,\n",
       "       18, 19])})"
      ]
     },
     "execution_count": 82,
     "metadata": {},
     "output_type": "execute_result"
    }
   ],
   "source": [
    "knn_cv_model.fit(X_train,y_train)"
   ]
  },
  {
   "cell_type": "code",
   "execution_count": 83,
   "id": "c1a8875a",
   "metadata": {},
   "outputs": [
    {
     "data": {
      "text/plain": [
       "4"
      ]
     },
     "execution_count": 83,
     "metadata": {},
     "output_type": "execute_result"
    }
   ],
   "source": [
    "knn_cv_model.best_params_[\"n_neighbors\"]"
   ]
  },
  {
   "cell_type": "markdown",
   "id": "312b91c1",
   "metadata": {},
   "source": [
    "**The optimum k value is 4.**"
   ]
  },
  {
   "cell_type": "code",
   "execution_count": 84,
   "id": "fac890cd",
   "metadata": {},
   "outputs": [
    {
     "name": "stdout",
     "output_type": "stream",
     "text": [
      "k= 1 için RMSE değeri:297.27  ______  RMSE_CV değeri:2634.03\n",
      "k= 2 için RMSE değeri:1256.59  ______  RMSE_CV değeri:2346.77\n",
      "k= 3 için RMSE değeri:1492.65  ______  RMSE_CV değeri:2322.96\n",
      "k= 4 için RMSE değeri:1646.57  ______  RMSE_CV değeri:2303.05\n",
      "k= 5 için RMSE değeri:1817.09  ______  RMSE_CV değeri:2325.10\n",
      "k= 6 için RMSE değeri:1844.82  ______  RMSE_CV değeri:2317.73\n",
      "k= 7 için RMSE değeri:1925.54  ______  RMSE_CV değeri:2331.52\n",
      "k= 8 için RMSE değeri:2006.73  ______  RMSE_CV değeri:2327.85\n",
      "k= 9 için RMSE değeri:2066.56  ______  RMSE_CV değeri:2319.70\n",
      "k= 10 için RMSE değeri:2068.28  ______  RMSE_CV değeri:2346.32\n"
     ]
    }
   ],
   "source": [
    "from sklearn.model_selection import GridSearchCV, cross_val_score\n",
    "RMSE=[]\n",
    "RMSE_CV=[]\n",
    "\n",
    "for k in range(10):\n",
    "    k = k+1\n",
    "    knn_model = KNeighborsRegressor(n_neighbors = k).fit(X_train,y_train)\n",
    "    y_pred=knn_model.predict(X_train)\n",
    "    rmse = np.sqrt(mean_squared_error(y_train,y_pred))\n",
    "    rmse_cv=np.sqrt(-1*cross_val_score(knn_model, X_train, y_train, cv=10,\n",
    "                                      scoring=\"neg_mean_squared_error\").mean())\n",
    "    RMSE.append(rmse)\n",
    "    RMSE_CV.append(rmse_cv)\n",
    "    print(\"k=\",k,\"için RMSE değeri:{:.2f}\".format(rmse),\" ______ \", \"RMSE_CV değeri:{:.2f}\".format(rmse_cv))"
   ]
  },
  {
   "cell_type": "markdown",
   "id": "bef70a02",
   "metadata": {},
   "source": [
    "**Standard deviation dropped and it became more logical.**"
   ]
  },
  {
   "cell_type": "code",
   "execution_count": 85,
   "id": "e0afd636",
   "metadata": {},
   "outputs": [
    {
     "data": {
      "text/plain": [
       "KNeighborsRegressor(n_neighbors=4)"
      ]
     },
     "execution_count": 85,
     "metadata": {},
     "output_type": "execute_result"
    }
   ],
   "source": [
    "knn_tuned = KNeighborsRegressor(n_neighbors = knn_cv_model.best_params_[\"n_neighbors\"])\n",
    "knn_tuned.fit(X_train,y_train)"
   ]
  },
  {
   "cell_type": "code",
   "execution_count": 86,
   "id": "3f425224",
   "metadata": {},
   "outputs": [
    {
     "data": {
      "text/plain": [
       "2594.307259414351"
      ]
     },
     "execution_count": 86,
     "metadata": {},
     "output_type": "execute_result"
    }
   ],
   "source": [
    "np.sqrt(mean_squared_error(y_test,knn_tuned.predict(X_test)))"
   ]
  },
  {
   "cell_type": "markdown",
   "id": "7da7be22",
   "metadata": {},
   "source": [
    "**We see that the rmse value has increased slightly.**"
   ]
  },
  {
   "cell_type": "code",
   "execution_count": 87,
   "id": "61653b52",
   "metadata": {},
   "outputs": [
    {
     "name": "stdout",
     "output_type": "stream",
     "text": [
      "Mean Absolute Error: 1773.72 unit.\n",
      "Accuracy: 83.655 %.\n"
     ]
    }
   ],
   "source": [
    "predictions = knn_cv_model.predict(X_test)\n",
    "errors = abs(predictions - y_test)\n",
    "print('Mean Absolute Error:', round(np.mean(errors), 2), 'unit.')\n",
    "mape = 100 * (errors / y_test)\n",
    "accuracy = 100 - np.mean(mape)\n",
    "print('Accuracy:', round(accuracy, 3), '%.')"
   ]
  },
  {
   "cell_type": "markdown",
   "id": "f94da325",
   "metadata": {},
   "source": [
    "## Decision Tree Algorithm"
   ]
  },
  {
   "cell_type": "code",
   "execution_count": 88,
   "id": "cd5f9658",
   "metadata": {},
   "outputs": [],
   "source": [
    "from sklearn.tree import DecisionTreeRegressor\n",
    "\n",
    "y = car_prices['price']\n",
    "X = car_prices.drop(columns=['price','CarName'], axis=1)\n",
    "\n",
    "X_train , X_test , y_train, y_test = train_test_split(X,y,test_size=0.1,random_state=42)"
   ]
  },
  {
   "cell_type": "code",
   "execution_count": 89,
   "id": "d48d9f63",
   "metadata": {},
   "outputs": [
    {
     "data": {
      "text/plain": [
       "DecisionTreeRegressor(max_depth=4)"
      ]
     },
     "execution_count": 89,
     "metadata": {},
     "output_type": "execute_result"
    }
   ],
   "source": [
    "dt_reg = DecisionTreeRegressor(max_depth=4)\n",
    "\n",
    "dt_reg.fit(X_train, y_train)"
   ]
  },
  {
   "cell_type": "code",
   "execution_count": 90,
   "id": "82234774",
   "metadata": {},
   "outputs": [
    {
     "name": "stdout",
     "output_type": "stream",
     "text": [
      "Karar Ağacının RMSE değeri : 2155.54\n"
     ]
    }
   ],
   "source": [
    "from sklearn.metrics import mean_squared_error as MSE\n",
    "y_tahmin = dt_reg.predict(X_test)\n",
    "mse_ka = MSE(y_tahmin, y_test)\n",
    "rmse_ka = mse_ka**(1/2)\n",
    "\n",
    "# Print rmse_dt\n",
    "print(\"Karar Ağacının RMSE değeri : {:.2f}\".format(rmse_ka))"
   ]
  },
  {
   "cell_type": "code",
   "execution_count": 91,
   "id": "62835dc1",
   "metadata": {},
   "outputs": [
    {
     "name": "stdout",
     "output_type": "stream",
     "text": [
      "Mean Absolute Error: 1685.36\n",
      "Accuracy: 84.324 %.\n"
     ]
    }
   ],
   "source": [
    "predictions = dt_reg.predict(X_test)\n",
    "errors = abs(predictions - y_test)\n",
    "print('Mean Absolute Error:', round(np.mean(errors), 2))\n",
    "mape = 100 * (errors / y_test)\n",
    "accuracy = 100 - np.mean(mape)\n",
    "print('Accuracy:', round(accuracy, 3), '%.')"
   ]
  },
  {
   "cell_type": "markdown",
   "id": "43a97758",
   "metadata": {},
   "source": [
    "**Let's try again by changing the maximum depth.**"
   ]
  },
  {
   "cell_type": "code",
   "execution_count": 92,
   "id": "488d859c",
   "metadata": {},
   "outputs": [
    {
     "data": {
      "text/plain": [
       "DecisionTreeRegressor(max_depth=6)"
      ]
     },
     "execution_count": 92,
     "metadata": {},
     "output_type": "execute_result"
    }
   ],
   "source": [
    "dt_reg = DecisionTreeRegressor(max_depth=6)\n",
    "\n",
    "dt_reg.fit(X_train, y_train)"
   ]
  },
  {
   "cell_type": "code",
   "execution_count": 93,
   "id": "d04dfc9f",
   "metadata": {},
   "outputs": [
    {
     "name": "stdout",
     "output_type": "stream",
     "text": [
      "Karar Ağacının RMSE değeri : 2074.68\n"
     ]
    }
   ],
   "source": [
    "from sklearn.metrics import mean_squared_error as MSE\n",
    "y_tahmin = dt_reg.predict(X_test)\n",
    "mse_ka = MSE(y_tahmin, y_test)\n",
    "rmse_ka = mse_ka**(1/2)\n",
    "\n",
    "# Print rmse_dt\n",
    "print(\"Karar Ağacının RMSE değeri : {:.2f}\".format(rmse_ka))"
   ]
  },
  {
   "cell_type": "code",
   "execution_count": 94,
   "id": "f08e874d",
   "metadata": {},
   "outputs": [
    {
     "name": "stdout",
     "output_type": "stream",
     "text": [
      "Mean Absolute Error: 1519.74\n",
      "Accuracy: 85.484 %.\n"
     ]
    }
   ],
   "source": [
    "predictions = dt_reg.predict(X_test)\n",
    "errors = abs(predictions - y_test)\n",
    "print('Mean Absolute Error:', round(np.mean(errors), 2))\n",
    "mape = 100 * (errors / y_test)\n",
    "accuracy = 100 - np.mean(mape)\n",
    "print('Accuracy:', round(accuracy, 3), '%.')"
   ]
  },
  {
   "cell_type": "markdown",
   "id": "52abf9f3",
   "metadata": {},
   "source": [
    "**As the decision tree max depth increased, rmse and mae decreased and accuracy increased.Let's try to decrease max_depth.**"
   ]
  },
  {
   "cell_type": "code",
   "execution_count": 95,
   "id": "f98e25a5",
   "metadata": {},
   "outputs": [
    {
     "data": {
      "text/plain": [
       "DecisionTreeRegressor(max_depth=3)"
      ]
     },
     "execution_count": 95,
     "metadata": {},
     "output_type": "execute_result"
    }
   ],
   "source": [
    "dt_reg = DecisionTreeRegressor(max_depth=3)\n",
    "\n",
    "dt_reg.fit(X_train, y_train)"
   ]
  },
  {
   "cell_type": "code",
   "execution_count": 96,
   "id": "8ba7e338",
   "metadata": {},
   "outputs": [
    {
     "name": "stdout",
     "output_type": "stream",
     "text": [
      "Karar Ağacının RMSE değeri : 2478.91\n"
     ]
    }
   ],
   "source": [
    "from sklearn.metrics import mean_squared_error as MSE\n",
    "y_tahmin2 = dt_reg.predict(X_test)\n",
    "mse_ka2 = MSE(y_tahmin2, y_test)\n",
    "rmse_ka2 = mse_ka2**(1/2)\n",
    "\n",
    "# Print rmse_dt\n",
    "print(\"Karar Ağacının RMSE değeri : {:.2f}\".format(rmse_ka2))"
   ]
  },
  {
   "cell_type": "code",
   "execution_count": 97,
   "id": "b6d07238",
   "metadata": {},
   "outputs": [
    {
     "name": "stdout",
     "output_type": "stream",
     "text": [
      "Mean Absolute Error: 1817.57\n",
      "Accuracy: 83.271 %.\n"
     ]
    }
   ],
   "source": [
    "predictions = dt_reg.predict(X_test)\n",
    "errors = abs(predictions - y_test)\n",
    "print('Mean Absolute Error:', round(np.mean(errors), 2))\n",
    "mape = 100 * (errors / y_test)\n",
    "accuracy = 100 - np.mean(mape)\n",
    "print('Accuracy:', round(accuracy, 3), '%.')"
   ]
  },
  {
   "cell_type": "markdown",
   "id": "5c57ee8f",
   "metadata": {},
   "source": [
    "**best scores were achieved when max_depth=6**"
   ]
  },
  {
   "cell_type": "code",
   "execution_count": 98,
   "id": "ed1da3a5",
   "metadata": {},
   "outputs": [
    {
     "data": {
      "text/plain": [
       "2"
      ]
     },
     "execution_count": 98,
     "metadata": {},
     "output_type": "execute_result"
    }
   ],
   "source": [
    "dt_reg.min_samples_split  #örneklem sayısını 2 kullanıyormuş.Bunu arttırarak ne oluyor görelim."
   ]
  },
  {
   "cell_type": "code",
   "execution_count": 99,
   "id": "695f7dd5",
   "metadata": {},
   "outputs": [
    {
     "data": {
      "text/plain": [
       "DecisionTreeRegressor(max_depth=6, min_samples_split=5)"
      ]
     },
     "execution_count": 99,
     "metadata": {},
     "output_type": "execute_result"
    }
   ],
   "source": [
    "dt_reg = DecisionTreeRegressor(max_depth=6,min_samples_split=5)\n",
    "\n",
    "dt_reg.fit(X_train, y_train)"
   ]
  },
  {
   "cell_type": "code",
   "execution_count": 100,
   "id": "5f4d2b4a",
   "metadata": {},
   "outputs": [
    {
     "name": "stdout",
     "output_type": "stream",
     "text": [
      "Karar Ağacının RMSE değeri : 2087.76\n"
     ]
    }
   ],
   "source": [
    "from sklearn.metrics import mean_squared_error as MSE\n",
    "y_tahmin = dt_reg.predict(X_test)\n",
    "mse_ka = MSE(y_tahmin, y_test)\n",
    "rmse_ka = mse_ka**(1/2)\n",
    "\n",
    "# Print rmse_dt\n",
    "print(\"Karar Ağacının RMSE değeri : {:.2f}\".format(rmse_ka))"
   ]
  },
  {
   "cell_type": "markdown",
   "id": "de41add4",
   "metadata": {},
   "source": [
    "**RMSE value decreased.**"
   ]
  },
  {
   "cell_type": "code",
   "execution_count": 101,
   "id": "af74b71a",
   "metadata": {},
   "outputs": [
    {
     "data": {
      "text/plain": [
       "1"
      ]
     },
     "execution_count": 101,
     "metadata": {},
     "output_type": "execute_result"
    }
   ],
   "source": [
    "dt_reg.min_samples_leaf"
   ]
  },
  {
   "cell_type": "code",
   "execution_count": 102,
   "id": "41441049",
   "metadata": {},
   "outputs": [
    {
     "data": {
      "text/plain": [
       "DecisionTreeRegressor(max_depth=6, min_samples_leaf=3, min_samples_split=5)"
      ]
     },
     "execution_count": 102,
     "metadata": {},
     "output_type": "execute_result"
    }
   ],
   "source": [
    "dt_reg = DecisionTreeRegressor(max_depth=6,min_samples_split=5,min_samples_leaf=3)\n",
    "\n",
    "dt_reg.fit(X_train, y_train)"
   ]
  },
  {
   "cell_type": "code",
   "execution_count": 103,
   "id": "06558cf7",
   "metadata": {},
   "outputs": [
    {
     "name": "stdout",
     "output_type": "stream",
     "text": [
      "Karar Ağacının RMSE değeri : 2478.68568815\n"
     ]
    }
   ],
   "source": [
    "from sklearn.metrics import mean_squared_error as MSE\n",
    "y_tahmin = dt_reg.predict(X_test)\n",
    "mse_ka = MSE(y_tahmin, y_test)\n",
    "rmse_ka = mse_ka**(1/2)\n",
    "\n",
    "# Print rmse_dt\n",
    "print(\"Karar Ağacının RMSE değeri : {:.8f}\".format(rmse_ka))"
   ]
  },
  {
   "cell_type": "code",
   "execution_count": 104,
   "id": "37391893",
   "metadata": {},
   "outputs": [
    {
     "name": "stdout",
     "output_type": "stream",
     "text": [
      "Mean Absolute Error: 1920.99\n",
      "Accuracy: 82.578 %.\n"
     ]
    }
   ],
   "source": [
    "predictions = dt_reg.predict(X_test)\n",
    "errors = abs(predictions - y_test)\n",
    "print('Mean Absolute Error:', round(np.mean(errors), 2))\n",
    "mape = 100 * (errors / y_test)\n",
    "accuracy = 100 - np.mean(mape)\n",
    "print('Accuracy:', round(accuracy, 3), '%.')"
   ]
  },
  {
   "cell_type": "markdown",
   "id": "bd40b4d6",
   "metadata": {},
   "source": [
    "**RMSE value increased.**"
   ]
  },
  {
   "cell_type": "markdown",
   "id": "6bea2188",
   "metadata": {},
   "source": [
    "**When we look at the results, we reached the optimum accuracy value when max_depth=6 , min_samples_split =2, min_samples_leaf=1. We had the lowest RMSE and MAE values.**"
   ]
  },
  {
   "cell_type": "code",
   "execution_count": 105,
   "id": "cecdf6ec",
   "metadata": {},
   "outputs": [],
   "source": [
    "#TEKRAR OPTİMUM OLAN DEĞERLERİ ÇALIŞTIRIP AĞAÇ ÇİZDİRELİM.\n",
    "dt_reg = DecisionTreeRegressor(max_depth=6)\n",
    "\n",
    "dt_reg.fit(X_train, y_train)\n",
    "\n",
    "y_tahmin = dt_reg.predict(X_test)\n",
    "mse_ka = MSE(y_tahmin, y_test)\n",
    "rmse_ka = mse_ka**(1/2)\n",
    "\n",
    "predictions = dt_reg.predict(X_test)\n",
    "errors = abs(predictions - y_test)\n",
    "mape = 100 * (errors / y_test)\n",
    "accuracy = 100 - np.mean(mape)"
   ]
  },
  {
   "cell_type": "code",
   "execution_count": 106,
   "id": "f63b7417",
   "metadata": {},
   "outputs": [
    {
     "data": {
      "image/png": "[encoded data removed]",
      "text/plain": [
       "<Figure size 2000x1000 with 1 Axes>"
      ]
     },
     "metadata": {
      "needs_background": "light"
     },
     "output_type": "display_data"
    }
   ],
   "source": [
    "from sklearn import tree\n",
    "plt.figure(figsize=(20, 10), dpi=100)\n",
    "tree.plot_tree(decision_tree = dt_reg,\n",
    "               feature_names=X.columns,\n",
    "               class_names=['kucuk', 'buyuk'],\n",
    "               filled = True\n",
    "              )\n",
    "plt.show()"
   ]
  },
  {
   "cell_type": "markdown",
   "id": "853a421f",
   "metadata": {},
   "source": [
    "## Random Forest"
   ]
  },
  {
   "cell_type": "code",
   "execution_count": 107,
   "id": "251604e1",
   "metadata": {},
   "outputs": [],
   "source": [
    "from sklearn.ensemble import RandomForestRegressor\n",
    "\n",
    "y = car_prices['price']\n",
    "X = car_prices.drop(columns=['price','CarName'], axis=1)\n",
    "\n",
    "X_train , X_test , y_train, y_test = train_test_split(X,y,test_size=0.1,random_state=42)"
   ]
  },
  {
   "cell_type": "code",
   "execution_count": 108,
   "id": "ec3b4ba5",
   "metadata": {},
   "outputs": [
    {
     "data": {
      "text/plain": [
       "RandomForestRegressor(n_estimators=25, random_state=2)"
      ]
     },
     "execution_count": 108,
     "metadata": {},
     "output_type": "execute_result"
    }
   ],
   "source": [
    "rastgele_orman = RandomForestRegressor(n_estimators=25, random_state=2)\n",
    "rastgele_orman.fit(X_train, y_train) "
   ]
  },
  {
   "cell_type": "code",
   "execution_count": 109,
   "id": "493c1cbc",
   "metadata": {},
   "outputs": [
    {
     "name": "stdout",
     "output_type": "stream",
     "text": [
      "RMSE değeri (Rastgele Orman): 2185.05\n"
     ]
    }
   ],
   "source": [
    "from sklearn.metrics import mean_squared_error as MSE\n",
    "y_tahmin = rastgele_orman.predict(X_test)\n",
    "rmse_test = MSE(y_test, y_tahmin)**(1/2)\n",
    "print(\"RMSE değeri (Rastgele Orman): {:.2f}\".format(rmse_test))"
   ]
  },
  {
   "cell_type": "code",
   "execution_count": 110,
   "id": "4ca73641",
   "metadata": {},
   "outputs": [
    {
     "name": "stdout",
     "output_type": "stream",
     "text": [
      "Mean Absolute Error: 1464.29\n",
      "Accuracy: 86.345 %.\n"
     ]
    }
   ],
   "source": [
    "predictions = rastgele_orman.predict(X_test)\n",
    "errors = abs(predictions - y_test)\n",
    "print('Mean Absolute Error:', round(np.mean(errors), 2))\n",
    "mape = 100 * (errors / y_test)\n",
    "accuracy = 100 - np.mean(mape)\n",
    "print('Accuracy:', round(accuracy, 3), '%.')"
   ]
  },
  {
   "cell_type": "markdown",
   "id": "4a594978",
   "metadata": {},
   "source": [
    "**Let's apply Random Search.**"
   ]
  },
  {
   "cell_type": "code",
   "execution_count": 111,
   "id": "a0d720a3",
   "metadata": {},
   "outputs": [],
   "source": [
    "rf = RandomForestRegressor(random_state = 35)\n",
    "\n",
    "from sklearn.model_selection import RandomizedSearchCV"
   ]
  },
  {
   "cell_type": "code",
   "execution_count": 112,
   "id": "cbdd357f",
   "metadata": {},
   "outputs": [],
   "source": [
    "n_estimators = [int(x) for x in np.linspace(start = 1, stop = 20, num = 20)]\n",
    "max_features = ['auto', 'sqrt']\n",
    "max_depth = [int(x) for x in np.linspace(10, 120, num = 12)]\n",
    "min_samples_split = [2, 6, 10]\n",
    "min_samples_leaf = [1, 3, 4]\n",
    "bootstrap = [True, False]"
   ]
  },
  {
   "cell_type": "code",
   "execution_count": 113,
   "id": "62f5c1c2",
   "metadata": {},
   "outputs": [
    {
     "name": "stdout",
     "output_type": "stream",
     "text": [
      "Fitting 5 folds for each of 100 candidates, totalling 500 fits\n",
      "Best Parameters:  {'n_estimators': 19, 'min_samples_split': 6, 'min_samples_leaf': 4, 'max_features': 'sqrt', 'max_depth': 80, 'bootstrap': False}  \n",
      "\n"
     ]
    }
   ],
   "source": [
    "random_grid = {'n_estimators': n_estimators,\n",
    "\n",
    "'max_features': max_features,\n",
    "\n",
    "'max_depth': max_depth,\n",
    "\n",
    "'min_samples_split': min_samples_split,\n",
    "\n",
    "'min_samples_leaf': min_samples_leaf,\n",
    "\n",
    "'bootstrap': bootstrap}\n",
    "\n",
    "rf_random = RandomizedSearchCV(estimator = rf,\n",
    "\n",
    "param_distributions = random_grid,\n",
    "               n_iter = 100, cv = 5, verbose=2, random_state=35, n_jobs = -1)\n",
    "rf_random.fit(X,y)\n",
    "\n",
    "# print the best parameters\n",
    "print ('Best Parameters: ', rf_random.best_params_, ' \\n')"
   ]
  },
  {
   "cell_type": "markdown",
   "id": "d64f7486",
   "metadata": {},
   "source": [
    "**Best Parameters:** \n",
    "\n",
    "**'n_estimators':** 19, \n",
    "\n",
    "**'min_samples_split':** 6,\n",
    "\n",
    "**'min_samples_leaf':** 4, \n",
    "\n",
    "**'max_features':** 'sqrt', \n",
    "\n",
    "**'max_depth':** 80, \n",
    "\n",
    "**'bootstrap':** False"
   ]
  },
  {
   "cell_type": "code",
   "execution_count": 114,
   "id": "8be4aed7",
   "metadata": {},
   "outputs": [
    {
     "name": "stdout",
     "output_type": "stream",
     "text": [
      "RMSE değeri (Rastgele Orman): 1303.69\n"
     ]
    }
   ],
   "source": [
    "from sklearn.metrics import mean_squared_error as MSE\n",
    "y_tahmin = rf_random.predict(X_test)\n",
    "rmse_test = MSE(y_test, y_tahmin)**(1/2)\n",
    "print(\"RMSE değeri (Rastgele Orman): {:.2f}\".format(rmse_test))"
   ]
  },
  {
   "cell_type": "code",
   "execution_count": 115,
   "id": "ceddeadd",
   "metadata": {},
   "outputs": [
    {
     "name": "stdout",
     "output_type": "stream",
     "text": [
      "Mean Absolute Error: 867.14\n",
      "Accuracy: 91.945 %.\n"
     ]
    }
   ],
   "source": [
    "predictions = rf_random.predict(X_test)\n",
    "errors = abs(predictions - y_test)\n",
    "print('Mean Absolute Error:', round(np.mean(errors), 2))\n",
    "mape = 100 * (errors / y_test)\n",
    "accuracy = 100 - np.mean(mape)\n",
    "print('Accuracy:', round(accuracy, 3), '%.')"
   ]
  },
  {
   "cell_type": "markdown",
   "id": "c79ae672",
   "metadata": {},
   "source": [
    "**The accuracy of the model increased to 91.9% !**"
   ]
  },
  {
   "cell_type": "markdown",
   "id": "1de892f3",
   "metadata": {},
   "source": [
    "**Let's look at the degree of importance of the features.**"
   ]
  },
  {
   "cell_type": "code",
   "execution_count": 116,
   "id": "84767792",
   "metadata": {},
   "outputs": [
    {
     "data": {
      "image/png": "[encoded data removed]",
      "text/plain": [
       "<Figure size 1080x432 with 1 Axes>"
      ]
     },
     "metadata": {
      "needs_background": "light"
     },
     "output_type": "display_data"
    }
   ],
   "source": [
    "onem_dereceleri = pd.Series(data=rastgele_orman.feature_importances_,\n",
    "                        index= X_train.columns)\n",
    "\n",
    "onem_dereceleri_sirali = onem_dereceleri.sort_values()\n",
    "\n",
    "plt.figure(figsize=(15,6))\n",
    "onem_dereceleri_sirali.plot(kind='barh', color='darkblue')\n",
    "plt.title('Değişkenlerin Önem Dereceleri')\n",
    "plt.show()"
   ]
  },
  {
   "cell_type": "markdown",
   "id": "ba004021",
   "metadata": {},
   "source": [
    "**The most important variable for the model is the curb weight.**"
   ]
  },
  {
   "cell_type": "markdown",
   "id": "817d725c",
   "metadata": {},
   "source": [
    "## Support Vector Machines (SVM)"
   ]
  },
  {
   "cell_type": "code",
   "execution_count": 117,
   "id": "59c15962",
   "metadata": {},
   "outputs": [],
   "source": [
    "from sklearn.svm import SVR\n",
    "y = car_prices['price']\n",
    "X = car_prices.drop(columns=['price','CarName'], axis=1)\n",
    "\n",
    "X_train , X_test , y_train, y_test = train_test_split(X,y,test_size=0.1,random_state=42)"
   ]
  },
  {
   "cell_type": "code",
   "execution_count": 118,
   "id": "67c97bc7",
   "metadata": {},
   "outputs": [
    {
     "name": "stdout",
     "output_type": "stream",
     "text": [
      "RMSE değeri (Kernel = linear): 2185.63\n"
     ]
    }
   ],
   "source": [
    "svr_reg = SVR(kernel='linear', C=1)\n",
    "svr_reg.fit(X_train, y_train)\n",
    "y_tahmin = svr_reg.predict(X_test)\n",
    "rmse_test = MSE(y_test, y_tahmin)**(1/2)\n",
    "print(\"RMSE değeri (Kernel = linear): {:.2f}\".format(rmse_test))"
   ]
  },
  {
   "cell_type": "code",
   "execution_count": 119,
   "id": "c615ceaf",
   "metadata": {},
   "outputs": [
    {
     "name": "stdout",
     "output_type": "stream",
     "text": [
      "Mean Absolute Error: 1529.9\n",
      "Accuracy: 85.748 %.\n"
     ]
    }
   ],
   "source": [
    "predictions = svr_reg.predict(X_test)\n",
    "errors = abs(predictions - y_test)\n",
    "print('Mean Absolute Error:', round(np.mean(errors), 2))\n",
    "mape = 100 * (errors / y_test)\n",
    "accuracy = 100 - np.mean(mape)\n",
    "print('Accuracy:', round(accuracy, 3), '%.')"
   ]
  },
  {
   "cell_type": "markdown",
   "id": "64fe0eca",
   "metadata": {},
   "source": [
    "**Now let's look at the results again by changing a few parameters.**"
   ]
  },
  {
   "cell_type": "markdown",
   "id": "3e313a75",
   "metadata": {},
   "source": [
    "**Let's change the kernel values.**"
   ]
  },
  {
   "cell_type": "code",
   "execution_count": 120,
   "id": "89f41cf3",
   "metadata": {},
   "outputs": [],
   "source": [
    "en_iyi_parametreler = {}"
   ]
  },
  {
   "cell_type": "code",
   "execution_count": 121,
   "id": "aefd76c0",
   "metadata": {},
   "outputs": [
    {
     "name": "stdout",
     "output_type": "stream",
     "text": [
      "RMSE değeri (Kernel = linear): 2185.63\n",
      "linear Mean Absolute Error: 1529.9\n",
      "linear Accuracy: 85.748 %.\n",
      "------------------------------------\n",
      "RMSE değeri (Kernel = rbf): 4467.15\n",
      "rbf Mean Absolute Error: 3489.37\n",
      "rbf Accuracy: 64.7 %.\n",
      "------------------------------------\n",
      "RMSE değeri (Kernel = poly): 4465.46\n",
      "poly Mean Absolute Error: 3487.82\n",
      "poly Accuracy: 64.719 %.\n",
      "------------------------------------\n"
     ]
    }
   ],
   "source": [
    "kernel_listesi = ['linear', 'rbf', 'poly']\n",
    "\n",
    "for kernel in kernel_listesi:\n",
    "    svr_reg = SVR(kernel=kernel, C=1)\n",
    "    svr_reg.fit(X_train, y_train)\n",
    "    y_tahmin = svr_reg.predict(X_test)\n",
    "    rmse_test = MSE(y_test, y_tahmin)**(1/2)\n",
    "    print(\"RMSE değeri (Kernel = {}): {:.2f}\".format(kernel,rmse_test))\n",
    "    \n",
    "    predictions = svr_reg.predict(X_test)\n",
    "    errors = abs(predictions - y_test)\n",
    "    print('{} Mean Absolute Error:'.format(kernel), round(np.mean(errors), 2))\n",
    "    mape = 100 * (errors / y_test)\n",
    "    accuracy = 100 - np.mean(mape)\n",
    "    print('{} Accuracy:'.format(kernel), round(accuracy, 3), '%.')\n",
    "    print(\"------------------------------------\")"
   ]
  },
  {
   "cell_type": "code",
   "execution_count": 122,
   "id": "27518df7",
   "metadata": {},
   "outputs": [],
   "source": [
    "en_iyi_parametreler['Kernel'] = 'Linear'"
   ]
  },
  {
   "cell_type": "markdown",
   "id": "aa9235ac",
   "metadata": {},
   "source": [
    "**It gave the best results when kernel = linear.**"
   ]
  },
  {
   "cell_type": "markdown",
   "id": "77dcbd22",
   "metadata": {},
   "source": [
    "**Now let's change gamma values.**"
   ]
  },
  {
   "cell_type": "code",
   "execution_count": 123,
   "id": "e32b243b",
   "metadata": {},
   "outputs": [
    {
     "name": "stdout",
     "output_type": "stream",
     "text": [
      "RMSE değeri (Gamma = 1e-05): 4461.22\n",
      "1e-05 | Mean Absolute Error: 3482.81\n",
      "1e-05 | Accuracy: 64.767 %.\n",
      "------------------------------------\n",
      "RMSE değeri (Gamma = 0.0001): 4467.35\n",
      "0.0001 | Mean Absolute Error: 3488.61\n",
      "0.0001 | Accuracy: 64.711 %.\n",
      "------------------------------------\n",
      "RMSE değeri (Gamma = 0.001): 4468.14\n",
      "0.001 | Mean Absolute Error: 3489.84\n",
      "0.001 | Accuracy: 64.695 %.\n",
      "------------------------------------\n",
      "RMSE değeri (Gamma = 0.01): 4468.39\n",
      "0.01 | Mean Absolute Error: 3490.17\n",
      "0.01 | Accuracy: 64.691 %.\n",
      "------------------------------------\n",
      "RMSE değeri (Gamma = 0.1): 4468.55\n",
      "0.1 | Mean Absolute Error: 3490.42\n",
      "0.1 | Accuracy: 64.689 %.\n",
      "------------------------------------\n",
      "RMSE değeri (Gamma = 1): 4468.59\n",
      "1 | Mean Absolute Error: 3490.52\n",
      "1 | Accuracy: 64.687 %.\n",
      "------------------------------------\n",
      "RMSE değeri (Gamma = 10): 4468.59\n",
      "10 | Mean Absolute Error: 3490.53\n",
      "10 | Accuracy: 64.687 %.\n",
      "------------------------------------\n",
      "RMSE değeri (Gamma = 100): 4468.59\n",
      "100 | Mean Absolute Error: 3490.53\n",
      "100 | Accuracy: 64.687 %.\n",
      "------------------------------------\n",
      "RMSE değeri (Gamma = 1000): 4468.59\n",
      "1000 | Mean Absolute Error: 3490.53\n",
      "1000 | Accuracy: 64.687 %.\n",
      "------------------------------------\n",
      "RMSE değeri (Gamma = 10000): 4468.59\n",
      "10000 | Mean Absolute Error: 3490.53\n",
      "10000 | Accuracy: 64.687 %.\n",
      "------------------------------------\n"
     ]
    }
   ],
   "source": [
    "gamma_listesi = [10**a for a in range(-5,5)]\n",
    "\n",
    "for gamma in gamma_listesi:\n",
    "    svr_reg = SVR(kernel='rbf',gamma=gamma)\n",
    "    svr_reg.fit(X_train, y_train)\n",
    "    y_tahmin = svr_reg.predict(X_test)\n",
    "    rmse_test = MSE(y_test, y_tahmin)**(1/2)\n",
    "    print(\"RMSE değeri (Gamma = {}): {:.2f}\".format(gamma,rmse_test))\n",
    "    \n",
    "    predictions = svr_reg.predict(X_test)\n",
    "    errors = abs(predictions - y_test)\n",
    "    print('{} | Mean Absolute Error:'.format(gamma), round(np.mean(errors), 2))\n",
    "    mape = 100 * (errors / y_test)\n",
    "    accuracy = 100 - np.mean(mape)\n",
    "    print('{} | Accuracy:'.format(gamma), round(accuracy, 3), '%.')\n",
    "    print(\"------------------------------------\")\n"
   ]
  },
  {
   "cell_type": "code",
   "execution_count": 124,
   "id": "81924366",
   "metadata": {},
   "outputs": [],
   "source": [
    "en_iyi_parametreler['Gamma when kernel rbf']='1e-05'"
   ]
  },
  {
   "cell_type": "markdown",
   "id": "c683b7c2",
   "metadata": {},
   "source": [
    "**It gave the best results when gamma= 0.00001.**"
   ]
  },
  {
   "cell_type": "markdown",
   "id": "4560b2ad",
   "metadata": {},
   "source": [
    "**Let's try different C values.**"
   ]
  },
  {
   "cell_type": "code",
   "execution_count": 125,
   "id": "ac360dc5",
   "metadata": {},
   "outputs": [
    {
     "name": "stdout",
     "output_type": "stream",
     "text": [
      "RMSE değeri (c = 0.01): 2559.52\n",
      "0.01 | Mean Absolute Error: 1759.91\n",
      "0.01 | Accuracy: 82.083 %.\n",
      "------------------------------------\n",
      "RMSE değeri (c = 0.1): 2427.57\n",
      "0.1 | Mean Absolute Error: 1695.44\n",
      "0.1 | Accuracy: 83.308 %.\n",
      "------------------------------------\n",
      "RMSE değeri (c = 1): 2185.63\n",
      "1 | Mean Absolute Error: 1529.9\n",
      "1 | Accuracy: 85.748 %.\n",
      "------------------------------------\n",
      "RMSE değeri (c = 10): 2128.84\n",
      "10 | Mean Absolute Error: 1547.85\n",
      "10 | Accuracy: 85.64 %.\n",
      "------------------------------------\n",
      "RMSE değeri (c = 100): 2210.83\n",
      "100 | Mean Absolute Error: 1594.01\n",
      "100 | Accuracy: 86.325 %.\n",
      "------------------------------------\n",
      "RMSE değeri (c = 1000): 7844.15\n",
      "1000 | Mean Absolute Error: 5860.85\n",
      "1000 | Accuracy: 35.924 %.\n",
      "------------------------------------\n"
     ]
    }
   ],
   "source": [
    "c_listesi = [10**a for a in range(-2,4)]\n",
    "\n",
    "\n",
    "for c in c_listesi:\n",
    "    svr_reg = SVR(kernel='linear',C = c)\n",
    "    svr_reg.fit(X_train, y_train)\n",
    "    y_tahmin = svr_reg.predict(X_test)\n",
    "    rmse_test = MSE(y_test, y_tahmin)**(1/2)\n",
    "    print(\"RMSE değeri (c = {}): {:.2f}\".format(c,rmse_test))\n",
    "    \n",
    "    predictions = svr_reg.predict(X_test)\n",
    "    errors = abs(predictions - y_test)\n",
    "    print('{} | Mean Absolute Error:'.format(c), round(np.mean(errors), 2))\n",
    "    mape = 100 * (errors / y_test)\n",
    "    accuracy = 100 - np.mean(mape)\n",
    "    print('{} | Accuracy:'.format(c), round(accuracy, 3), '%.')\n",
    "    print(\"------------------------------------\")"
   ]
  },
  {
   "cell_type": "code",
   "execution_count": 126,
   "id": "fc03fdd0",
   "metadata": {},
   "outputs": [],
   "source": [
    "en_iyi_parametreler['C'] = '100'"
   ]
  },
  {
   "cell_type": "markdown",
   "id": "16db2100",
   "metadata": {},
   "source": [
    "**We got the best result when the C value is 100.**"
   ]
  },
  {
   "cell_type": "markdown",
   "id": "1d4d7208",
   "metadata": {},
   "source": [
    "**Now let's try to change degree parameter.**"
   ]
  },
  {
   "cell_type": "code",
   "execution_count": 127,
   "id": "f7a39a43",
   "metadata": {},
   "outputs": [
    {
     "name": "stdout",
     "output_type": "stream",
     "text": [
      "RMSE değeri (degree = 1): 4467.84\n",
      "1 | Mean Absolute Error: 3489.9\n",
      "1 | Accuracy: 64.694 %.\n",
      "------------------------------------\n",
      "RMSE değeri (degree = 10): 4434.58\n",
      "10 | Mean Absolute Error: 3454.31\n",
      "10 | Accuracy: 65.108 %.\n",
      "------------------------------------\n",
      "RMSE değeri (degree = 20): 4144.11\n",
      "20 | Mean Absolute Error: 3076.69\n",
      "20 | Accuracy: 69.235 %.\n",
      "------------------------------------\n",
      "RMSE değeri (degree = 30): 3940.04\n",
      "30 | Mean Absolute Error: 2673.98\n",
      "30 | Accuracy: 74.884 %.\n",
      "------------------------------------\n",
      "RMSE değeri (degree = 35): 4070.14\n",
      "35 | Mean Absolute Error: 2797.55\n",
      "35 | Accuracy: 74.095 %.\n",
      "------------------------------------\n",
      "RMSE değeri (degree = 40): 4154.24\n",
      "40 | Mean Absolute Error: 2892.37\n",
      "40 | Accuracy: 73.044 %.\n",
      "------------------------------------\n",
      "RMSE değeri (degree = 50): 4129.26\n",
      "50 | Mean Absolute Error: 2837.73\n",
      "50 | Accuracy: 73.012 %.\n",
      "------------------------------------\n"
     ]
    }
   ],
   "source": [
    "degree_listesi = [1,10,20,30,35,40,50]\n",
    "\n",
    "for degree in degree_listesi:\n",
    "    svr_reg = SVR(kernel='poly',degree=degree)\n",
    "    svr_reg.fit(X_train, y_train)\n",
    "    y_tahmin = svr_reg.predict(X_test)\n",
    "    rmse_test = MSE(y_test, y_tahmin)**(1/2)\n",
    "    print(\"RMSE değeri (degree = {}): {:.2f}\".format(degree,rmse_test))\n",
    "    \n",
    "    predictions = svr_reg.predict(X_test)\n",
    "    errors = abs(predictions - y_test)\n",
    "    print('{} | Mean Absolute Error:'.format(degree), round(np.mean(errors), 2))\n",
    "    mape = 100 * (errors / y_test)\n",
    "    accuracy = 100 - np.mean(mape)\n",
    "    print('{} | Accuracy:'.format(degree), round(accuracy, 3), '%.')\n",
    "    print(\"------------------------------------\")"
   ]
  },
  {
   "cell_type": "markdown",
   "id": "1a4cbf4b",
   "metadata": {},
   "source": [
    "**We got the best score when degree=30.**"
   ]
  },
  {
   "cell_type": "code",
   "execution_count": 128,
   "id": "ff212ac1",
   "metadata": {},
   "outputs": [],
   "source": [
    "en_iyi_parametreler['degree']='30'"
   ]
  },
  {
   "cell_type": "markdown",
   "id": "587421bd",
   "metadata": {},
   "source": [
    "**Let's look at the best parameters.**"
   ]
  },
  {
   "cell_type": "code",
   "execution_count": 129,
   "id": "160868e1",
   "metadata": {},
   "outputs": [
    {
     "data": {
      "text/plain": [
       "{'Kernel': 'Linear',\n",
       " 'Gamma when kernel rbf': '1e-05',\n",
       " 'C': '100',\n",
       " 'degree': '30'}"
      ]
     },
     "execution_count": 129,
     "metadata": {},
     "output_type": "execute_result"
    }
   ],
   "source": [
    "en_iyi_parametreler"
   ]
  },
  {
   "cell_type": "markdown",
   "id": "280fab76",
   "metadata": {},
   "source": [
    "## XGBoost"
   ]
  },
  {
   "cell_type": "code",
   "execution_count": 130,
   "id": "c2691bd9",
   "metadata": {},
   "outputs": [
    {
     "name": "stdout",
     "output_type": "stream",
     "text": [
      "Requirement already satisfied: xgboost in c:\\users\\seyma\\anaconda3\\lib\\site-packages (1.5.1)\n",
      "Requirement already satisfied: scipy in c:\\users\\seyma\\anaconda3\\lib\\site-packages (from xgboost) (1.6.2)\n",
      "Requirement already satisfied: numpy in c:\\users\\seyma\\anaconda3\\lib\\site-packages (from xgboost) (1.20.1)\n",
      "Note: you may need to restart the kernel to use updated packages.\n"
     ]
    }
   ],
   "source": [
    "pip install xgboost"
   ]
  },
  {
   "cell_type": "code",
   "execution_count": 131,
   "id": "8ffbee90",
   "metadata": {},
   "outputs": [],
   "source": [
    "import xgboost as xgb\n",
    "\n",
    "y = car_prices['price']\n",
    "X = car_prices.drop(columns=['price','CarName'], axis=1)\n",
    "\n",
    "X_train , X_test , y_train, y_test = train_test_split(X,y,test_size=0.1,random_state=42)"
   ]
  },
  {
   "cell_type": "code",
   "execution_count": 132,
   "id": "2ce1f59e",
   "metadata": {},
   "outputs": [],
   "source": [
    "xg_reg = xgb.XGBRegressor(objective ='reg:squarederror', seed=123)"
   ]
  },
  {
   "cell_type": "code",
   "execution_count": 133,
   "id": "c0150025",
   "metadata": {},
   "outputs": [
    {
     "name": "stdout",
     "output_type": "stream",
     "text": [
      "RMSE: 2315.459575\n"
     ]
    }
   ],
   "source": [
    "xg_reg.fit(X_train,y_train)\n",
    "y_tahmin = xg_reg.predict(X_test)\n",
    "rmse = np.sqrt(mean_squared_error(y_test, y_tahmin))\n",
    "print(\"RMSE: %f\" % (rmse))"
   ]
  },
  {
   "cell_type": "code",
   "execution_count": 134,
   "id": "dbf22878",
   "metadata": {},
   "outputs": [],
   "source": [
    "DM_train = xgb.DMatrix(data = X_train, label=y_train)\n",
    "DM_test =  xgb.DMatrix(data = X_test, label=y_test)\n",
    "params = {\"booster\":\"gblinear\", \"objective\":\"reg:squarederror\"}\n",
    "xg_reg = xgb.train(dtrain=DM_train, params=params, num_boost_round=5)"
   ]
  },
  {
   "cell_type": "code",
   "execution_count": 135,
   "id": "78a4497b",
   "metadata": {},
   "outputs": [
    {
     "name": "stdout",
     "output_type": "stream",
     "text": [
      "RMSE: 3010.299377\n"
     ]
    }
   ],
   "source": [
    "y_tahmin_gblinear = xg_reg.predict(DM_test)\n",
    "rmse = np.sqrt(mean_squared_error(y_test, y_tahmin_gblinear))\n",
    "print(\"RMSE: %f\" % (rmse))"
   ]
  },
  {
   "cell_type": "code",
   "execution_count": 136,
   "id": "463e06f0",
   "metadata": {},
   "outputs": [
    {
     "data": {
      "image/png": "[encoded data removed]",
      "text/plain": [
       "<Figure size 576x576 with 1 Axes>"
      ]
     },
     "metadata": {
      "needs_background": "light"
     },
     "output_type": "display_data"
    }
   ],
   "source": [
    "plt.figure(figsize=(8,8))\n",
    "plt.title(\"'gbtree' ve 'gblinear' karşılaştırması\", size = 14)\n",
    "ax1 = plt.scatter(y_test, y_tahmin)\n",
    "ax2 = plt.scatter(y_test, y_tahmin_gblinear, alpha=0.30)\n",
    "ax3 = plt.plot(y_test, y_test, color=\"red\")\n",
    "plt.legend((ax1, ax2), ('gbtree', 'gblinear'))\n",
    "plt.xlabel(\"Gerçek Değerler\")\n",
    "plt.ylabel(\"Tahmin Değerler\")\n",
    "plt.show()"
   ]
  },
  {
   "cell_type": "markdown",
   "id": "feb6acf0",
   "metadata": {},
   "source": [
    "**Let's do cross validation.**"
   ]
  },
  {
   "cell_type": "code",
   "execution_count": 137,
   "id": "b492105f",
   "metadata": {},
   "outputs": [
    {
     "data": {
      "text/html": [
       "<div>\n",
       "<style scoped>\n",
       "    .dataframe tbody tr th:only-of-type {\n",
       "        vertical-align: middle;\n",
       "    }\n",
       "\n",
       "    .dataframe tbody tr th {\n",
       "        vertical-align: top;\n",
       "    }\n",
       "\n",
       "    .dataframe thead th {\n",
       "        text-align: right;\n",
       "    }\n",
       "</style>\n",
       "<table border=\"1\" class=\"dataframe\">\n",
       "  <thead>\n",
       "    <tr style=\"text-align: right;\">\n",
       "      <th></th>\n",
       "      <th>train-rmse-mean</th>\n",
       "      <th>train-rmse-std</th>\n",
       "      <th>test-rmse-mean</th>\n",
       "      <th>test-rmse-std</th>\n",
       "    </tr>\n",
       "  </thead>\n",
       "  <tbody>\n",
       "    <tr>\n",
       "      <th>30</th>\n",
       "      <td>367.108482</td>\n",
       "      <td>13.284054</td>\n",
       "      <td>1764.468292</td>\n",
       "      <td>260.456482</td>\n",
       "    </tr>\n",
       "    <tr>\n",
       "      <th>28</th>\n",
       "      <td>386.879746</td>\n",
       "      <td>11.670690</td>\n",
       "      <td>1764.680298</td>\n",
       "      <td>263.110640</td>\n",
       "    </tr>\n",
       "    <tr>\n",
       "      <th>29</th>\n",
       "      <td>377.474190</td>\n",
       "      <td>9.412988</td>\n",
       "      <td>1765.278259</td>\n",
       "      <td>260.030199</td>\n",
       "    </tr>\n",
       "    <tr>\n",
       "      <th>27</th>\n",
       "      <td>396.457527</td>\n",
       "      <td>14.602397</td>\n",
       "      <td>1767.291992</td>\n",
       "      <td>261.463544</td>\n",
       "    </tr>\n",
       "    <tr>\n",
       "      <th>26</th>\n",
       "      <td>407.020592</td>\n",
       "      <td>14.860677</td>\n",
       "      <td>1769.841339</td>\n",
       "      <td>262.929279</td>\n",
       "    </tr>\n",
       "  </tbody>\n",
       "</table>\n",
       "</div>"
      ],
      "text/plain": [
       "    train-rmse-mean  train-rmse-std  test-rmse-mean  test-rmse-std\n",
       "30       367.108482       13.284054     1764.468292     260.456482\n",
       "28       386.879746       11.670690     1764.680298     263.110640\n",
       "29       377.474190        9.412988     1765.278259     260.030199\n",
       "27       396.457527       14.602397     1767.291992     261.463544\n",
       "26       407.020592       14.860677     1769.841339     262.929279"
      ]
     },
     "metadata": {},
     "output_type": "display_data"
    }
   ],
   "source": [
    "arac_fiyatlari_dmatrix = xgb.DMatrix(data=X, label=y)\n",
    "params = {\"objective\":\"reg:squarederror\", \"max_depth\":4}\n",
    "arac_fiyatlari_cv = xgb.cv(dtrain=arac_fiyatlari_dmatrix, params=params, nfold=4, \n",
    "                    num_boost_round=100, early_stopping_rounds = 5, metrics=\"rmse\", as_pandas=True, seed=123)\n",
    "display(arac_fiyatlari_cv.sort_values(by='test-rmse-mean').head(5))"
   ]
  },
  {
   "cell_type": "code",
   "execution_count": 138,
   "id": "e55875f2",
   "metadata": {},
   "outputs": [
    {
     "data": {
      "text/html": [
       "<div>\n",
       "<style scoped>\n",
       "    .dataframe tbody tr th:only-of-type {\n",
       "        vertical-align: middle;\n",
       "    }\n",
       "\n",
       "    .dataframe tbody tr th {\n",
       "        vertical-align: top;\n",
       "    }\n",
       "\n",
       "    .dataframe thead th {\n",
       "        text-align: right;\n",
       "    }\n",
       "</style>\n",
       "<table border=\"1\" class=\"dataframe\">\n",
       "  <thead>\n",
       "    <tr style=\"text-align: right;\">\n",
       "      <th></th>\n",
       "      <th>train-mae-mean</th>\n",
       "      <th>train-mae-std</th>\n",
       "      <th>test-mae-mean</th>\n",
       "      <th>test-mae-std</th>\n",
       "    </tr>\n",
       "  </thead>\n",
       "  <tbody>\n",
       "    <tr>\n",
       "      <th>30</th>\n",
       "      <td>266.022648</td>\n",
       "      <td>11.897844</td>\n",
       "      <td>1200.071411</td>\n",
       "      <td>94.789813</td>\n",
       "    </tr>\n",
       "    <tr>\n",
       "      <th>29</th>\n",
       "      <td>275.385391</td>\n",
       "      <td>10.445748</td>\n",
       "      <td>1200.219848</td>\n",
       "      <td>95.212970</td>\n",
       "    </tr>\n",
       "    <tr>\n",
       "      <th>28</th>\n",
       "      <td>285.019249</td>\n",
       "      <td>14.443518</td>\n",
       "      <td>1201.467560</td>\n",
       "      <td>95.457563</td>\n",
       "    </tr>\n",
       "    <tr>\n",
       "      <th>27</th>\n",
       "      <td>293.797218</td>\n",
       "      <td>15.246081</td>\n",
       "      <td>1202.832275</td>\n",
       "      <td>92.635483</td>\n",
       "    </tr>\n",
       "    <tr>\n",
       "      <th>26</th>\n",
       "      <td>302.204979</td>\n",
       "      <td>16.731558</td>\n",
       "      <td>1204.951782</td>\n",
       "      <td>96.132253</td>\n",
       "    </tr>\n",
       "  </tbody>\n",
       "</table>\n",
       "</div>"
      ],
      "text/plain": [
       "    train-mae-mean  train-mae-std  test-mae-mean  test-mae-std\n",
       "30      266.022648      11.897844    1200.071411     94.789813\n",
       "29      275.385391      10.445748    1200.219848     95.212970\n",
       "28      285.019249      14.443518    1201.467560     95.457563\n",
       "27      293.797218      15.246081    1202.832275     92.635483\n",
       "26      302.204979      16.731558    1204.951782     96.132253"
      ]
     },
     "metadata": {},
     "output_type": "display_data"
    }
   ],
   "source": [
    "arac_fiyatlari_dmatrix = xgb.DMatrix(data=X, label=y)\n",
    "params = {\"objective\":\"reg:squarederror\", \"max_depth\":4}\n",
    "arac_fiyatlari_cv = xgb.cv(dtrain=arac_fiyatlari_dmatrix, params=params, nfold=4, \n",
    "                    num_boost_round=100, early_stopping_rounds = 5, metrics=\"mae\", as_pandas=True, seed=123)\n",
    "display(arac_fiyatlari_cv.sort_values(by='test-mae-mean').head(5))"
   ]
  },
  {
   "cell_type": "markdown",
   "id": "c5378d3a",
   "metadata": {},
   "source": [
    "**Let's do regularization.**"
   ]
  },
  {
   "cell_type": "code",
   "execution_count": 139,
   "id": "b8230850",
   "metadata": {},
   "outputs": [],
   "source": [
    "arac_fiyatlari_dmatrix = xgb.DMatrix(data=X, label=y)\n",
    "l1_params = np.arange(0.01, 0.2, 0.01)\n",
    "params = {\"objective\":\"reg:squarederror\",\"max_depth\":3}\n",
    "rmses_l1 = []\n",
    "for alpha in l1_params:\n",
    "    params[\"alpha\"] = alpha\n",
    "    cv_rmse = xgb.cv(dtrain=arac_fiyatlari_dmatrix, params=params, nfold=4, num_boost_round=100, \n",
    "                             metrics=\"rmse\", as_pandas=True, early_stopping_rounds=10, seed=123)\n",
    "    rmses_l1.append(cv_rmse[\"test-rmse-mean\"].tail(1).values[0])"
   ]
  },
  {
   "cell_type": "code",
   "execution_count": 140,
   "id": "ba1524e2",
   "metadata": {},
   "outputs": [
    {
     "name": "stdout",
     "output_type": "stream",
     "text": [
      "En iyi l1 değerleri:\n"
     ]
    },
    {
     "data": {
      "text/html": [
       "<div>\n",
       "<style scoped>\n",
       "    .dataframe tbody tr th:only-of-type {\n",
       "        vertical-align: middle;\n",
       "    }\n",
       "\n",
       "    .dataframe tbody tr th {\n",
       "        vertical-align: top;\n",
       "    }\n",
       "\n",
       "    .dataframe thead th {\n",
       "        text-align: right;\n",
       "    }\n",
       "</style>\n",
       "<table border=\"1\" class=\"dataframe\">\n",
       "  <thead>\n",
       "    <tr style=\"text-align: right;\">\n",
       "      <th></th>\n",
       "      <th>l1</th>\n",
       "      <th>rmse</th>\n",
       "    </tr>\n",
       "  </thead>\n",
       "  <tbody>\n",
       "    <tr>\n",
       "      <th>18</th>\n",
       "      <td>0.19</td>\n",
       "      <td>1767.489044</td>\n",
       "    </tr>\n",
       "    <tr>\n",
       "      <th>17</th>\n",
       "      <td>0.18</td>\n",
       "      <td>1767.489227</td>\n",
       "    </tr>\n",
       "    <tr>\n",
       "      <th>16</th>\n",
       "      <td>0.17</td>\n",
       "      <td>1767.489380</td>\n",
       "    </tr>\n",
       "    <tr>\n",
       "      <th>14</th>\n",
       "      <td>0.15</td>\n",
       "      <td>1767.489624</td>\n",
       "    </tr>\n",
       "    <tr>\n",
       "      <th>15</th>\n",
       "      <td>0.16</td>\n",
       "      <td>1767.489685</td>\n",
       "    </tr>\n",
       "  </tbody>\n",
       "</table>\n",
       "</div>"
      ],
      "text/plain": [
       "      l1         rmse\n",
       "18  0.19  1767.489044\n",
       "17  0.18  1767.489227\n",
       "16  0.17  1767.489380\n",
       "14  0.15  1767.489624\n",
       "15  0.16  1767.489685"
      ]
     },
     "metadata": {},
     "output_type": "display_data"
    }
   ],
   "source": [
    "print(\"En iyi l1 değerleri:\")\n",
    "en_iyi_degerler = pd.DataFrame(list(zip(l1_params, rmses_l1)), columns=[\"l1\", \"rmse\"])\n",
    "display(en_iyi_degerler.sort_values('rmse').head())"
   ]
  },
  {
   "cell_type": "markdown",
   "id": "a179a350",
   "metadata": {},
   "source": [
    "**Let's also learn about MAE values.**"
   ]
  },
  {
   "cell_type": "code",
   "execution_count": 141,
   "id": "2a4f8143",
   "metadata": {},
   "outputs": [],
   "source": [
    "arac_fiyatlari_dmatrix = xgb.DMatrix(data=X, label=y)\n",
    "l1_params = np.arange(0.01, 0.2, 0.01)\n",
    "params = {\"objective\":\"reg:squarederror\",\"max_depth\":3}\n",
    "mae_l1 = []\n",
    "for alpha in l1_params:\n",
    "    params[\"alpha\"] = alpha\n",
    "    cv_mae = xgb.cv(dtrain=arac_fiyatlari_dmatrix, params=params, nfold=4, num_boost_round=100, \n",
    "                             metrics=\"mae\", as_pandas=True, early_stopping_rounds=10, seed=123)\n",
    "    mae_l1.append(cv_mae[\"test-mae-mean\"].tail(1).values[0])"
   ]
  },
  {
   "cell_type": "code",
   "execution_count": 142,
   "id": "1f2af5cc",
   "metadata": {},
   "outputs": [
    {
     "name": "stdout",
     "output_type": "stream",
     "text": [
      "En iyi l1 değerleri:\n"
     ]
    },
    {
     "data": {
      "text/html": [
       "<div>\n",
       "<style scoped>\n",
       "    .dataframe tbody tr th:only-of-type {\n",
       "        vertical-align: middle;\n",
       "    }\n",
       "\n",
       "    .dataframe tbody tr th {\n",
       "        vertical-align: top;\n",
       "    }\n",
       "\n",
       "    .dataframe thead th {\n",
       "        text-align: right;\n",
       "    }\n",
       "</style>\n",
       "<table border=\"1\" class=\"dataframe\">\n",
       "  <thead>\n",
       "    <tr style=\"text-align: right;\">\n",
       "      <th></th>\n",
       "      <th>l1</th>\n",
       "      <th>mae</th>\n",
       "    </tr>\n",
       "  </thead>\n",
       "  <tbody>\n",
       "    <tr>\n",
       "      <th>12</th>\n",
       "      <td>0.13</td>\n",
       "      <td>1214.444153</td>\n",
       "    </tr>\n",
       "    <tr>\n",
       "      <th>6</th>\n",
       "      <td>0.07</td>\n",
       "      <td>1214.444153</td>\n",
       "    </tr>\n",
       "    <tr>\n",
       "      <th>16</th>\n",
       "      <td>0.17</td>\n",
       "      <td>1214.444214</td>\n",
       "    </tr>\n",
       "    <tr>\n",
       "      <th>11</th>\n",
       "      <td>0.12</td>\n",
       "      <td>1214.444214</td>\n",
       "    </tr>\n",
       "    <tr>\n",
       "      <th>9</th>\n",
       "      <td>0.10</td>\n",
       "      <td>1214.444214</td>\n",
       "    </tr>\n",
       "  </tbody>\n",
       "</table>\n",
       "</div>"
      ],
      "text/plain": [
       "      l1          mae\n",
       "12  0.13  1214.444153\n",
       "6   0.07  1214.444153\n",
       "16  0.17  1214.444214\n",
       "11  0.12  1214.444214\n",
       "9   0.10  1214.444214"
      ]
     },
     "metadata": {},
     "output_type": "display_data"
    }
   ],
   "source": [
    "print(\"En iyi l1 değerleri:\")\n",
    "en_iyi_degerler = pd.DataFrame(list(zip(l1_params, mae_l1)), columns=[\"l1\", \"mae\"])\n",
    "display(en_iyi_degerler.sort_values('mae').head())"
   ]
  },
  {
   "cell_type": "markdown",
   "id": "bd07ac78",
   "metadata": {},
   "source": [
    "**Let's do regularization by changing alpha gamma and lambda values.**"
   ]
  },
  {
   "cell_type": "code",
   "execution_count": 143,
   "id": "0fd4c914",
   "metadata": {},
   "outputs": [],
   "source": [
    "arac_fiyatlari_dmatrix = xgb.DMatrix(data=X, label=y)\n",
    "l1_params = np.arange(0.01, 0.2, 0.01)\n",
    "params = {\"objective\":\"reg:squarederror\",\"max_depth\":3}\n",
    "rmses_l1 = []\n",
    "for alpha in l1_params:\n",
    "    params[\"alpha\"] = alpha\n",
    "    cv_rmse = xgb.cv(dtrain=arac_fiyatlari_dmatrix, params=params, nfold=4, num_boost_round=100, \n",
    "                             metrics=\"rmse\", as_pandas=True, early_stopping_rounds=10, seed=123)\n",
    "    rmses_l1.append(cv_rmse[\"test-rmse-mean\"].tail(1).values[0])"
   ]
  },
  {
   "cell_type": "code",
   "execution_count": 144,
   "id": "80bf530d",
   "metadata": {},
   "outputs": [
    {
     "name": "stdout",
     "output_type": "stream",
     "text": [
      "En iyi l1 değerleri:\n"
     ]
    },
    {
     "data": {
      "text/html": [
       "<div>\n",
       "<style scoped>\n",
       "    .dataframe tbody tr th:only-of-type {\n",
       "        vertical-align: middle;\n",
       "    }\n",
       "\n",
       "    .dataframe tbody tr th {\n",
       "        vertical-align: top;\n",
       "    }\n",
       "\n",
       "    .dataframe thead th {\n",
       "        text-align: right;\n",
       "    }\n",
       "</style>\n",
       "<table border=\"1\" class=\"dataframe\">\n",
       "  <thead>\n",
       "    <tr style=\"text-align: right;\">\n",
       "      <th></th>\n",
       "      <th>alpha</th>\n",
       "      <th>rmse</th>\n",
       "    </tr>\n",
       "  </thead>\n",
       "  <tbody>\n",
       "    <tr>\n",
       "      <th>18</th>\n",
       "      <td>0.19</td>\n",
       "      <td>1767.489044</td>\n",
       "    </tr>\n",
       "    <tr>\n",
       "      <th>17</th>\n",
       "      <td>0.18</td>\n",
       "      <td>1767.489227</td>\n",
       "    </tr>\n",
       "    <tr>\n",
       "      <th>16</th>\n",
       "      <td>0.17</td>\n",
       "      <td>1767.489380</td>\n",
       "    </tr>\n",
       "    <tr>\n",
       "      <th>14</th>\n",
       "      <td>0.15</td>\n",
       "      <td>1767.489624</td>\n",
       "    </tr>\n",
       "    <tr>\n",
       "      <th>15</th>\n",
       "      <td>0.16</td>\n",
       "      <td>1767.489685</td>\n",
       "    </tr>\n",
       "  </tbody>\n",
       "</table>\n",
       "</div>"
      ],
      "text/plain": [
       "    alpha         rmse\n",
       "18   0.19  1767.489044\n",
       "17   0.18  1767.489227\n",
       "16   0.17  1767.489380\n",
       "14   0.15  1767.489624\n",
       "15   0.16  1767.489685"
      ]
     },
     "metadata": {},
     "output_type": "display_data"
    }
   ],
   "source": [
    "print(\"En iyi l1 değerleri:\")\n",
    "en_iyi_degerler = pd.DataFrame(list(zip(l1_params, rmses_l1)), columns=[\"alpha\", \"rmse\"])\n",
    "display(en_iyi_degerler.sort_values('rmse').head())"
   ]
  },
  {
   "cell_type": "markdown",
   "id": "af366c8b",
   "metadata": {},
   "source": [
    "**Best alpha value is 0.19.**"
   ]
  },
  {
   "cell_type": "code",
   "execution_count": 145,
   "id": "d41348da",
   "metadata": {},
   "outputs": [],
   "source": [
    "arac_fiyatlari_dmatrix = xgb.DMatrix(data=X, label=y)\n",
    "l1_params = np.arange(0.001, 0.2, 0.01)\n",
    "params = {\"objective\":\"reg:squarederror\",\"max_depth\":3}\n",
    "rmses_l1 = []\n",
    "for alpha in l1_params:\n",
    "    params[\"gamma\"] = gamma\n",
    "    cv_rmse = xgb.cv(dtrain=arac_fiyatlari_dmatrix, params=params, nfold=4, num_boost_round=100, \n",
    "                             metrics=\"rmse\", as_pandas=True, early_stopping_rounds=10, seed=123)\n",
    "    rmses_l1.append(cv_rmse[\"test-rmse-mean\"].tail(1).values[0])"
   ]
  },
  {
   "cell_type": "code",
   "execution_count": 146,
   "id": "87721cd5",
   "metadata": {},
   "outputs": [
    {
     "name": "stdout",
     "output_type": "stream",
     "text": [
      "En iyi gamma değerleri:\n"
     ]
    },
    {
     "data": {
      "text/html": [
       "<div>\n",
       "<style scoped>\n",
       "    .dataframe tbody tr th:only-of-type {\n",
       "        vertical-align: middle;\n",
       "    }\n",
       "\n",
       "    .dataframe tbody tr th {\n",
       "        vertical-align: top;\n",
       "    }\n",
       "\n",
       "    .dataframe thead th {\n",
       "        text-align: right;\n",
       "    }\n",
       "</style>\n",
       "<table border=\"1\" class=\"dataframe\">\n",
       "  <thead>\n",
       "    <tr style=\"text-align: right;\">\n",
       "      <th></th>\n",
       "      <th>gamma</th>\n",
       "      <th>rmse</th>\n",
       "    </tr>\n",
       "  </thead>\n",
       "  <tbody>\n",
       "    <tr>\n",
       "      <th>0</th>\n",
       "      <td>0.001</td>\n",
       "      <td>1764.054474</td>\n",
       "    </tr>\n",
       "    <tr>\n",
       "      <th>17</th>\n",
       "      <td>0.171</td>\n",
       "      <td>1764.054474</td>\n",
       "    </tr>\n",
       "    <tr>\n",
       "      <th>16</th>\n",
       "      <td>0.161</td>\n",
       "      <td>1764.054474</td>\n",
       "    </tr>\n",
       "    <tr>\n",
       "      <th>15</th>\n",
       "      <td>0.151</td>\n",
       "      <td>1764.054474</td>\n",
       "    </tr>\n",
       "    <tr>\n",
       "      <th>14</th>\n",
       "      <td>0.141</td>\n",
       "      <td>1764.054474</td>\n",
       "    </tr>\n",
       "  </tbody>\n",
       "</table>\n",
       "</div>"
      ],
      "text/plain": [
       "    gamma         rmse\n",
       "0   0.001  1764.054474\n",
       "17  0.171  1764.054474\n",
       "16  0.161  1764.054474\n",
       "15  0.151  1764.054474\n",
       "14  0.141  1764.054474"
      ]
     },
     "metadata": {},
     "output_type": "display_data"
    }
   ],
   "source": [
    "print(\"En iyi gamma değerleri:\")\n",
    "en_iyi_degerler = pd.DataFrame(list(zip(l1_params, rmses_l1)), columns=[\"gamma\", \"rmse\"])\n",
    "display(en_iyi_degerler.sort_values('rmse').head())"
   ]
  },
  {
   "cell_type": "markdown",
   "id": "0114379e",
   "metadata": {},
   "source": [
    "**Best gamma value is 0.001**"
   ]
  },
  {
   "cell_type": "code",
   "execution_count": 147,
   "id": "3ad6d7d8",
   "metadata": {},
   "outputs": [],
   "source": [
    "import xgboost as xgb\n",
    "arac_fiyatlari_dmatrix = xgb.DMatrix(data=X, label=y)\n",
    "l2_params = np.arange(0.001, 0.2, 0.01)\n",
    "params = {\"objective\":\"reg:squarederror\",\"max_depth\":3}\n",
    "rmses_l2 = []\n",
    "for mylambda in l2_params:\n",
    "    params[\"lambda\"] = mylambda\n",
    "    cv_rmse = xgb.cv(dtrain=arac_fiyatlari_dmatrix, params=params, nfold=4, num_boost_round=100, \n",
    "                             metrics=\"rmse\", as_pandas=True, early_stopping_rounds=10, seed=123)\n",
    "    rmses_l2.append(cv_rmse[\"test-rmse-mean\"].tail(1).values[0])"
   ]
  },
  {
   "cell_type": "code",
   "execution_count": 148,
   "id": "0bc78a8b",
   "metadata": {},
   "outputs": [
    {
     "name": "stdout",
     "output_type": "stream",
     "text": [
      "En iyi lambda değerleri:\n"
     ]
    },
    {
     "data": {
      "text/html": [
       "<div>\n",
       "<style scoped>\n",
       "    .dataframe tbody tr th:only-of-type {\n",
       "        vertical-align: middle;\n",
       "    }\n",
       "\n",
       "    .dataframe tbody tr th {\n",
       "        vertical-align: top;\n",
       "    }\n",
       "\n",
       "    .dataframe thead th {\n",
       "        text-align: right;\n",
       "    }\n",
       "</style>\n",
       "<table border=\"1\" class=\"dataframe\">\n",
       "  <thead>\n",
       "    <tr style=\"text-align: right;\">\n",
       "      <th></th>\n",
       "      <th>lambda</th>\n",
       "      <th>rmse</th>\n",
       "    </tr>\n",
       "  </thead>\n",
       "  <tbody>\n",
       "    <tr>\n",
       "      <th>0</th>\n",
       "      <td>0.001</td>\n",
       "      <td>1666.866363</td>\n",
       "    </tr>\n",
       "    <tr>\n",
       "      <th>1</th>\n",
       "      <td>0.011</td>\n",
       "      <td>1670.813324</td>\n",
       "    </tr>\n",
       "    <tr>\n",
       "      <th>14</th>\n",
       "      <td>0.141</td>\n",
       "      <td>1699.432251</td>\n",
       "    </tr>\n",
       "    <tr>\n",
       "      <th>7</th>\n",
       "      <td>0.071</td>\n",
       "      <td>1706.538239</td>\n",
       "    </tr>\n",
       "    <tr>\n",
       "      <th>9</th>\n",
       "      <td>0.091</td>\n",
       "      <td>1727.618164</td>\n",
       "    </tr>\n",
       "  </tbody>\n",
       "</table>\n",
       "</div>"
      ],
      "text/plain": [
       "    lambda         rmse\n",
       "0    0.001  1666.866363\n",
       "1    0.011  1670.813324\n",
       "14   0.141  1699.432251\n",
       "7    0.071  1706.538239\n",
       "9    0.091  1727.618164"
      ]
     },
     "metadata": {},
     "output_type": "display_data"
    }
   ],
   "source": [
    "print(\"En iyi lambda değerleri:\")\n",
    "en_iyi_degerler = pd.DataFrame(list(zip(l2_params, rmses_l2)), columns=[\"lambda\", \"rmse\"])\n",
    "display(en_iyi_degerler.sort_values('rmse').head())"
   ]
  },
  {
   "cell_type": "markdown",
   "id": "fe832cbb",
   "metadata": {},
   "source": [
    "**Best lambda value is 1666.86**"
   ]
  },
  {
   "cell_type": "markdown",
   "id": "2a292dc8",
   "metadata": {},
   "source": [
    "**We can set hyperparameters with random search.**"
   ]
  },
  {
   "cell_type": "code",
   "execution_count": 151,
   "id": "37a79147",
   "metadata": {},
   "outputs": [],
   "source": [
    "parameters = {'objective':['reg:squarederror'],\n",
    "              'booster':['gbtree','gblinear'],\n",
    "              'learning_rate': [0.1], \n",
    "              'max_depth': [7,10,15,20],\n",
    "              'min_child_weight': [10,15,20,25],\n",
    "              'colsample_bytree': [0.8, 0.9, 1],\n",
    "              'n_estimators': [300,400,500,600],\n",
    "              \"reg_alpha\"   : [0.5,0.2,1],\n",
    "              \"reg_lambda\"  : [2,3,5],\n",
    "              \"gamma\"       : [1,2,3]}"
   ]
  },
  {
   "cell_type": "code",
   "execution_count": 152,
   "id": "a0eae32c",
   "metadata": {},
   "outputs": [
    {
     "name": "stdout",
     "output_type": "stream",
     "text": [
      "Fitting 5 folds for each of 15 candidates, totalling 75 fits\n"
     ]
    }
   ],
   "source": [
    "xgb_model = XGBRegressor(random_state=30)\n",
    "\n",
    "grid_obj_xgb = RandomizedSearchCV(xgb_model,parameters, cv=5,n_iter=15,scoring='neg_mean_absolute_error',verbose=5,n_jobs=12)\n",
    "grid_obj_xgb.fit(X_train, y_train,verbose = 1)\n",
    "\n",
    "y_pred_train = grid_obj_xgb.predict(X_train)\n",
    "y_pred_test = grid_obj_xgb.predict(X_test)\n",
    "\n",
    "err_xgb_train=mean_absolute_error(y_train, y_pred_train, multioutput='raw_values')"
   ]
  },
  {
   "cell_type": "code",
   "execution_count": 153,
   "id": "0282d63a",
   "metadata": {},
   "outputs": [
    {
     "name": "stdout",
     "output_type": "stream",
     "text": [
      "Best Parameters:  {'reg_lambda': 5, 'reg_alpha': 1, 'objective': 'reg:squarederror', 'n_estimators': 500, 'min_child_weight': 15, 'max_depth': 10, 'learning_rate': 0.1, 'gamma': 3, 'colsample_bytree': 0.9, 'booster': 'gbtree'}  \n",
      "\n"
     ]
    }
   ],
   "source": [
    "print ('Best Parameters: ', grid_obj_xgb.best_params_, ' \\n')"
   ]
  },
  {
   "cell_type": "markdown",
   "id": "ed9836eb",
   "metadata": {},
   "source": [
    "**Now let's calculate accuracy with these parameters.**"
   ]
  },
  {
   "cell_type": "code",
   "execution_count": 154,
   "id": "800a4393",
   "metadata": {},
   "outputs": [
    {
     "name": "stdout",
     "output_type": "stream",
     "text": [
      "RMSE değeri: 1971.60\n"
     ]
    }
   ],
   "source": [
    "from sklearn.metrics import mean_squared_error as MSE\n",
    "\n",
    "rmse_test = MSE(y_test, y_pred_test)**(1/2)\n",
    "print(\"RMSE değeri: {:.2f}\".format(rmse_test))"
   ]
  },
  {
   "cell_type": "code",
   "execution_count": 155,
   "id": "03e27128",
   "metadata": {},
   "outputs": [
    {
     "name": "stdout",
     "output_type": "stream",
     "text": [
      "Mean Absolute Error: 1394.96\n",
      "Accuracy: 87.229 %.\n"
     ]
    }
   ],
   "source": [
    "errors = abs(y_pred_test - y_test)\n",
    "print('Mean Absolute Error:', round(np.mean(errors), 2))\n",
    "mape = 100 * (errors / y_test)\n",
    "accuracy = 100 - np.mean(mape)\n",
    "print('Accuracy:', round(accuracy, 3), '%.')"
   ]
  },
  {
   "cell_type": "markdown",
   "id": "6b5db795",
   "metadata": {},
   "source": [
    "**Accuracy score is 87.23%.**"
   ]
  },
  {
   "cell_type": "markdown",
   "id": "2dddee3d",
   "metadata": {},
   "source": [
    "## Light GBM"
   ]
  },
  {
   "cell_type": "code",
   "execution_count": 163,
   "id": "5331ff90",
   "metadata": {},
   "outputs": [
    {
     "name": "stdout",
     "output_type": "stream",
     "text": [
      "Collecting lightgbm\n",
      "  Downloading lightgbm-3.3.1-py3-none-win_amd64.whl (1.0 MB)\n",
      "Requirement already satisfied: wheel in c:\\users\\seyma\\anaconda3\\lib\\site-packages (from lightgbm) (0.36.2)\n",
      "Requirement already satisfied: numpy in c:\\users\\seyma\\anaconda3\\lib\\site-packages (from lightgbm) (1.20.1)\n",
      "Requirement already satisfied: scipy in c:\\users\\seyma\\anaconda3\\lib\\site-packages (from lightgbm) (1.6.2)\n",
      "Requirement already satisfied: scikit-learn!=0.22.0 in c:\\users\\seyma\\anaconda3\\lib\\site-packages (from lightgbm) (0.24.1)\n",
      "Requirement already satisfied: joblib>=0.11 in c:\\users\\seyma\\anaconda3\\lib\\site-packages (from scikit-learn!=0.22.0->lightgbm) (1.0.1)\n",
      "Requirement already satisfied: threadpoolctl>=2.0.0 in c:\\users\\seyma\\anaconda3\\lib\\site-packages (from scikit-learn!=0.22.0->lightgbm) (2.1.0)\n",
      "Installing collected packages: lightgbm\n",
      "Successfully installed lightgbm-3.3.1\n",
      "Note: you may need to restart the kernel to use updated packages.\n"
     ]
    }
   ],
   "source": [
    "pip install lightgbm"
   ]
  },
  {
   "cell_type": "code",
   "execution_count": 189,
   "id": "6b8684c1",
   "metadata": {},
   "outputs": [
    {
     "name": "stdout",
     "output_type": "stream",
     "text": [
      "[LightGBM] [Warning] Auto-choosing col-wise multi-threading, the overhead of testing was 0.000200 seconds.\n",
      "You can set `force_col_wise=true` to remove the overhead.\n",
      "[LightGBM] [Warning] No further splits with positive gain, best gain: -inf\n",
      "Training until validation scores don't improve for 5 rounds\n",
      "[LightGBM] [Warning] No further splits with positive gain, best gain: -inf\n",
      "[LightGBM] [Warning] No further splits with positive gain, best gain: -inf\n",
      "[LightGBM] [Warning] No further splits with positive gain, best gain: -inf\n",
      "[LightGBM] [Warning] No further splits with positive gain, best gain: -inf\n",
      "[LightGBM] [Warning] No further splits with positive gain, best gain: -inf\n",
      "[LightGBM] [Warning] No further splits with positive gain, best gain: -inf\n",
      "[LightGBM] [Warning] No further splits with positive gain, best gain: -inf\n",
      "[LightGBM] [Warning] No further splits with positive gain, best gain: -inf\n",
      "[LightGBM] [Warning] No further splits with positive gain, best gain: -inf\n",
      "[LightGBM] [Warning] No further splits with positive gain, best gain: -inf\n",
      "[LightGBM] [Warning] No further splits with positive gain, best gain: -inf\n",
      "[LightGBM] [Warning] No further splits with positive gain, best gain: -inf\n",
      "[LightGBM] [Warning] No further splits with positive gain, best gain: -inf\n",
      "[LightGBM] [Warning] No further splits with positive gain, best gain: -inf\n",
      "[LightGBM] [Warning] No further splits with positive gain, best gain: -inf\n",
      "[LightGBM] [Warning] No further splits with positive gain, best gain: -inf\n",
      "[LightGBM] [Warning] No further splits with positive gain, best gain: -inf\n",
      "[LightGBM] [Warning] No further splits with positive gain, best gain: -inf\n",
      "[LightGBM] [Warning] No further splits with positive gain, best gain: -inf\n",
      "Did not meet early stopping. Best iteration is:\n",
      "[20]\tvalid_0's l2: 7.76339e+06\tvalid_0's l1: 2138.3\n",
      "The RMSE of prediction is: 2786.2857695335083\n"
     ]
    }
   ],
   "source": [
    "import lightgbm as lgb\n",
    "\n",
    "import warnings\n",
    "warnings.filterwarnings(\"once\")\n",
    "\n",
    "lgb_train = lgb.Dataset(X_train, y_train)\n",
    "lgb_eval = lgb.Dataset(X_test, y_test, reference=lgb_train)\n",
    "\n",
    "\n",
    "params = {\n",
    "    'boosting_type': 'gbdt',\n",
    "    'objective': 'regression',\n",
    "    'metric': {'l2', 'l1'},\n",
    "    'num_leaves': 31,\n",
    "    'learning_rate': 0.05,\n",
    "    'feature_fraction': 0.9,\n",
    "    'bagging_fraction': 0.8,\n",
    "    'bagging_freq': 5,\n",
    "    'verbose': 0\n",
    "}\n",
    "\n",
    "# train\n",
    "gbm = lgb.train(params,\n",
    "                lgb_train,\n",
    "                num_boost_round=20,\n",
    "                valid_sets=lgb_eval,\n",
    "                callbacks=[lgb.early_stopping(stopping_rounds=5)])\n",
    "gbm.save_model('model.txt')\n",
    "y_pred = gbm.predict(X_test, num_iteration=gbm.best_iteration)\n",
    "\n",
    "rmse_test = mean_squared_error(y_test, y_pred) ** 0.5\n",
    "print(f'The RMSE of prediction is: {rmse_test}')"
   ]
  },
  {
   "cell_type": "code",
   "execution_count": 190,
   "id": "898a0184",
   "metadata": {},
   "outputs": [
    {
     "name": "stdout",
     "output_type": "stream",
     "text": [
      "Mean Absolute Error: 2138.3\n",
      "Accuracy: 77.151 %.\n"
     ]
    },
    {
     "name": "stderr",
     "output_type": "stream",
     "text": [
      "C:\\Users\\seyma\\anaconda3\\lib\\site-packages\\ipykernel\\ipkernel.py:287: DeprecationWarning: `should_run_async` will not call `transform_cell` automatically in the future. Please pass the result to `transformed_cell` argument and any exception that happen during thetransform in `preprocessing_exc_tuple` in IPython 7.17 and above.\n",
      "  and should_run_async(code)\n"
     ]
    }
   ],
   "source": [
    "predictions = gbm.predict(X_test)\n",
    "errors = abs(predictions - y_test)\n",
    "print('Mean Absolute Error:', round(np.mean(errors), 2))\n",
    "mape = 100 * (errors / y_test)\n",
    "accuracy = 100 - np.mean(mape)\n",
    "print('Accuracy:', round(accuracy, 3), '%.')"
   ]
  },
  {
   "cell_type": "markdown",
   "id": "634b5c0b",
   "metadata": {},
   "source": [
    "## When we examined all the models, when we did a random search in Random Forest, the accuracy value was 91.945%, Mean Absolute Error: 867.14, RMSE value (Random Forest): 1303.69. This was the best model we got. That's why we choose this."
   ]
  },
  {
   "cell_type": "code",
   "execution_count": null,
   "id": "863ccf30",
   "metadata": {},
   "outputs": [],
   "source": []
  }
 ],
 "metadata": {
  "kernelspec": {
   "display_name": "Python 3",
   "language": "python",
   "name": "python3"
  },
  "language_info": {
   "codemirror_mode": {
    "name": "ipython",
    "version": 3
   },
   "file_extension": ".py",
   "mimetype": "text/x-python",
   "name": "python",
   "nbconvert_exporter": "python",
   "pygments_lexer": "ipython3",
   "version": "3.8.8"
  }
 },
 "nbformat": 4,
 "nbformat_minor": 5
}
